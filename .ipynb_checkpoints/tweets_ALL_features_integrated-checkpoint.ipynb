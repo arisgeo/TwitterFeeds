{
 "cells": [
  {
   "cell_type": "code",
   "execution_count": 0,
   "metadata": {
    "colab": {
     "base_uri": "https://localhost:8080/",
     "height": 34
    },
    "colab_type": "code",
    "executionInfo": {
     "elapsed": 1072,
     "status": "ok",
     "timestamp": 1586562107494,
     "user": {
      "displayName": "10710002夏婕禎",
      "photoUrl": "",
      "userId": "17941728896771621312"
     },
     "user_tz": -60
    },
    "id": "MveWOamypjJu",
    "outputId": "cfffe0f7-13b2-4bc6-ae77-488370150f34"
   },
   "outputs": [
    {
     "name": "stdout",
     "output_type": "stream",
     "text": [
      "Drive already mounted at /content/drive; to attempt to forcibly remount, call drive.mount(\"/content/drive\", force_remount=True).\n"
     ]
    }
   ],
   "source": [
    "from google.colab import drive\n",
    "drive.mount('/content/drive')"
   ]
  },
  {
   "cell_type": "code",
   "execution_count": 0,
   "metadata": {
    "colab": {},
    "colab_type": "code",
    "id": "uezlf5OFDwwO"
   },
   "outputs": [],
   "source": [
    "import numpy as np\n",
    "import pandas as pd\n",
    "pd.set_option('use_inf_as_na', True)\n",
    "import csv\n",
    "from datetime import datetime\n",
    "import re"
   ]
  },
  {
   "cell_type": "code",
   "execution_count": 0,
   "metadata": {
    "colab": {},
    "colab_type": "code",
    "id": "2MjJQ8bTDwwd"
   },
   "outputs": [],
   "source": [
    "### ADDED DATA INTO DATA FOLDER ON GDRIVE ###\n",
    "path_to_file = '/content/drive/My Drive/data/TwitterFeeds-master/'"
   ]
  },
  {
   "cell_type": "markdown",
   "metadata": {
    "colab_type": "text",
    "id": "4LDfLfs4Dwwo"
   },
   "source": [
    "**Lets start with user data and their features - any featured created using the tweet data can be joined later**"
   ]
  },
  {
   "cell_type": "markdown",
   "metadata": {
    "colab_type": "text",
    "id": "PiK72UcnDwwq"
   },
   "source": [
    "So this includes the 5000 accounts randomly sampled from our 'climate emergency' dataset and 18000 accounts which have been labelled as either bots or genuine users. (source?) The next steps are:\n",
    "\n",
    "- Load in the data and standardise columns - are there features that aren't in both and that we can find?\n",
    "- Apply the features we have created in relation to the user account details - again we can create more of these\n",
    "\n",
    "**Load in the tweet data (most 200 recent tweets ~ March 2020 for our sample, then variety for our training)**\n",
    "\n",
    "- Load in the tweet data for both samples and standardise columns etc\n",
    "- Apply the tweet based features we have created \n",
    "- Join these back to the user data - for example average words per tweet for each user etc\n",
    "- We can now apply a variety of supervised and unsupervised algorithms to the training data to apply to our random sample of 5000 users who contributed to the climate emergency debate during the time we collected data.\n",
    "- Literature suggests that unsupervised methods often produce better results: \n",
    " - fast greedy (Cresci et al., 2017)\n",
    " - digital DNA (Cresci et al., 2016)\n",
    " - graph clustering (Ahmed et al., 2013)\n",
    " \n",
    "Happy hunting!"
   ]
  },
  {
   "cell_type": "markdown",
   "metadata": {
    "colab_type": "text",
    "id": "lRMUeeevDwws"
   },
   "source": [
    "**Data folder in gdrive**\n",
    "\n",
    "- *5000_accounts_climate.csv* - the 5000 accounts from climate emergency with user features\n",
    "- *5000_tweets_climate.csv* - most recent 200 tweets from the 5000 accounts \n",
    "- *5000_tweets_frequency.csv* - features based on tweet frequency from the tweets of 5000 users\n",
    "- *training_users_tag.csv* - this is now the 18000 training data we have tweet data on as well\n",
    "- *training_tweets.txt* - most recent 200 tweets from the 18000 accounts columns = ['dt','text','tweetid','username']"
   ]
  },
  {
   "cell_type": "code",
   "execution_count": 0,
   "metadata": {
    "colab": {
     "base_uri": "https://localhost:8080/",
     "height": 168
    },
    "colab_type": "code",
    "executionInfo": {
     "elapsed": 1396,
     "status": "ok",
     "timestamp": 1586562107876,
     "user": {
      "displayName": "10710002夏婕禎",
      "photoUrl": "",
      "userId": "17941728896771621312"
     },
     "user_tz": -60
    },
    "id": "l7XeS0r9Dwwx",
    "outputId": "addf2c86-1556-4b8d-c83e-53bfd046fc5f"
   },
   "outputs": [
    {
     "data": {
      "text/html": [
       "<div>\n",
       "<style scoped>\n",
       "    .dataframe tbody tr th:only-of-type {\n",
       "        vertical-align: middle;\n",
       "    }\n",
       "\n",
       "    .dataframe tbody tr th {\n",
       "        vertical-align: top;\n",
       "    }\n",
       "\n",
       "    .dataframe thead th {\n",
       "        text-align: right;\n",
       "    }\n",
       "</style>\n",
       "<table border=\"1\" class=\"dataframe\">\n",
       "  <thead>\n",
       "    <tr style=\"text-align: right;\">\n",
       "      <th></th>\n",
       "      <th>id</th>\n",
       "      <th>name</th>\n",
       "      <th>username</th>\n",
       "      <th>location</th>\n",
       "      <th>url</th>\n",
       "      <th>description</th>\n",
       "      <th>verified</th>\n",
       "      <th>followers</th>\n",
       "      <th>friends</th>\n",
       "      <th>favourites_count</th>\n",
       "      <th>statuses_count</th>\n",
       "      <th>created_at</th>\n",
       "      <th>default_profile</th>\n",
       "      <th>default_profile_image</th>\n",
       "    </tr>\n",
       "  </thead>\n",
       "  <tbody>\n",
       "    <tr>\n",
       "      <th>0</th>\n",
       "      <td>1098803589609189376</td>\n",
       "      <td>💧The Cranky Croation</td>\n",
       "      <td>JohnSarich2</td>\n",
       "      <td>NaN</td>\n",
       "      <td>NaN</td>\n",
       "      <td>My First ever vote was for Gough Whitlam. Left...</td>\n",
       "      <td>False</td>\n",
       "      <td>430</td>\n",
       "      <td>291</td>\n",
       "      <td>14866</td>\n",
       "      <td>6039</td>\n",
       "      <td>2019-02-22 04:36:05</td>\n",
       "      <td>True</td>\n",
       "      <td>False</td>\n",
       "    </tr>\n",
       "  </tbody>\n",
       "</table>\n",
       "</div>"
      ],
      "text/plain": [
       "                    id  ... default_profile_image\n",
       "0  1098803589609189376  ...                 False\n",
       "\n",
       "[1 rows x 14 columns]"
      ]
     },
     "execution_count": 4,
     "metadata": {
      "tags": []
     },
     "output_type": "execute_result"
    }
   ],
   "source": [
    "# load in the 5000 users without additional features\n",
    "users_5000 = pd.read_csv(path_to_file + \"5000_accounts_climate.csv\")\n",
    "users_5000.head(1)"
   ]
  },
  {
   "cell_type": "code",
   "execution_count": 0,
   "metadata": {
    "colab": {
     "base_uri": "https://localhost:8080/",
     "height": 185
    },
    "colab_type": "code",
    "executionInfo": {
     "elapsed": 1810,
     "status": "ok",
     "timestamp": 1586562108312,
     "user": {
      "displayName": "10710002夏婕禎",
      "photoUrl": "",
      "userId": "17941728896771621312"
     },
     "user_tz": -60
    },
    "id": "T17aO9JpDww6",
    "outputId": "8ac2fed0-8318-4dc3-c7c1-802ee7285ab4"
   },
   "outputs": [
    {
     "data": {
      "text/html": [
       "<div>\n",
       "<style scoped>\n",
       "    .dataframe tbody tr th:only-of-type {\n",
       "        vertical-align: middle;\n",
       "    }\n",
       "\n",
       "    .dataframe tbody tr th {\n",
       "        vertical-align: top;\n",
       "    }\n",
       "\n",
       "    .dataframe thead th {\n",
       "        text-align: right;\n",
       "    }\n",
       "</style>\n",
       "<table border=\"1\" class=\"dataframe\">\n",
       "  <thead>\n",
       "    <tr style=\"text-align: right;\">\n",
       "      <th></th>\n",
       "      <th>Unnamed: 0</th>\n",
       "      <th>id</th>\n",
       "      <th>name</th>\n",
       "      <th>screen_name</th>\n",
       "      <th>statuses_count</th>\n",
       "      <th>followers_count</th>\n",
       "      <th>friends_count</th>\n",
       "      <th>favourites_count</th>\n",
       "      <th>listed_count</th>\n",
       "      <th>url</th>\n",
       "      <th>lang</th>\n",
       "      <th>time_zone</th>\n",
       "      <th>location</th>\n",
       "      <th>default_profile</th>\n",
       "      <th>default_profile_image</th>\n",
       "      <th>geo_enabled</th>\n",
       "      <th>profile_image_url</th>\n",
       "      <th>profile_banner_url</th>\n",
       "      <th>profile_use_background_image</th>\n",
       "      <th>profile_background_image_url_https</th>\n",
       "      <th>profile_text_color</th>\n",
       "      <th>profile_image_url_https</th>\n",
       "      <th>profile_sidebar_border_color</th>\n",
       "      <th>profile_background_tile</th>\n",
       "      <th>profile_sidebar_fill_color</th>\n",
       "      <th>profile_background_image_url</th>\n",
       "      <th>profile_background_color</th>\n",
       "      <th>profile_link_color</th>\n",
       "      <th>utc_offset</th>\n",
       "      <th>description</th>\n",
       "      <th>created_at</th>\n",
       "      <th>class</th>\n",
       "      <th>tag_stock</th>\n",
       "      <th>tag_politics</th>\n",
       "      <th>tag_pronbot</th>\n",
       "      <th>tag_business</th>\n",
       "      <th>tag_fake_follower</th>\n",
       "      <th>tag_spambot</th>\n",
       "      <th>tag_traditional_spambot</th>\n",
       "    </tr>\n",
       "  </thead>\n",
       "  <tbody>\n",
       "    <tr>\n",
       "      <th>0</th>\n",
       "      <td>0</td>\n",
       "      <td>418</td>\n",
       "      <td>Dennis Crowley</td>\n",
       "      <td>dens</td>\n",
       "      <td>69341</td>\n",
       "      <td>85422</td>\n",
       "      <td>2623</td>\n",
       "      <td>14990</td>\n",
       "      <td>4491</td>\n",
       "      <td>https://t.co/63fYABYs9J</td>\n",
       "      <td>en</td>\n",
       "      <td>NaN</td>\n",
       "      <td>NYC / Kingston</td>\n",
       "      <td>FALSE</td>\n",
       "      <td>FALSE</td>\n",
       "      <td>TRUE</td>\n",
       "      <td>http://pbs.twimg.com/profile_images/7536729177...</td>\n",
       "      <td>https://pbs.twimg.com/profile_banners/418/1398...</td>\n",
       "      <td>TRUE</td>\n",
       "      <td>https://abs.twimg.com/images/themes/theme1/bg.png</td>\n",
       "      <td>0</td>\n",
       "      <td>https://pbs.twimg.com/profile_images/753672917...</td>\n",
       "      <td>87BC44</td>\n",
       "      <td>TRUE</td>\n",
       "      <td>E0FF92</td>\n",
       "      <td>http://abs.twimg.com/images/themes/theme1/bg.png</td>\n",
       "      <td>FFFFFF</td>\n",
       "      <td>0000FF</td>\n",
       "      <td>NaN</td>\n",
       "      <td>I like to build things (@Foursquare📱, @Stockad...</td>\n",
       "      <td>Wed Jul 05 19:52:46 +0000 2006</td>\n",
       "      <td>human</td>\n",
       "      <td>0.0</td>\n",
       "      <td>0.0</td>\n",
       "      <td>0.0</td>\n",
       "      <td>0.0</td>\n",
       "      <td>0.0</td>\n",
       "      <td>0.0</td>\n",
       "      <td>0.0</td>\n",
       "    </tr>\n",
       "  </tbody>\n",
       "</table>\n",
       "</div>"
      ],
      "text/plain": [
       "   Unnamed: 0   id  ... tag_spambot tag_traditional_spambot\n",
       "0           0  418  ...         0.0                     0.0\n",
       "\n",
       "[1 rows x 39 columns]"
      ]
     },
     "execution_count": 5,
     "metadata": {
      "tags": []
     },
     "output_type": "execute_result"
    }
   ],
   "source": [
    "# These are the accounts (from training_users_tag) which we could source tweet data from training_tweets_tag\n",
    "users_train = pd.read_csv(path_to_file + \"training_users_tag.csv\")\n",
    "users_train.head(1)"
   ]
  },
  {
   "cell_type": "code",
   "execution_count": 0,
   "metadata": {
    "colab": {
     "base_uri": "https://localhost:8080/",
     "height": 34
    },
    "colab_type": "code",
    "executionInfo": {
     "elapsed": 1784,
     "status": "ok",
     "timestamp": 1586562108314,
     "user": {
      "displayName": "10710002夏婕禎",
      "photoUrl": "",
      "userId": "17941728896771621312"
     },
     "user_tz": -60
    },
    "id": "EemPUCjjDwxC",
    "outputId": "f0f4cf36-d6dd-46f6-ca15-eb21b6bb46cf"
   },
   "outputs": [
    {
     "name": "stdout",
     "output_type": "stream",
     "text": [
      "['username', 'verified', 'friends', 'followers'] are not in the training data!\n"
     ]
    }
   ],
   "source": [
    "# See what columns match\n",
    "a = users_5000.columns\n",
    "b = users_train.columns\n",
    "\n",
    "missing = list(set(a) - set(b))\n",
    "print(missing,'are not in the training data!')"
   ]
  },
  {
   "cell_type": "markdown",
   "metadata": {
    "colab_type": "text",
    "id": "Ai0WOBJsDwxI"
   },
   "source": [
    " - username = screen_name\n",
    " - followers = followers_count\n",
    " - no verified field\n",
    " - friends = friends_count"
   ]
  },
  {
   "cell_type": "code",
   "execution_count": 0,
   "metadata": {
    "colab": {},
    "colab_type": "code",
    "id": "MQ1Y2CxPDwxI"
   },
   "outputs": [],
   "source": [
    "# lets add the missing columns to our matches variable\n",
    "matches = list(set(a) & set(b))\n",
    "matches = matches + ['screen_name','followers_count','friends_count']"
   ]
  },
  {
   "cell_type": "code",
   "execution_count": 0,
   "metadata": {
    "colab": {
     "base_uri": "https://localhost:8080/",
     "height": 238
    },
    "colab_type": "code",
    "executionInfo": {
     "elapsed": 1751,
     "status": "ok",
     "timestamp": 1586562108315,
     "user": {
      "displayName": "10710002夏婕禎",
      "photoUrl": "",
      "userId": "17941728896771621312"
     },
     "user_tz": -60
    },
    "id": "LHU9hEm9sCWJ",
    "outputId": "bb8d3df9-1079-4191-82fa-f4a9cf4f2caf"
   },
   "outputs": [
    {
     "data": {
      "text/plain": [
       "['name',\n",
       " 'description',\n",
       " 'location',\n",
       " 'created_at',\n",
       " 'default_profile_image',\n",
       " 'favourites_count',\n",
       " 'statuses_count',\n",
       " 'default_profile',\n",
       " 'id',\n",
       " 'url',\n",
       " 'screen_name',\n",
       " 'followers_count',\n",
       " 'friends_count']"
      ]
     },
     "execution_count": 8,
     "metadata": {
      "tags": []
     },
     "output_type": "execute_result"
    }
   ],
   "source": [
    "matches"
   ]
  },
  {
   "cell_type": "code",
   "execution_count": 0,
   "metadata": {
    "colab": {},
    "colab_type": "code",
    "id": "-9bCpj5ODwxL"
   },
   "outputs": [],
   "source": [
    "# add the tag for just the class - tags for the type of bot\n",
    "tag = [users_train.columns[-8]]\n",
    "tags = list(users_train.columns[-8:])"
   ]
  },
  {
   "cell_type": "code",
   "execution_count": 0,
   "metadata": {
    "colab": {
     "base_uri": "https://localhost:8080/",
     "height": 51
    },
    "colab_type": "code",
    "executionInfo": {
     "elapsed": 1718,
     "status": "ok",
     "timestamp": 1586562108317,
     "user": {
      "displayName": "10710002夏婕禎",
      "photoUrl": "",
      "userId": "17941728896771621312"
     },
     "user_tz": -60
    },
    "id": "gjuOUfgtsL3g",
    "outputId": "4c652194-8caa-4152-fad3-9a4ce40af1ee"
   },
   "outputs": [
    {
     "name": "stdout",
     "output_type": "stream",
     "text": [
      "['class']\n",
      "['class', 'tag_stock', 'tag_politics', 'tag_pronbot', 'tag_business', 'tag_fake_follower', 'tag_spambot', 'tag_traditional_spambot']\n"
     ]
    }
   ],
   "source": [
    "print(tag)\n",
    "print(tags)"
   ]
  },
  {
   "cell_type": "code",
   "execution_count": 0,
   "metadata": {
    "colab": {
     "base_uri": "https://localhost:8080/",
     "height": 253
    },
    "colab_type": "code",
    "executionInfo": {
     "elapsed": 1698,
     "status": "ok",
     "timestamp": 1586562108318,
     "user": {
      "displayName": "10710002夏婕禎",
      "photoUrl": "",
      "userId": "17941728896771621312"
     },
     "user_tz": -60
    },
    "id": "RyDj-eBcDwxO",
    "outputId": "c7cc687a-29fe-46dd-a95c-396899c36550"
   },
   "outputs": [
    {
     "name": "stdout",
     "output_type": "stream",
     "text": [
      "Index(['name', 'description', 'location', 'created_at',\n",
      "       'default_profile_image', 'favourites_count', 'statuses_count',\n",
      "       'default_profile', 'id', 'url', 'screen_name', 'followers_count',\n",
      "       'friends_count', 'class'],\n",
      "      dtype='object')\n"
     ]
    },
    {
     "data": {
      "text/html": [
       "<div>\n",
       "<style scoped>\n",
       "    .dataframe tbody tr th:only-of-type {\n",
       "        vertical-align: middle;\n",
       "    }\n",
       "\n",
       "    .dataframe tbody tr th {\n",
       "        vertical-align: top;\n",
       "    }\n",
       "\n",
       "    .dataframe thead th {\n",
       "        text-align: right;\n",
       "    }\n",
       "</style>\n",
       "<table border=\"1\" class=\"dataframe\">\n",
       "  <thead>\n",
       "    <tr style=\"text-align: right;\">\n",
       "      <th></th>\n",
       "      <th>name</th>\n",
       "      <th>description</th>\n",
       "      <th>location</th>\n",
       "      <th>created_at</th>\n",
       "      <th>default_profile_image</th>\n",
       "      <th>favourites_count</th>\n",
       "      <th>statuses_count</th>\n",
       "      <th>default_profile</th>\n",
       "      <th>id</th>\n",
       "      <th>url</th>\n",
       "      <th>screen_name</th>\n",
       "      <th>followers_count</th>\n",
       "      <th>friends_count</th>\n",
       "      <th>class</th>\n",
       "    </tr>\n",
       "  </thead>\n",
       "  <tbody>\n",
       "    <tr>\n",
       "      <th>0</th>\n",
       "      <td>Dennis Crowley</td>\n",
       "      <td>I like to build things (@Foursquare📱, @Stockad...</td>\n",
       "      <td>NYC / Kingston</td>\n",
       "      <td>Wed Jul 05 19:52:46 +0000 2006</td>\n",
       "      <td>FALSE</td>\n",
       "      <td>14990</td>\n",
       "      <td>69341</td>\n",
       "      <td>FALSE</td>\n",
       "      <td>418</td>\n",
       "      <td>https://t.co/63fYABYs9J</td>\n",
       "      <td>dens</td>\n",
       "      <td>85422</td>\n",
       "      <td>2623</td>\n",
       "      <td>human</td>\n",
       "    </tr>\n",
       "  </tbody>\n",
       "</table>\n",
       "</div>"
      ],
      "text/plain": [
       "             name  ...  class\n",
       "0  Dennis Crowley  ...  human\n",
       "\n",
       "[1 rows x 14 columns]"
      ]
     },
     "execution_count": 11,
     "metadata": {
      "tags": []
     },
     "output_type": "execute_result"
    }
   ],
   "source": [
    "# add your choice to \n",
    "matches = matches + tag\n",
    "# apply this to the training data so we have standardised columns\n",
    "users_train_2 = users_train[matches]\n",
    "print(users_train_2.columns)\n",
    "users_train_2.head(1)"
   ]
  },
  {
   "cell_type": "code",
   "execution_count": 0,
   "metadata": {
    "colab": {},
    "colab_type": "code",
    "id": "QH5N26djDwxW"
   },
   "outputs": [],
   "source": [
    "# we'll drop verified for now, even though it will be useful - we can add back later.\n",
    "users_5000_2 = users_5000.drop(columns=['verified'])"
   ]
  },
  {
   "cell_type": "code",
   "execution_count": 0,
   "metadata": {
    "colab": {
     "base_uri": "https://localhost:8080/",
     "height": 253
    },
    "colab_type": "code",
    "executionInfo": {
     "elapsed": 2208,
     "status": "ok",
     "timestamp": 1586562108864,
     "user": {
      "displayName": "10710002夏婕禎",
      "photoUrl": "",
      "userId": "17941728896771621312"
     },
     "user_tz": -60
    },
    "id": "-LZiEUvNwOr7",
    "outputId": "c8a38374-51cc-483d-f927-fd357e421876"
   },
   "outputs": [
    {
     "name": "stderr",
     "output_type": "stream",
     "text": [
      "/usr/local/lib/python3.6/dist-packages/pandas/core/frame.py:4133: SettingWithCopyWarning: \n",
      "A value is trying to be set on a copy of a slice from a DataFrame\n",
      "\n",
      "See the caveats in the documentation: https://pandas.pydata.org/pandas-docs/stable/user_guide/indexing.html#returning-a-view-versus-a-copy\n",
      "  errors=errors,\n"
     ]
    },
    {
     "data": {
      "text/html": [
       "<div>\n",
       "<style scoped>\n",
       "    .dataframe tbody tr th:only-of-type {\n",
       "        vertical-align: middle;\n",
       "    }\n",
       "\n",
       "    .dataframe tbody tr th {\n",
       "        vertical-align: top;\n",
       "    }\n",
       "\n",
       "    .dataframe thead th {\n",
       "        text-align: right;\n",
       "    }\n",
       "</style>\n",
       "<table border=\"1\" class=\"dataframe\">\n",
       "  <thead>\n",
       "    <tr style=\"text-align: right;\">\n",
       "      <th></th>\n",
       "      <th>name</th>\n",
       "      <th>description</th>\n",
       "      <th>location</th>\n",
       "      <th>created_at</th>\n",
       "      <th>default_profile_image</th>\n",
       "      <th>favourites_count</th>\n",
       "      <th>statuses_count</th>\n",
       "      <th>default_profile</th>\n",
       "      <th>id</th>\n",
       "      <th>url</th>\n",
       "      <th>username</th>\n",
       "      <th>followers</th>\n",
       "      <th>friends</th>\n",
       "      <th>class</th>\n",
       "    </tr>\n",
       "  </thead>\n",
       "  <tbody>\n",
       "    <tr>\n",
       "      <th>0</th>\n",
       "      <td>Dennis Crowley</td>\n",
       "      <td>I like to build things (@Foursquare📱, @Stockad...</td>\n",
       "      <td>NYC / Kingston</td>\n",
       "      <td>Wed Jul 05 19:52:46 +0000 2006</td>\n",
       "      <td>FALSE</td>\n",
       "      <td>14990</td>\n",
       "      <td>69341</td>\n",
       "      <td>FALSE</td>\n",
       "      <td>418</td>\n",
       "      <td>https://t.co/63fYABYs9J</td>\n",
       "      <td>dens</td>\n",
       "      <td>85422</td>\n",
       "      <td>2623</td>\n",
       "      <td>human</td>\n",
       "    </tr>\n",
       "  </tbody>\n",
       "</table>\n",
       "</div>"
      ],
      "text/plain": [
       "             name  ...  class\n",
       "0  Dennis Crowley  ...  human\n",
       "\n",
       "[1 rows x 14 columns]"
      ]
     },
     "execution_count": 13,
     "metadata": {
      "tags": []
     },
     "output_type": "execute_result"
    }
   ],
   "source": [
    "# rename the columns to the same\n",
    "users_train_2.rename(columns={'screen_name': 'username', 'followers_count': 'followers', 'friends_count': 'friends'}, inplace=True)\n",
    "users_train_2.head(1)"
   ]
  },
  {
   "cell_type": "markdown",
   "metadata": {
    "colab_type": "text",
    "id": "R2_1oxSz3b7w"
   },
   "source": [
    "**Normalised data pre-processing.**"
   ]
  },
  {
   "cell_type": "code",
   "execution_count": 0,
   "metadata": {
    "colab": {
     "base_uri": "https://localhost:8080/",
     "height": 391
    },
    "colab_type": "code",
    "executionInfo": {
     "elapsed": 2185,
     "status": "ok",
     "timestamp": 1586562108865,
     "user": {
      "displayName": "10710002夏婕禎",
      "photoUrl": "",
      "userId": "17941728896771621312"
     },
     "user_tz": -60
    },
    "id": "Y6P_vpjM0XHZ",
    "outputId": "357b7897-f526-4364-ae9f-c1ce053e4445"
   },
   "outputs": [
    {
     "name": "stdout",
     "output_type": "stream",
     "text": [
      "<class 'pandas.core.frame.DataFrame'>\n",
      "RangeIndex: 19675 entries, 0 to 19674\n",
      "Data columns (total 14 columns):\n",
      " #   Column                 Non-Null Count  Dtype \n",
      "---  ------                 --------------  ----- \n",
      " 0   name                   19673 non-null  object\n",
      " 1   description            12898 non-null  object\n",
      " 2   location               11553 non-null  object\n",
      " 3   created_at             19675 non-null  object\n",
      " 4   default_profile_image  8185 non-null   object\n",
      " 5   favourites_count       19675 non-null  int64 \n",
      " 6   statuses_count         19675 non-null  int64 \n",
      " 7   default_profile        12097 non-null  object\n",
      " 8   id                     19675 non-null  int64 \n",
      " 9   url                    5646 non-null   object\n",
      " 10  username               19675 non-null  object\n",
      " 11  followers              19675 non-null  int64 \n",
      " 12  friends                19675 non-null  int64 \n",
      " 13  class                  19675 non-null  object\n",
      "dtypes: int64(5), object(9)\n",
      "memory usage: 2.1+ MB\n",
      "None\n"
     ]
    }
   ],
   "source": [
    "accounts_train = users_train_2\n",
    "del users_train_2\n",
    "print(accounts_train.info())"
   ]
  },
  {
   "cell_type": "code",
   "execution_count": 0,
   "metadata": {
    "colab": {
     "base_uri": "https://localhost:8080/",
     "height": 374
    },
    "colab_type": "code",
    "executionInfo": {
     "elapsed": 2166,
     "status": "ok",
     "timestamp": 1586562108866,
     "user": {
      "displayName": "10710002夏婕禎",
      "photoUrl": "",
      "userId": "17941728896771621312"
     },
     "user_tz": -60
    },
    "id": "qWS2ob09zgDQ",
    "outputId": "4d832f56-fbf8-4028-c601-8bd8154c2c97"
   },
   "outputs": [
    {
     "name": "stdout",
     "output_type": "stream",
     "text": [
      "<class 'pandas.core.frame.DataFrame'>\n",
      "RangeIndex: 4963 entries, 0 to 4962\n",
      "Data columns (total 13 columns):\n",
      " #   Column                 Non-Null Count  Dtype \n",
      "---  ------                 --------------  ----- \n",
      " 0   id                     4963 non-null   int64 \n",
      " 1   name                   4963 non-null   object\n",
      " 2   username               4963 non-null   object\n",
      " 3   location               3719 non-null   object\n",
      " 4   url                    2040 non-null   object\n",
      " 5   description            4314 non-null   object\n",
      " 6   followers              4963 non-null   int64 \n",
      " 7   friends                4963 non-null   int64 \n",
      " 8   favourites_count       4963 non-null   int64 \n",
      " 9   statuses_count         4963 non-null   int64 \n",
      " 10  created_at             4963 non-null   object\n",
      " 11  default_profile        4963 non-null   bool  \n",
      " 12  default_profile_image  4963 non-null   bool  \n",
      "dtypes: bool(2), int64(5), object(6)\n",
      "memory usage: 436.3+ KB\n",
      "None\n"
     ]
    }
   ],
   "source": [
    "accounts_test = users_5000_2\n",
    "del users_5000_2\n",
    "print(accounts_test.info())"
   ]
  },
  {
   "cell_type": "code",
   "execution_count": 0,
   "metadata": {
    "colab": {
     "base_uri": "https://localhost:8080/",
     "height": 374
    },
    "colab_type": "code",
    "executionInfo": {
     "elapsed": 2141,
     "status": "ok",
     "timestamp": 1586562108867,
     "user": {
      "displayName": "10710002夏婕禎",
      "photoUrl": "",
      "userId": "17941728896771621312"
     },
     "user_tz": -60
    },
    "id": "DhsmN-ro0qdi",
    "outputId": "98ea0358-0f5e-48e9-a411-7f55e091a9a3"
   },
   "outputs": [
    {
     "name": "stdout",
     "output_type": "stream",
     "text": [
      "<class 'pandas.core.frame.DataFrame'>\n",
      "RangeIndex: 19675 entries, 0 to 19674\n",
      "Data columns (total 14 columns):\n",
      " #   Column                 Non-Null Count  Dtype \n",
      "---  ------                 --------------  ----- \n",
      " 0   id                     19675 non-null  int64 \n",
      " 1   name                   19673 non-null  object\n",
      " 2   username               19675 non-null  object\n",
      " 3   location               11553 non-null  object\n",
      " 4   url                    5646 non-null   object\n",
      " 5   description            12898 non-null  object\n",
      " 6   followers              19675 non-null  int64 \n",
      " 7   friends                19675 non-null  int64 \n",
      " 8   favourites_count       19675 non-null  int64 \n",
      " 9   statuses_count         19675 non-null  int64 \n",
      " 10  created_at             19675 non-null  object\n",
      " 11  default_profile        12097 non-null  object\n",
      " 12  default_profile_image  8185 non-null   object\n",
      " 13  class                  19675 non-null  object\n",
      "dtypes: int64(5), object(9)\n",
      "memory usage: 2.1+ MB\n"
     ]
    }
   ],
   "source": [
    "# reorder the columns to be aligned\n",
    "col_order = accounts_test.columns.tolist()\n",
    "col_order.extend(['class'])\n",
    "accounts_train = accounts_train[col_order]\n",
    "accounts_train.info()"
   ]
  },
  {
   "cell_type": "code",
   "execution_count": 0,
   "metadata": {
    "colab": {
     "base_uri": "https://localhost:8080/",
     "height": 51
    },
    "colab_type": "code",
    "executionInfo": {
     "elapsed": 2118,
     "status": "ok",
     "timestamp": 1586562108868,
     "user": {
      "displayName": "10710002夏婕禎",
      "photoUrl": "",
      "userId": "17941728896771621312"
     },
     "user_tz": -60
    },
    "id": "tjImTgPW3-1v",
    "outputId": "ec5ea674-a4ed-42c5-9555-20d60ecd6c67"
   },
   "outputs": [
    {
     "name": "stdout",
     "output_type": "stream",
     "text": [
      "['FALSE' nan 'TRUE' '1']\n",
      "['FALSE' nan 'TRUE' '1']\n"
     ]
    }
   ],
   "source": [
    "print(accounts_train.default_profile.unique())\n",
    "print(accounts_train.default_profile_image.unique())"
   ]
  },
  {
   "cell_type": "code",
   "execution_count": 0,
   "metadata": {
    "colab": {},
    "colab_type": "code",
    "id": "AGnu5IqO3kzf"
   },
   "outputs": [],
   "source": [
    "# convert the boolean values to (0,1), keep NaN\n",
    "accounts_test['default_profile'] = accounts_test['default_profile']*1\n",
    "accounts_test['default_profile_image'] = accounts_test['default_profile_image']*1\n",
    "\n",
    "nan_value = accounts_train.isnull()\n",
    "accounts_train[['default_profile', 'default_profile_image']] = np.where(accounts_train[['default_profile', 'default_profile_image']].isin(['TRUE', '1']), 1, 0)\n",
    "accounts_train[nan_value] = np.NaN"
   ]
  },
  {
   "cell_type": "code",
   "execution_count": 0,
   "metadata": {
    "colab": {
     "base_uri": "https://localhost:8080/",
     "height": 748
    },
    "colab_type": "code",
    "executionInfo": {
     "elapsed": 2085,
     "status": "ok",
     "timestamp": 1586562108870,
     "user": {
      "displayName": "10710002夏婕禎",
      "photoUrl": "",
      "userId": "17941728896771621312"
     },
     "user_tz": -60
    },
    "id": "WfqRUvEK51TU",
    "outputId": "6b662a11-753d-4d68-f4d1-e1fc06520226"
   },
   "outputs": [
    {
     "name": "stdout",
     "output_type": "stream",
     "text": [
      "<class 'pandas.core.frame.DataFrame'>\n",
      "RangeIndex: 4963 entries, 0 to 4962\n",
      "Data columns (total 13 columns):\n",
      " #   Column                 Non-Null Count  Dtype \n",
      "---  ------                 --------------  ----- \n",
      " 0   id                     4963 non-null   int64 \n",
      " 1   name                   4963 non-null   object\n",
      " 2   username               4963 non-null   object\n",
      " 3   location               3719 non-null   object\n",
      " 4   url                    2040 non-null   object\n",
      " 5   description            4314 non-null   object\n",
      " 6   followers              4963 non-null   int64 \n",
      " 7   friends                4963 non-null   int64 \n",
      " 8   favourites_count       4963 non-null   int64 \n",
      " 9   statuses_count         4963 non-null   int64 \n",
      " 10  created_at             4963 non-null   object\n",
      " 11  default_profile        4963 non-null   int64 \n",
      " 12  default_profile_image  4963 non-null   int64 \n",
      "dtypes: int64(7), object(6)\n",
      "memory usage: 504.2+ KB\n",
      "None\n",
      "<class 'pandas.core.frame.DataFrame'>\n",
      "RangeIndex: 19675 entries, 0 to 19674\n",
      "Data columns (total 14 columns):\n",
      " #   Column                 Non-Null Count  Dtype  \n",
      "---  ------                 --------------  -----  \n",
      " 0   id                     19675 non-null  int64  \n",
      " 1   name                   19673 non-null  object \n",
      " 2   username               19675 non-null  object \n",
      " 3   location               11553 non-null  object \n",
      " 4   url                    5646 non-null   object \n",
      " 5   description            12898 non-null  object \n",
      " 6   followers              19675 non-null  int64  \n",
      " 7   friends                19675 non-null  int64  \n",
      " 8   favourites_count       19675 non-null  int64  \n",
      " 9   statuses_count         19675 non-null  int64  \n",
      " 10  created_at             19675 non-null  object \n",
      " 11  default_profile        12097 non-null  float64\n",
      " 12  default_profile_image  8185 non-null   float64\n",
      " 13  class                  19675 non-null  object \n",
      "dtypes: float64(2), int64(5), object(7)\n",
      "memory usage: 2.1+ MB\n",
      "None\n"
     ]
    }
   ],
   "source": [
    "print(accounts_test.info())\n",
    "print(accounts_train.info())"
   ]
  },
  {
   "cell_type": "markdown",
   "metadata": {
    "colab_type": "text",
    "id": "ItBRgUM-Dwxh"
   },
   "source": [
    "So we now have our training data and climate emergency accounts in a normalised format. Next job is to feature engineer both."
   ]
  },
  {
   "cell_type": "code",
   "execution_count": 0,
   "metadata": {
    "colab": {
     "base_uri": "https://localhost:8080/",
     "height": 394
    },
    "colab_type": "code",
    "executionInfo": {
     "elapsed": 2065,
     "status": "ok",
     "timestamp": 1586562108870,
     "user": {
      "displayName": "10710002夏婕禎",
      "photoUrl": "",
      "userId": "17941728896771621312"
     },
     "user_tz": -60
    },
    "id": "PP5TCnYs8xD5",
    "outputId": "5864dbe4-208b-424e-b605-fcb1180f15d4"
   },
   "outputs": [
    {
     "data": {
      "text/html": [
       "<div>\n",
       "<style scoped>\n",
       "    .dataframe tbody tr th:only-of-type {\n",
       "        vertical-align: middle;\n",
       "    }\n",
       "\n",
       "    .dataframe tbody tr th {\n",
       "        vertical-align: top;\n",
       "    }\n",
       "\n",
       "    .dataframe thead th {\n",
       "        text-align: right;\n",
       "    }\n",
       "</style>\n",
       "<table border=\"1\" class=\"dataframe\">\n",
       "  <thead>\n",
       "    <tr style=\"text-align: right;\">\n",
       "      <th></th>\n",
       "      <th>id</th>\n",
       "      <th>name</th>\n",
       "      <th>username</th>\n",
       "      <th>location</th>\n",
       "      <th>url</th>\n",
       "      <th>description</th>\n",
       "      <th>followers</th>\n",
       "      <th>friends</th>\n",
       "      <th>favourites_count</th>\n",
       "      <th>statuses_count</th>\n",
       "      <th>created_at</th>\n",
       "      <th>default_profile</th>\n",
       "      <th>default_profile_image</th>\n",
       "      <th>class</th>\n",
       "    </tr>\n",
       "  </thead>\n",
       "  <tbody>\n",
       "    <tr>\n",
       "      <th>0</th>\n",
       "      <td>418</td>\n",
       "      <td>Dennis Crowley</td>\n",
       "      <td>dens</td>\n",
       "      <td>NYC / Kingston</td>\n",
       "      <td>https://t.co/63fYABYs9J</td>\n",
       "      <td>I like to build things (@Foursquare📱, @Stockad...</td>\n",
       "      <td>85422</td>\n",
       "      <td>2623</td>\n",
       "      <td>14990</td>\n",
       "      <td>69341</td>\n",
       "      <td>Wed Jul 05 19:52:46 +0000 2006</td>\n",
       "      <td>0.0</td>\n",
       "      <td>0.0</td>\n",
       "      <td>human</td>\n",
       "    </tr>\n",
       "    <tr>\n",
       "      <th>1</th>\n",
       "      <td>586</td>\n",
       "      <td>Chris Sacca</td>\n",
       "      <td>sacca</td>\n",
       "      <td>The Rocky Mountains</td>\n",
       "      <td>NaN</td>\n",
       "      <td>I love @crystale &amp; our 3 girls. Used to invest...</td>\n",
       "      <td>1669241</td>\n",
       "      <td>1004</td>\n",
       "      <td>301974</td>\n",
       "      <td>71148</td>\n",
       "      <td>Thu Jul 13 09:05:49 +0000 2006</td>\n",
       "      <td>0.0</td>\n",
       "      <td>0.0</td>\n",
       "      <td>human</td>\n",
       "    </tr>\n",
       "    <tr>\n",
       "      <th>2</th>\n",
       "      <td>8557</td>\n",
       "      <td>Japhy Grant</td>\n",
       "      <td>japhygrant</td>\n",
       "      <td>Los Angeles, CA</td>\n",
       "      <td>https://t.co/jTIWv0ILjC</td>\n",
       "      <td>👨‍🚀🌵Founder, #WonderValleyProjects. Had a hand...</td>\n",
       "      <td>3207</td>\n",
       "      <td>122</td>\n",
       "      <td>8901</td>\n",
       "      <td>15191</td>\n",
       "      <td>Wed Oct 11 19:51:10 +0000 2006</td>\n",
       "      <td>0.0</td>\n",
       "      <td>0.0</td>\n",
       "      <td>human</td>\n",
       "    </tr>\n",
       "    <tr>\n",
       "      <th>3</th>\n",
       "      <td>12522</td>\n",
       "      <td>C.C. Chapman</td>\n",
       "      <td>cc_chapman</td>\n",
       "      <td>Boston, MA</td>\n",
       "      <td>NaN</td>\n",
       "      <td>Storyteller trying to leave it better than I f...</td>\n",
       "      <td>47372</td>\n",
       "      <td>22593</td>\n",
       "      <td>12468</td>\n",
       "      <td>139668</td>\n",
       "      <td>Wed Nov 15 15:03:14 +0000 2006</td>\n",
       "      <td>0.0</td>\n",
       "      <td>0.0</td>\n",
       "      <td>human</td>\n",
       "    </tr>\n",
       "    <tr>\n",
       "      <th>4</th>\n",
       "      <td>15913</td>\n",
       "      <td>Larry Hryb</td>\n",
       "      <td>majornelson</td>\n",
       "      <td>In your Xbox</td>\n",
       "      <td>https://t.co/UNpCOu2HKp</td>\n",
       "      <td>\"The Xbox Guy\" 🎮 • 💑@thehappygirl • Twitter &amp; ...</td>\n",
       "      <td>1127687</td>\n",
       "      <td>5</td>\n",
       "      <td>7</td>\n",
       "      <td>54804</td>\n",
       "      <td>Wed Nov 22 20:28:03 +0000 2006</td>\n",
       "      <td>0.0</td>\n",
       "      <td>0.0</td>\n",
       "      <td>human</td>\n",
       "    </tr>\n",
       "  </tbody>\n",
       "</table>\n",
       "</div>"
      ],
      "text/plain": [
       "      id            name  ... default_profile_image  class\n",
       "0    418  Dennis Crowley  ...                   0.0  human\n",
       "1    586     Chris Sacca  ...                   0.0  human\n",
       "2   8557     Japhy Grant  ...                   0.0  human\n",
       "3  12522    C.C. Chapman  ...                   0.0  human\n",
       "4  15913      Larry Hryb  ...                   0.0  human\n",
       "\n",
       "[5 rows x 14 columns]"
      ]
     },
     "execution_count": 20,
     "metadata": {
      "tags": []
     },
     "output_type": "execute_result"
    }
   ],
   "source": [
    "accounts_train.head()"
   ]
  },
  {
   "cell_type": "code",
   "execution_count": 0,
   "metadata": {
    "colab": {
     "base_uri": "https://localhost:8080/",
     "height": 479
    },
    "colab_type": "code",
    "executionInfo": {
     "elapsed": 2046,
     "status": "ok",
     "timestamp": 1586562108871,
     "user": {
      "displayName": "10710002夏婕禎",
      "photoUrl": "",
      "userId": "17941728896771621312"
     },
     "user_tz": -60
    },
    "id": "jd3isbb982Vh",
    "outputId": "24f69217-6f9a-4b2e-ce1b-e459d869291b"
   },
   "outputs": [
    {
     "data": {
      "text/html": [
       "<div>\n",
       "<style scoped>\n",
       "    .dataframe tbody tr th:only-of-type {\n",
       "        vertical-align: middle;\n",
       "    }\n",
       "\n",
       "    .dataframe tbody tr th {\n",
       "        vertical-align: top;\n",
       "    }\n",
       "\n",
       "    .dataframe thead th {\n",
       "        text-align: right;\n",
       "    }\n",
       "</style>\n",
       "<table border=\"1\" class=\"dataframe\">\n",
       "  <thead>\n",
       "    <tr style=\"text-align: right;\">\n",
       "      <th></th>\n",
       "      <th>id</th>\n",
       "      <th>name</th>\n",
       "      <th>username</th>\n",
       "      <th>location</th>\n",
       "      <th>url</th>\n",
       "      <th>description</th>\n",
       "      <th>followers</th>\n",
       "      <th>friends</th>\n",
       "      <th>favourites_count</th>\n",
       "      <th>statuses_count</th>\n",
       "      <th>created_at</th>\n",
       "      <th>default_profile</th>\n",
       "      <th>default_profile_image</th>\n",
       "    </tr>\n",
       "  </thead>\n",
       "  <tbody>\n",
       "    <tr>\n",
       "      <th>0</th>\n",
       "      <td>1098803589609189376</td>\n",
       "      <td>💧The Cranky Croation</td>\n",
       "      <td>JohnSarich2</td>\n",
       "      <td>NaN</td>\n",
       "      <td>NaN</td>\n",
       "      <td>My First ever vote was for Gough Whitlam. Left...</td>\n",
       "      <td>430</td>\n",
       "      <td>291</td>\n",
       "      <td>14866</td>\n",
       "      <td>6039</td>\n",
       "      <td>2019-02-22 04:36:05</td>\n",
       "      <td>1</td>\n",
       "      <td>0</td>\n",
       "    </tr>\n",
       "    <tr>\n",
       "      <th>1</th>\n",
       "      <td>191393940</td>\n",
       "      <td>FranS #RejoinEU #ElectoralReform 🇬🇧🇪🇺🇩🇪</td>\n",
       "      <td>FranS199</td>\n",
       "      <td>Earth</td>\n",
       "      <td>NaN</td>\n",
       "      <td>Love good food, good wine, great company. Hate...</td>\n",
       "      <td>4643</td>\n",
       "      <td>4904</td>\n",
       "      <td>257039</td>\n",
       "      <td>41696</td>\n",
       "      <td>2010-09-16 10:30:21</td>\n",
       "      <td>1</td>\n",
       "      <td>0</td>\n",
       "    </tr>\n",
       "    <tr>\n",
       "      <th>2</th>\n",
       "      <td>1185167241819676673</td>\n",
       "      <td>mbnvcxz</td>\n",
       "      <td>mbnvcxz2</td>\n",
       "      <td>NaN</td>\n",
       "      <td>NaN</td>\n",
       "      <td>NaN</td>\n",
       "      <td>0</td>\n",
       "      <td>3</td>\n",
       "      <td>1</td>\n",
       "      <td>8</td>\n",
       "      <td>2019-10-18 12:14:42</td>\n",
       "      <td>1</td>\n",
       "      <td>1</td>\n",
       "    </tr>\n",
       "    <tr>\n",
       "      <th>3</th>\n",
       "      <td>1220868357647368193</td>\n",
       "      <td>Noles-4-Life-In-SC</td>\n",
       "      <td>Noles4LifeInSC</td>\n",
       "      <td>NaN</td>\n",
       "      <td>NaN</td>\n",
       "      <td>Florida native living in Upstate South Carolin...</td>\n",
       "      <td>628</td>\n",
       "      <td>630</td>\n",
       "      <td>1852</td>\n",
       "      <td>1862</td>\n",
       "      <td>2020-01-25 00:39:20</td>\n",
       "      <td>1</td>\n",
       "      <td>0</td>\n",
       "    </tr>\n",
       "    <tr>\n",
       "      <th>4</th>\n",
       "      <td>347142932</td>\n",
       "      <td>Life Cycle UK</td>\n",
       "      <td>LifeCycleUKteam</td>\n",
       "      <td>Bristol</td>\n",
       "      <td>http://t.co/oCrHfe7xAg</td>\n",
       "      <td>Life Cycle UK is a Bristol-based charity that ...</td>\n",
       "      <td>3105</td>\n",
       "      <td>1645</td>\n",
       "      <td>3039</td>\n",
       "      <td>5349</td>\n",
       "      <td>2011-08-02 10:21:33</td>\n",
       "      <td>0</td>\n",
       "      <td>0</td>\n",
       "    </tr>\n",
       "  </tbody>\n",
       "</table>\n",
       "</div>"
      ],
      "text/plain": [
       "                    id  ... default_profile_image\n",
       "0  1098803589609189376  ...                     0\n",
       "1            191393940  ...                     0\n",
       "2  1185167241819676673  ...                     1\n",
       "3  1220868357647368193  ...                     0\n",
       "4            347142932  ...                     0\n",
       "\n",
       "[5 rows x 13 columns]"
      ]
     },
     "execution_count": 21,
     "metadata": {
      "tags": []
     },
     "output_type": "execute_result"
    }
   ],
   "source": [
    "accounts_test.head()"
   ]
  },
  {
   "cell_type": "code",
   "execution_count": 0,
   "metadata": {
    "colab": {},
    "colab_type": "code",
    "id": "Vv3EX1hbDwxi"
   },
   "outputs": [],
   "source": [
    "# create functions for adding features to both datasets - we can add more features as more are developed!"
   ]
  },
  {
   "cell_type": "code",
   "execution_count": 0,
   "metadata": {
    "colab": {
     "base_uri": "https://localhost:8080/",
     "height": 51
    },
    "colab_type": "code",
    "executionInfo": {
     "elapsed": 1988,
     "status": "ok",
     "timestamp": 1586562108875,
     "user": {
      "displayName": "10710002夏婕禎",
      "photoUrl": "",
      "userId": "17941728896771621312"
     },
     "user_tz": -60
    },
    "id": "eB_mZzxCDwxl",
    "outputId": "ce394c9f-4039-453d-b3f1-217fdc2b2552"
   },
   "outputs": [
    {
     "name": "stderr",
     "output_type": "stream",
     "text": [
      "/usr/local/lib/python3.6/dist-packages/ipykernel_launcher.py:1: FutureWarning: Columnar iteration over characters will be deprecated in future releases.\n",
      "  \"\"\"Entry point for launching an IPython kernel.\n"
     ]
    }
   ],
   "source": [
    "# days since account has been open\n",
    "accounts_test['date_created'], accounts_test['time'] = accounts_test['created_at'].str.split(' ', 1).str\n",
    "accounts_test['date_created'] = pd.to_datetime(accounts_test.date_created, format='%Y-%m-%d')\n",
    "accounts_test['day'] = ('2020-04-11')\n",
    "accounts_test['day'] = pd.to_datetime(accounts_test.day, format='%Y-%m-%d')\n",
    "accounts_test['days_active'] = (accounts_test['day'] - accounts_test['date_created']).dt.days\n",
    "\n",
    "if 'day' in accounts_test:\n",
    "    accounts_test = accounts_test.drop(columns=['time','day','created_at'])\n",
    "\n",
    "else:\n",
    "    accounts_test.head()"
   ]
  },
  {
   "cell_type": "code",
   "execution_count": 0,
   "metadata": {
    "colab": {
     "base_uri": "https://localhost:8080/",
     "height": 187
    },
    "colab_type": "code",
    "executionInfo": {
     "elapsed": 2658,
     "status": "ok",
     "timestamp": 1586562109565,
     "user": {
      "displayName": "10710002夏婕禎",
      "photoUrl": "",
      "userId": "17941728896771621312"
     },
     "user_tz": -60
    },
    "id": "UDEGSuzWDwxo",
    "outputId": "8a80932a-bf70-420a-a10e-ac705703eecc"
   },
   "outputs": [
    {
     "name": "stderr",
     "output_type": "stream",
     "text": [
      "/usr/local/lib/python3.6/dist-packages/ipykernel_launcher.py:2: SettingWithCopyWarning: \n",
      "A value is trying to be set on a copy of a slice from a DataFrame\n",
      "\n",
      "See the caveats in the documentation: https://pandas.pydata.org/pandas-docs/stable/user_guide/indexing.html#returning-a-view-versus-a-copy\n",
      "  \n",
      "/usr/local/lib/python3.6/dist-packages/ipykernel_launcher.py:9: SettingWithCopyWarning: \n",
      "A value is trying to be set on a copy of a slice from a DataFrame\n",
      "\n",
      "See the caveats in the documentation: https://pandas.pydata.org/pandas-docs/stable/user_guide/indexing.html#returning-a-view-versus-a-copy\n",
      "  if __name__ == '__main__':\n"
     ]
    }
   ],
   "source": [
    "# days since account has been open\n",
    "\n",
    "# deal with UNIX timestamp data\n",
    "l = accounts_train.created_at.apply(lambda x: x.endswith('L'))\n",
    "accounts_train.created_at[l] = accounts_train.created_at[l].str.replace('L', '')\n",
    "d = pd.to_datetime(accounts_train.created_at[l], unit='ms')\n",
    "d = d.apply(lambda x: datetime.strptime(str(x), '%Y-%m-%d %X').strftime('%Y-%m-%d'))\n",
    "d = pd.to_datetime(d, format='%Y-%m-%d')\n",
    "accounts_train.loc[d.index, 'date_created'] = d\n",
    "\n",
    "# deal with normal format data\n",
    "accounts_train.created_at[~l] = accounts_train.created_at[~l].apply(lambda x: datetime.strptime(x, '%a %b %d %X %z %Y').strftime('%Y-%m-%d'))\n",
    "d1 = pd.to_datetime(accounts_train.created_at[~l], format='%Y-%m-%d')\n",
    "accounts_train.loc[d1.index, 'date_created'] = d1\n",
    "\n",
    "accounts_train['day'] = pd.to_datetime('2020-04-11', format='%Y-%m-%d')\n",
    "accounts_train['days_active'] = (accounts_train['day'] - accounts_train['date_created']).dt.days\n",
    "\n",
    "if 'day' in accounts_train:\n",
    "    accounts_train = accounts_train.drop(columns=['day','created_at'])\n",
    "\n",
    "else:\n",
    "    accounts_train.head()"
   ]
  },
  {
   "cell_type": "code",
   "execution_count": 0,
   "metadata": {
    "colab": {
     "base_uri": "https://localhost:8080/",
     "height": 247
    },
    "colab_type": "code",
    "executionInfo": {
     "elapsed": 769,
     "status": "ok",
     "timestamp": 1586562166647,
     "user": {
      "displayName": "10710002夏婕禎",
      "photoUrl": "",
      "userId": "17941728896771621312"
     },
     "user_tz": -60
    },
    "id": "evR4LrvPYQPS",
    "outputId": "53edc20b-8a41-4768-82dd-82713cc8ea61"
   },
   "outputs": [
    {
     "data": {
      "text/html": [
       "<div>\n",
       "<style scoped>\n",
       "    .dataframe tbody tr th:only-of-type {\n",
       "        vertical-align: middle;\n",
       "    }\n",
       "\n",
       "    .dataframe tbody tr th {\n",
       "        vertical-align: top;\n",
       "    }\n",
       "\n",
       "    .dataframe thead th {\n",
       "        text-align: right;\n",
       "    }\n",
       "</style>\n",
       "<table border=\"1\" class=\"dataframe\">\n",
       "  <thead>\n",
       "    <tr style=\"text-align: right;\">\n",
       "      <th></th>\n",
       "      <th>id</th>\n",
       "      <th>name</th>\n",
       "      <th>username</th>\n",
       "      <th>location</th>\n",
       "      <th>url</th>\n",
       "      <th>description</th>\n",
       "      <th>followers</th>\n",
       "      <th>friends</th>\n",
       "      <th>favourites_count</th>\n",
       "      <th>statuses_count</th>\n",
       "      <th>default_profile</th>\n",
       "      <th>default_profile_image</th>\n",
       "      <th>class</th>\n",
       "      <th>date_created</th>\n",
       "      <th>days_active</th>\n",
       "      <th>followers_age</th>\n",
       "      <th>following_age</th>\n",
       "      <th>favourites_age</th>\n",
       "      <th>tweets_age</th>\n",
       "      <th>followers_ratio</th>\n",
       "    </tr>\n",
       "  </thead>\n",
       "  <tbody>\n",
       "    <tr>\n",
       "      <th>0</th>\n",
       "      <td>418</td>\n",
       "      <td>Dennis Crowley</td>\n",
       "      <td>dens</td>\n",
       "      <td>NYC / Kingston</td>\n",
       "      <td>https://t.co/63fYABYs9J</td>\n",
       "      <td>I like to build things (@Foursquare📱, @Stockad...</td>\n",
       "      <td>85422</td>\n",
       "      <td>2623</td>\n",
       "      <td>14990</td>\n",
       "      <td>69341</td>\n",
       "      <td>0.0</td>\n",
       "      <td>0.0</td>\n",
       "      <td>human</td>\n",
       "      <td>2006-07-05</td>\n",
       "      <td>5029</td>\n",
       "      <td>16.985882</td>\n",
       "      <td>0.521575</td>\n",
       "      <td>2.980712</td>\n",
       "      <td>13.788228</td>\n",
       "      <td>0.030706</td>\n",
       "    </tr>\n",
       "    <tr>\n",
       "      <th>1</th>\n",
       "      <td>586</td>\n",
       "      <td>Chris Sacca</td>\n",
       "      <td>sacca</td>\n",
       "      <td>The Rocky Mountains</td>\n",
       "      <td>NaN</td>\n",
       "      <td>I love @crystale &amp; our 3 girls. Used to invest...</td>\n",
       "      <td>1669241</td>\n",
       "      <td>1004</td>\n",
       "      <td>301974</td>\n",
       "      <td>71148</td>\n",
       "      <td>0.0</td>\n",
       "      <td>0.0</td>\n",
       "      <td>human</td>\n",
       "      <td>2006-07-13</td>\n",
       "      <td>5021</td>\n",
       "      <td>332.451902</td>\n",
       "      <td>0.199960</td>\n",
       "      <td>60.142203</td>\n",
       "      <td>14.170086</td>\n",
       "      <td>0.000601</td>\n",
       "    </tr>\n",
       "    <tr>\n",
       "      <th>2</th>\n",
       "      <td>8557</td>\n",
       "      <td>Japhy Grant</td>\n",
       "      <td>japhygrant</td>\n",
       "      <td>Los Angeles, CA</td>\n",
       "      <td>https://t.co/jTIWv0ILjC</td>\n",
       "      <td>👨‍🚀🌵Founder, #WonderValleyProjects. Had a hand...</td>\n",
       "      <td>3207</td>\n",
       "      <td>122</td>\n",
       "      <td>8901</td>\n",
       "      <td>15191</td>\n",
       "      <td>0.0</td>\n",
       "      <td>0.0</td>\n",
       "      <td>human</td>\n",
       "      <td>2006-10-11</td>\n",
       "      <td>4931</td>\n",
       "      <td>0.650375</td>\n",
       "      <td>0.024741</td>\n",
       "      <td>1.805111</td>\n",
       "      <td>3.080714</td>\n",
       "      <td>0.038042</td>\n",
       "    </tr>\n",
       "  </tbody>\n",
       "</table>\n",
       "</div>"
      ],
      "text/plain": [
       "     id            name  ... tweets_age followers_ratio\n",
       "0   418  Dennis Crowley  ...  13.788228        0.030706\n",
       "1   586     Chris Sacca  ...  14.170086        0.000601\n",
       "2  8557     Japhy Grant  ...   3.080714        0.038042\n",
       "\n",
       "[3 rows x 20 columns]"
      ]
     },
     "execution_count": 30,
     "metadata": {
      "tags": []
     },
     "output_type": "execute_result"
    }
   ],
   "source": [
    "# social figures in relation to account age\n",
    "accounts_train['followers_age'] = accounts_train['followers'] / accounts_train['days_active']\n",
    "accounts_train['following_age'] = accounts_train['friends'] / accounts_train['days_active']\n",
    "accounts_train['favourites_age'] = accounts_train['favourites_count'] / accounts_train['days_active']\n",
    "accounts_train['tweets_age'] = accounts_train['statuses_count'] / accounts_train['days_active']\n",
    "\n",
    "# following to follower ratio\n",
    "accounts_train['followers_ratio'] = accounts_train['friends'] / accounts_train['followers']\n",
    "\n",
    "accounts_train.head(3)"
   ]
  },
  {
   "cell_type": "code",
   "execution_count": 0,
   "metadata": {
    "colab": {
     "base_uri": "https://localhost:8080/",
     "height": 298
    },
    "colab_type": "code",
    "executionInfo": {
     "elapsed": 798,
     "status": "ok",
     "timestamp": 1586562176084,
     "user": {
      "displayName": "10710002夏婕禎",
      "photoUrl": "",
      "userId": "17941728896771621312"
     },
     "user_tz": -60
    },
    "id": "J8cw1QgUeP4v",
    "outputId": "b286c764-b10e-4aa5-bd18-791cbaffc696"
   },
   "outputs": [
    {
     "data": {
      "text/html": [
       "<div>\n",
       "<style scoped>\n",
       "    .dataframe tbody tr th:only-of-type {\n",
       "        vertical-align: middle;\n",
       "    }\n",
       "\n",
       "    .dataframe tbody tr th {\n",
       "        vertical-align: top;\n",
       "    }\n",
       "\n",
       "    .dataframe thead th {\n",
       "        text-align: right;\n",
       "    }\n",
       "</style>\n",
       "<table border=\"1\" class=\"dataframe\">\n",
       "  <thead>\n",
       "    <tr style=\"text-align: right;\">\n",
       "      <th></th>\n",
       "      <th>id</th>\n",
       "      <th>name</th>\n",
       "      <th>username</th>\n",
       "      <th>location</th>\n",
       "      <th>url</th>\n",
       "      <th>description</th>\n",
       "      <th>followers</th>\n",
       "      <th>friends</th>\n",
       "      <th>favourites_count</th>\n",
       "      <th>statuses_count</th>\n",
       "      <th>default_profile</th>\n",
       "      <th>default_profile_image</th>\n",
       "      <th>date_created</th>\n",
       "      <th>days_active</th>\n",
       "      <th>followers_age</th>\n",
       "      <th>following_age</th>\n",
       "      <th>favourites_age</th>\n",
       "      <th>tweets_age</th>\n",
       "      <th>followers_ratio</th>\n",
       "    </tr>\n",
       "  </thead>\n",
       "  <tbody>\n",
       "    <tr>\n",
       "      <th>0</th>\n",
       "      <td>1098803589609189376</td>\n",
       "      <td>💧The Cranky Croation</td>\n",
       "      <td>JohnSarich2</td>\n",
       "      <td>NaN</td>\n",
       "      <td>NaN</td>\n",
       "      <td>My First ever vote was for Gough Whitlam. Left...</td>\n",
       "      <td>430</td>\n",
       "      <td>291</td>\n",
       "      <td>14866</td>\n",
       "      <td>6039</td>\n",
       "      <td>1</td>\n",
       "      <td>0</td>\n",
       "      <td>2019-02-22</td>\n",
       "      <td>414</td>\n",
       "      <td>1.038647</td>\n",
       "      <td>0.702899</td>\n",
       "      <td>35.908213</td>\n",
       "      <td>14.586957</td>\n",
       "      <td>0.676744</td>\n",
       "    </tr>\n",
       "    <tr>\n",
       "      <th>1</th>\n",
       "      <td>191393940</td>\n",
       "      <td>FranS #RejoinEU #ElectoralReform 🇬🇧🇪🇺🇩🇪</td>\n",
       "      <td>FranS199</td>\n",
       "      <td>Earth</td>\n",
       "      <td>NaN</td>\n",
       "      <td>Love good food, good wine, great company. Hate...</td>\n",
       "      <td>4643</td>\n",
       "      <td>4904</td>\n",
       "      <td>257039</td>\n",
       "      <td>41696</td>\n",
       "      <td>1</td>\n",
       "      <td>0</td>\n",
       "      <td>2010-09-16</td>\n",
       "      <td>3495</td>\n",
       "      <td>1.328469</td>\n",
       "      <td>1.403147</td>\n",
       "      <td>73.544778</td>\n",
       "      <td>11.930186</td>\n",
       "      <td>1.056214</td>\n",
       "    </tr>\n",
       "    <tr>\n",
       "      <th>2</th>\n",
       "      <td>1185167241819676673</td>\n",
       "      <td>mbnvcxz</td>\n",
       "      <td>mbnvcxz2</td>\n",
       "      <td>NaN</td>\n",
       "      <td>NaN</td>\n",
       "      <td>NaN</td>\n",
       "      <td>0</td>\n",
       "      <td>3</td>\n",
       "      <td>1</td>\n",
       "      <td>8</td>\n",
       "      <td>1</td>\n",
       "      <td>1</td>\n",
       "      <td>2019-10-18</td>\n",
       "      <td>176</td>\n",
       "      <td>0.000000</td>\n",
       "      <td>0.017045</td>\n",
       "      <td>0.005682</td>\n",
       "      <td>0.045455</td>\n",
       "      <td>NaN</td>\n",
       "    </tr>\n",
       "  </tbody>\n",
       "</table>\n",
       "</div>"
      ],
      "text/plain": [
       "                    id  ... followers_ratio\n",
       "0  1098803589609189376  ...        0.676744\n",
       "1            191393940  ...        1.056214\n",
       "2  1185167241819676673  ...             NaN\n",
       "\n",
       "[3 rows x 19 columns]"
      ]
     },
     "execution_count": 31,
     "metadata": {
      "tags": []
     },
     "output_type": "execute_result"
    }
   ],
   "source": [
    "# social figures in relation to account age\n",
    "accounts_test['followers_age'] = accounts_test['followers'] / accounts_test['days_active']\n",
    "accounts_test['following_age'] = accounts_test['friends'] / accounts_test['days_active']\n",
    "accounts_test['favourites_age'] = accounts_test['favourites_count'] / accounts_test['days_active']\n",
    "accounts_test['tweets_age'] = accounts_test['statuses_count'] / accounts_test['days_active']\n",
    "\n",
    "# following to follower ratio\n",
    "accounts_test['followers_ratio'] = accounts_test['friends'] / accounts_test['followers']\n",
    "\n",
    "accounts_test.head(3)"
   ]
  },
  {
   "cell_type": "code",
   "execution_count": 0,
   "metadata": {
    "colab": {
     "base_uri": "https://localhost:8080/",
     "height": 462
    },
    "colab_type": "code",
    "executionInfo": {
     "elapsed": 945,
     "status": "ok",
     "timestamp": 1586562481335,
     "user": {
      "displayName": "10710002夏婕禎",
      "photoUrl": "",
      "userId": "17941728896771621312"
     },
     "user_tz": -60
    },
    "id": "9Ht6Vn9rff15",
    "outputId": "bfbc24d7-9b44-488a-d143-ecced8b28c9a"
   },
   "outputs": [
    {
     "data": {
      "text/html": [
       "<div>\n",
       "<style scoped>\n",
       "    .dataframe tbody tr th:only-of-type {\n",
       "        vertical-align: middle;\n",
       "    }\n",
       "\n",
       "    .dataframe tbody tr th {\n",
       "        vertical-align: top;\n",
       "    }\n",
       "\n",
       "    .dataframe thead th {\n",
       "        text-align: right;\n",
       "    }\n",
       "</style>\n",
       "<table border=\"1\" class=\"dataframe\">\n",
       "  <thead>\n",
       "    <tr style=\"text-align: right;\">\n",
       "      <th></th>\n",
       "      <th>id</th>\n",
       "      <th>name</th>\n",
       "      <th>username</th>\n",
       "      <th>location</th>\n",
       "      <th>url</th>\n",
       "      <th>description</th>\n",
       "      <th>followers</th>\n",
       "      <th>friends</th>\n",
       "      <th>favourites_count</th>\n",
       "      <th>statuses_count</th>\n",
       "      <th>default_profile</th>\n",
       "      <th>default_profile_image</th>\n",
       "      <th>date_created</th>\n",
       "      <th>days_active</th>\n",
       "      <th>followers_age</th>\n",
       "      <th>following_age</th>\n",
       "      <th>favourites_age</th>\n",
       "      <th>tweets_age</th>\n",
       "      <th>followers_ratio</th>\n",
       "      <th>username_char_len</th>\n",
       "      <th>name_ratio</th>\n",
       "      <th>username_int</th>\n",
       "      <th>username_char</th>\n",
       "      <th>username_other</th>\n",
       "      <th>username_int_end</th>\n",
       "      <th>name_int</th>\n",
       "    </tr>\n",
       "  </thead>\n",
       "  <tbody>\n",
       "    <tr>\n",
       "      <th>0</th>\n",
       "      <td>1098803589609189376</td>\n",
       "      <td>💧The Cranky Croation</td>\n",
       "      <td>JohnSarich2</td>\n",
       "      <td>NaN</td>\n",
       "      <td>NaN</td>\n",
       "      <td>My First ever vote was for Gough Whitlam. Left...</td>\n",
       "      <td>430</td>\n",
       "      <td>291</td>\n",
       "      <td>14866</td>\n",
       "      <td>6039</td>\n",
       "      <td>1</td>\n",
       "      <td>0</td>\n",
       "      <td>2019-02-22</td>\n",
       "      <td>414</td>\n",
       "      <td>1.038647</td>\n",
       "      <td>0.702899</td>\n",
       "      <td>35.908213</td>\n",
       "      <td>14.586957</td>\n",
       "      <td>0.676744</td>\n",
       "      <td>11</td>\n",
       "      <td>1.818182</td>\n",
       "      <td>1</td>\n",
       "      <td>10</td>\n",
       "      <td>0</td>\n",
       "      <td>1</td>\n",
       "      <td>0</td>\n",
       "    </tr>\n",
       "    <tr>\n",
       "      <th>1</th>\n",
       "      <td>191393940</td>\n",
       "      <td>FranS #RejoinEU #ElectoralReform 🇬🇧🇪🇺🇩🇪</td>\n",
       "      <td>FranS199</td>\n",
       "      <td>Earth</td>\n",
       "      <td>NaN</td>\n",
       "      <td>Love good food, good wine, great company. Hate...</td>\n",
       "      <td>4643</td>\n",
       "      <td>4904</td>\n",
       "      <td>257039</td>\n",
       "      <td>41696</td>\n",
       "      <td>1</td>\n",
       "      <td>0</td>\n",
       "      <td>2010-09-16</td>\n",
       "      <td>3495</td>\n",
       "      <td>1.328469</td>\n",
       "      <td>1.403147</td>\n",
       "      <td>73.544778</td>\n",
       "      <td>11.930186</td>\n",
       "      <td>1.056214</td>\n",
       "      <td>8</td>\n",
       "      <td>4.875000</td>\n",
       "      <td>3</td>\n",
       "      <td>5</td>\n",
       "      <td>0</td>\n",
       "      <td>3</td>\n",
       "      <td>0</td>\n",
       "    </tr>\n",
       "    <tr>\n",
       "      <th>2</th>\n",
       "      <td>1185167241819676673</td>\n",
       "      <td>mbnvcxz</td>\n",
       "      <td>mbnvcxz2</td>\n",
       "      <td>NaN</td>\n",
       "      <td>NaN</td>\n",
       "      <td>NaN</td>\n",
       "      <td>0</td>\n",
       "      <td>3</td>\n",
       "      <td>1</td>\n",
       "      <td>8</td>\n",
       "      <td>1</td>\n",
       "      <td>1</td>\n",
       "      <td>2019-10-18</td>\n",
       "      <td>176</td>\n",
       "      <td>0.000000</td>\n",
       "      <td>0.017045</td>\n",
       "      <td>0.005682</td>\n",
       "      <td>0.045455</td>\n",
       "      <td>NaN</td>\n",
       "      <td>8</td>\n",
       "      <td>0.875000</td>\n",
       "      <td>1</td>\n",
       "      <td>7</td>\n",
       "      <td>0</td>\n",
       "      <td>1</td>\n",
       "      <td>0</td>\n",
       "    </tr>\n",
       "    <tr>\n",
       "      <th>3</th>\n",
       "      <td>1220868357647368193</td>\n",
       "      <td>Noles-4-Life-In-SC</td>\n",
       "      <td>Noles4LifeInSC</td>\n",
       "      <td>NaN</td>\n",
       "      <td>NaN</td>\n",
       "      <td>Florida native living in Upstate South Carolin...</td>\n",
       "      <td>628</td>\n",
       "      <td>630</td>\n",
       "      <td>1852</td>\n",
       "      <td>1862</td>\n",
       "      <td>1</td>\n",
       "      <td>0</td>\n",
       "      <td>2020-01-25</td>\n",
       "      <td>77</td>\n",
       "      <td>8.155844</td>\n",
       "      <td>8.181818</td>\n",
       "      <td>24.051948</td>\n",
       "      <td>24.181818</td>\n",
       "      <td>1.003185</td>\n",
       "      <td>14</td>\n",
       "      <td>1.285714</td>\n",
       "      <td>1</td>\n",
       "      <td>13</td>\n",
       "      <td>0</td>\n",
       "      <td>0</td>\n",
       "      <td>1</td>\n",
       "    </tr>\n",
       "    <tr>\n",
       "      <th>4</th>\n",
       "      <td>347142932</td>\n",
       "      <td>Life Cycle UK</td>\n",
       "      <td>LifeCycleUKteam</td>\n",
       "      <td>Bristol</td>\n",
       "      <td>http://t.co/oCrHfe7xAg</td>\n",
       "      <td>Life Cycle UK is a Bristol-based charity that ...</td>\n",
       "      <td>3105</td>\n",
       "      <td>1645</td>\n",
       "      <td>3039</td>\n",
       "      <td>5349</td>\n",
       "      <td>0</td>\n",
       "      <td>0</td>\n",
       "      <td>2011-08-02</td>\n",
       "      <td>3175</td>\n",
       "      <td>0.977953</td>\n",
       "      <td>0.518110</td>\n",
       "      <td>0.957165</td>\n",
       "      <td>1.684724</td>\n",
       "      <td>0.529791</td>\n",
       "      <td>15</td>\n",
       "      <td>0.866667</td>\n",
       "      <td>0</td>\n",
       "      <td>15</td>\n",
       "      <td>0</td>\n",
       "      <td>0</td>\n",
       "      <td>0</td>\n",
       "    </tr>\n",
       "  </tbody>\n",
       "</table>\n",
       "</div>"
      ],
      "text/plain": [
       "                    id  ... name_int\n",
       "0  1098803589609189376  ...        0\n",
       "1            191393940  ...        0\n",
       "2  1185167241819676673  ...        0\n",
       "3  1220868357647368193  ...        1\n",
       "4            347142932  ...        0\n",
       "\n",
       "[5 rows x 26 columns]"
      ]
     },
     "execution_count": 35,
     "metadata": {
      "tags": []
     },
     "output_type": "execute_result"
    }
   ],
   "source": [
    "# username features - can only use A-Z, 0-9 and _ + not case-sensitive\n",
    "accounts_test['username_char_len'] = accounts_test['username'].str.len()\n",
    "\n",
    "# length of username in comparison to length of real name\n",
    "accounts_test['name_ratio'] = accounts_test['name'].str.len() / accounts_test['username'].str.len()\n",
    "    # amount of numbers in username\n",
    "username_int = []    \n",
    "for i in accounts_test['username']:\n",
    "    numbers = sum(c.isdigit() for c in i)\n",
    "    username_int.append(numbers)\n",
    "accounts_test['username_int'] = username_int\n",
    "\n",
    "    # amount of characters\n",
    "username_char = []    \n",
    "for i in accounts_test['username']:\n",
    "    char = sum(c.isalpha() for c in i)\n",
    "    username_char.append(char)\n",
    "accounts_test['username_char'] = username_char\n",
    "\n",
    "    # underscores \n",
    "accounts_test['username_other'] = accounts_test['username_char_len'] - (accounts_test['username_int'] + \n",
    "                                                                       accounts_test['username_char'])\n",
    "\n",
    "# amount of numbers at the end of username if there is any\n",
    "results = []\n",
    "\n",
    "for i in accounts_test['username']:\n",
    "    m = re.search(r'\\d+$', i)\n",
    "    if m is None:\n",
    "        results.append(0)\n",
    "    elif m is not None:\n",
    "        count = m.group()\n",
    "        results.append(len(count))\n",
    "\n",
    "accounts_test['username_int_end'] = results\n",
    "\n",
    "# amount of numbers in display name (not common for real users, but maybe for businesses!)\n",
    "name_int = []    \n",
    "for i in accounts_test['name']:\n",
    "    numbers = sum(c.isdigit() for c in i)\n",
    "    name_int.append(numbers)\n",
    "accounts_test['name_int'] = name_int\n",
    "\n",
    "# is there any cases of bots using techniques to make account details appear real, emoji flags, hashtags etc?\n",
    "accounts_test.head()"
   ]
  },
  {
   "cell_type": "code",
   "execution_count": 0,
   "metadata": {
    "colab": {
     "base_uri": "https://localhost:8080/",
     "height": 360
    },
    "colab_type": "code",
    "executionInfo": {
     "elapsed": 976,
     "status": "ok",
     "timestamp": 1586562894634,
     "user": {
      "displayName": "10710002夏婕禎",
      "photoUrl": "",
      "userId": "17941728896771621312"
     },
     "user_tz": -60
    },
    "id": "tpQitKNjeh8f",
    "outputId": "47c04a7f-ae22-425d-ecf3-34f409d33c27"
   },
   "outputs": [
    {
     "data": {
      "text/html": [
       "<div>\n",
       "<style scoped>\n",
       "    .dataframe tbody tr th:only-of-type {\n",
       "        vertical-align: middle;\n",
       "    }\n",
       "\n",
       "    .dataframe tbody tr th {\n",
       "        vertical-align: top;\n",
       "    }\n",
       "\n",
       "    .dataframe thead th {\n",
       "        text-align: right;\n",
       "    }\n",
       "</style>\n",
       "<table border=\"1\" class=\"dataframe\">\n",
       "  <thead>\n",
       "    <tr style=\"text-align: right;\">\n",
       "      <th></th>\n",
       "      <th>id</th>\n",
       "      <th>name</th>\n",
       "      <th>username</th>\n",
       "      <th>location</th>\n",
       "      <th>url</th>\n",
       "      <th>description</th>\n",
       "      <th>followers</th>\n",
       "      <th>friends</th>\n",
       "      <th>favourites_count</th>\n",
       "      <th>statuses_count</th>\n",
       "      <th>default_profile</th>\n",
       "      <th>default_profile_image</th>\n",
       "      <th>class</th>\n",
       "      <th>date_created</th>\n",
       "      <th>days_active</th>\n",
       "      <th>followers_age</th>\n",
       "      <th>following_age</th>\n",
       "      <th>favourites_age</th>\n",
       "      <th>tweets_age</th>\n",
       "      <th>followers_ratio</th>\n",
       "      <th>username_char_len</th>\n",
       "      <th>name_ratio</th>\n",
       "      <th>username_int</th>\n",
       "      <th>username_char</th>\n",
       "      <th>username_other</th>\n",
       "      <th>username_int_end</th>\n",
       "      <th>name_int</th>\n",
       "    </tr>\n",
       "  </thead>\n",
       "  <tbody>\n",
       "    <tr>\n",
       "      <th>0</th>\n",
       "      <td>418</td>\n",
       "      <td>Dennis Crowley</td>\n",
       "      <td>dens</td>\n",
       "      <td>NYC / Kingston</td>\n",
       "      <td>https://t.co/63fYABYs9J</td>\n",
       "      <td>I like to build things (@Foursquare📱, @Stockad...</td>\n",
       "      <td>85422</td>\n",
       "      <td>2623</td>\n",
       "      <td>14990</td>\n",
       "      <td>69341</td>\n",
       "      <td>0.0</td>\n",
       "      <td>0.0</td>\n",
       "      <td>human</td>\n",
       "      <td>2006-07-05</td>\n",
       "      <td>5029</td>\n",
       "      <td>16.985882</td>\n",
       "      <td>0.521575</td>\n",
       "      <td>2.980712</td>\n",
       "      <td>13.788228</td>\n",
       "      <td>0.030706</td>\n",
       "      <td>4</td>\n",
       "      <td>3.500000</td>\n",
       "      <td>0</td>\n",
       "      <td>4</td>\n",
       "      <td>0</td>\n",
       "      <td>0</td>\n",
       "      <td>0.0</td>\n",
       "    </tr>\n",
       "    <tr>\n",
       "      <th>1</th>\n",
       "      <td>586</td>\n",
       "      <td>Chris Sacca</td>\n",
       "      <td>sacca</td>\n",
       "      <td>The Rocky Mountains</td>\n",
       "      <td>NaN</td>\n",
       "      <td>I love @crystale &amp; our 3 girls. Used to invest...</td>\n",
       "      <td>1669241</td>\n",
       "      <td>1004</td>\n",
       "      <td>301974</td>\n",
       "      <td>71148</td>\n",
       "      <td>0.0</td>\n",
       "      <td>0.0</td>\n",
       "      <td>human</td>\n",
       "      <td>2006-07-13</td>\n",
       "      <td>5021</td>\n",
       "      <td>332.451902</td>\n",
       "      <td>0.199960</td>\n",
       "      <td>60.142203</td>\n",
       "      <td>14.170086</td>\n",
       "      <td>0.000601</td>\n",
       "      <td>5</td>\n",
       "      <td>2.200000</td>\n",
       "      <td>0</td>\n",
       "      <td>5</td>\n",
       "      <td>0</td>\n",
       "      <td>0</td>\n",
       "      <td>0.0</td>\n",
       "    </tr>\n",
       "    <tr>\n",
       "      <th>2</th>\n",
       "      <td>8557</td>\n",
       "      <td>Japhy Grant</td>\n",
       "      <td>japhygrant</td>\n",
       "      <td>Los Angeles, CA</td>\n",
       "      <td>https://t.co/jTIWv0ILjC</td>\n",
       "      <td>👨‍🚀🌵Founder, #WonderValleyProjects. Had a hand...</td>\n",
       "      <td>3207</td>\n",
       "      <td>122</td>\n",
       "      <td>8901</td>\n",
       "      <td>15191</td>\n",
       "      <td>0.0</td>\n",
       "      <td>0.0</td>\n",
       "      <td>human</td>\n",
       "      <td>2006-10-11</td>\n",
       "      <td>4931</td>\n",
       "      <td>0.650375</td>\n",
       "      <td>0.024741</td>\n",
       "      <td>1.805111</td>\n",
       "      <td>3.080714</td>\n",
       "      <td>0.038042</td>\n",
       "      <td>10</td>\n",
       "      <td>1.100000</td>\n",
       "      <td>0</td>\n",
       "      <td>10</td>\n",
       "      <td>0</td>\n",
       "      <td>0</td>\n",
       "      <td>0.0</td>\n",
       "    </tr>\n",
       "    <tr>\n",
       "      <th>3</th>\n",
       "      <td>12522</td>\n",
       "      <td>C.C. Chapman</td>\n",
       "      <td>cc_chapman</td>\n",
       "      <td>Boston, MA</td>\n",
       "      <td>NaN</td>\n",
       "      <td>Storyteller trying to leave it better than I f...</td>\n",
       "      <td>47372</td>\n",
       "      <td>22593</td>\n",
       "      <td>12468</td>\n",
       "      <td>139668</td>\n",
       "      <td>0.0</td>\n",
       "      <td>0.0</td>\n",
       "      <td>human</td>\n",
       "      <td>2006-11-15</td>\n",
       "      <td>4896</td>\n",
       "      <td>9.675654</td>\n",
       "      <td>4.614583</td>\n",
       "      <td>2.546569</td>\n",
       "      <td>28.526961</td>\n",
       "      <td>0.476927</td>\n",
       "      <td>10</td>\n",
       "      <td>1.200000</td>\n",
       "      <td>0</td>\n",
       "      <td>9</td>\n",
       "      <td>1</td>\n",
       "      <td>0</td>\n",
       "      <td>0.0</td>\n",
       "    </tr>\n",
       "    <tr>\n",
       "      <th>4</th>\n",
       "      <td>15913</td>\n",
       "      <td>Larry Hryb</td>\n",
       "      <td>majornelson</td>\n",
       "      <td>In your Xbox</td>\n",
       "      <td>https://t.co/UNpCOu2HKp</td>\n",
       "      <td>\"The Xbox Guy\" 🎮 • 💑@thehappygirl • Twitter &amp; ...</td>\n",
       "      <td>1127687</td>\n",
       "      <td>5</td>\n",
       "      <td>7</td>\n",
       "      <td>54804</td>\n",
       "      <td>0.0</td>\n",
       "      <td>0.0</td>\n",
       "      <td>human</td>\n",
       "      <td>2006-11-22</td>\n",
       "      <td>4889</td>\n",
       "      <td>230.658008</td>\n",
       "      <td>0.001023</td>\n",
       "      <td>0.001432</td>\n",
       "      <td>11.209654</td>\n",
       "      <td>0.000004</td>\n",
       "      <td>11</td>\n",
       "      <td>0.909091</td>\n",
       "      <td>0</td>\n",
       "      <td>11</td>\n",
       "      <td>0</td>\n",
       "      <td>0</td>\n",
       "      <td>0.0</td>\n",
       "    </tr>\n",
       "  </tbody>\n",
       "</table>\n",
       "</div>"
      ],
      "text/plain": [
       "      id            name  ... username_int_end name_int\n",
       "0    418  Dennis Crowley  ...                0      0.0\n",
       "1    586     Chris Sacca  ...                0      0.0\n",
       "2   8557     Japhy Grant  ...                0      0.0\n",
       "3  12522    C.C. Chapman  ...                0      0.0\n",
       "4  15913      Larry Hryb  ...                0      0.0\n",
       "\n",
       "[5 rows x 27 columns]"
      ]
     },
     "execution_count": 43,
     "metadata": {
      "tags": []
     },
     "output_type": "execute_result"
    }
   ],
   "source": [
    "# username features - can only use A-Z, 0-9 and _ + not case-sensitive\n",
    "accounts_train['username_char_len'] = accounts_train['username'].str.len()\n",
    "\n",
    "# length of username in comparison to length of real name\n",
    "accounts_train['name_ratio'] = accounts_train['name'].str.len() / accounts_train['username'].str.len()\n",
    "    # amount of numbers in username\n",
    "username_int = []    \n",
    "for i in accounts_train['username']:\n",
    "    numbers = sum(c.isdigit() for c in i)\n",
    "    username_int.append(numbers)\n",
    "accounts_train['username_int'] = username_int\n",
    "\n",
    "    # amount of characters\n",
    "username_char = []    \n",
    "for i in accounts_train['username']:\n",
    "    char = sum(c.isalpha() for c in i)\n",
    "    username_char.append(char)\n",
    "accounts_train['username_char'] = username_char\n",
    "\n",
    "    # underscores \n",
    "accounts_train['username_other'] = accounts_train['username_char_len'] - (accounts_train['username_int'] + \n",
    "                                                                       accounts_train['username_char'])\n",
    "\n",
    "# amount of numbers at the end of username if there is any\n",
    "results = []\n",
    "\n",
    "for i in accounts_train['username']:\n",
    "    m = re.search(r'\\d+$', i)\n",
    "    if m is None:\n",
    "        results.append(0)\n",
    "    elif m is not None:\n",
    "        count = m.group()\n",
    "        results.append(len(count))\n",
    "\n",
    "accounts_train['username_int_end'] = results\n",
    "\n",
    "# amount of numbers in display name (not common for real users, but maybe for businesses!)\n",
    "name_int = []    \n",
    "for i in accounts_train['name']:\n",
    "  if pd.isnull(i):\n",
    "    name_int.append(np.NaN)\n",
    "  else:\n",
    "    numbers = sum(c.isdigit() for c in i)\n",
    "    name_int.append(numbers)\n",
    "accounts_train['name_int'] = name_int\n",
    "\n",
    "# is there any cases of bots using techniques to make account details appear real, emoji flags, hashtags etc?\n",
    "accounts_train.head()"
   ]
  },
  {
   "cell_type": "code",
   "execution_count": 0,
   "metadata": {
    "colab": {
     "base_uri": "https://localhost:8080/",
     "height": 1000
    },
    "colab_type": "code",
    "executionInfo": {
     "elapsed": 1522,
     "status": "ok",
     "timestamp": 1586563131011,
     "user": {
      "displayName": "10710002夏婕禎",
      "photoUrl": "",
      "userId": "17941728896771621312"
     },
     "user_tz": -60
    },
    "id": "dn3HKyI1h-gF",
    "outputId": "d9b0ddee-b0da-4778-e051-4935aac9d165"
   },
   "outputs": [
    {
     "name": "stdout",
     "output_type": "stream",
     "text": [
      "<class 'pandas.core.frame.DataFrame'>\n",
      "RangeIndex: 19675 entries, 0 to 19674\n",
      "Data columns (total 27 columns):\n",
      " #   Column                 Non-Null Count  Dtype         \n",
      "---  ------                 --------------  -----         \n",
      " 0   id                     19675 non-null  int64         \n",
      " 1   name                   19673 non-null  object        \n",
      " 2   username               19675 non-null  object        \n",
      " 3   location               11553 non-null  object        \n",
      " 4   url                    5646 non-null   object        \n",
      " 5   description            12898 non-null  object        \n",
      " 6   followers              19675 non-null  int64         \n",
      " 7   friends                19675 non-null  int64         \n",
      " 8   favourites_count       19675 non-null  int64         \n",
      " 9   statuses_count         19675 non-null  int64         \n",
      " 10  default_profile        12097 non-null  float64       \n",
      " 11  default_profile_image  8185 non-null   float64       \n",
      " 12  class                  19675 non-null  object        \n",
      " 13  date_created           19675 non-null  datetime64[ns]\n",
      " 14  days_active            19675 non-null  int64         \n",
      " 15  followers_age          19675 non-null  float64       \n",
      " 16  following_age          19675 non-null  float64       \n",
      " 17  favourites_age         19675 non-null  float64       \n",
      " 18  tweets_age             19675 non-null  float64       \n",
      " 19  followers_ratio        19233 non-null  float64       \n",
      " 20  username_char_len      19675 non-null  int64         \n",
      " 21  name_ratio             19673 non-null  float64       \n",
      " 22  username_int           19675 non-null  int64         \n",
      " 23  username_char          19675 non-null  int64         \n",
      " 24  username_other         19675 non-null  int64         \n",
      " 25  username_int_end       19675 non-null  int64         \n",
      " 26  name_int               19673 non-null  float64       \n",
      "dtypes: datetime64[ns](1), float64(9), int64(11), object(6)\n",
      "memory usage: 4.1+ MB\n",
      "None\n",
      "<class 'pandas.core.frame.DataFrame'>\n",
      "RangeIndex: 4963 entries, 0 to 4962\n",
      "Data columns (total 26 columns):\n",
      " #   Column                 Non-Null Count  Dtype         \n",
      "---  ------                 --------------  -----         \n",
      " 0   id                     4963 non-null   int64         \n",
      " 1   name                   4963 non-null   object        \n",
      " 2   username               4963 non-null   object        \n",
      " 3   location               3719 non-null   object        \n",
      " 4   url                    2040 non-null   object        \n",
      " 5   description            4314 non-null   object        \n",
      " 6   followers              4963 non-null   int64         \n",
      " 7   friends                4963 non-null   int64         \n",
      " 8   favourites_count       4963 non-null   int64         \n",
      " 9   statuses_count         4963 non-null   int64         \n",
      " 10  default_profile        4963 non-null   int64         \n",
      " 11  default_profile_image  4963 non-null   int64         \n",
      " 12  date_created           4963 non-null   datetime64[ns]\n",
      " 13  days_active            4963 non-null   int64         \n",
      " 14  followers_age          4963 non-null   float64       \n",
      " 15  following_age          4963 non-null   float64       \n",
      " 16  favourites_age         4963 non-null   float64       \n",
      " 17  tweets_age             4963 non-null   float64       \n",
      " 18  followers_ratio        4899 non-null   float64       \n",
      " 19  username_char_len      4963 non-null   int64         \n",
      " 20  name_ratio             4963 non-null   float64       \n",
      " 21  username_int           4963 non-null   int64         \n",
      " 22  username_char          4963 non-null   int64         \n",
      " 23  username_other         4963 non-null   int64         \n",
      " 24  username_int_end       4963 non-null   int64         \n",
      " 25  name_int               4963 non-null   int64         \n",
      "dtypes: datetime64[ns](1), float64(6), int64(14), object(5)\n",
      "memory usage: 1008.2+ KB\n",
      "None\n"
     ]
    }
   ],
   "source": [
    "print(accounts_train.info())\n",
    "print(accounts_test.info())"
   ]
  },
  {
   "cell_type": "markdown",
   "metadata": {
    "colab_type": "text",
    "id": "09BMQGcADwxu"
   },
   "source": [
    "**Lets load in the additional features created using the recent tweets of each user**\n",
    "\n",
    "Don't load in the actual tweets - 5000 + 18000 * 200 = a bit too much"
   ]
  },
  {
   "cell_type": "code",
   "execution_count": 0,
   "metadata": {
    "colab": {},
    "colab_type": "code",
    "id": "X9kdWZoqDwxv"
   },
   "outputs": [],
   "source": [
    "# load in csvs of tweet related features aggregated by username which we can join without loading alot of tweets in"
   ]
  },
  {
   "cell_type": "code",
   "execution_count": 0,
   "metadata": {
    "colab": {},
    "colab_type": "code",
    "id": "HKwmUSMADwxx"
   },
   "outputs": [],
   "source": [
    "# # tweet_frequency for both datasets\n",
    "# frequency_5000 = pd.read_csv(path_to_file + '5000_tweets_frequency.csv')\n",
    "# #frequency_users = pd.read_csv(path_to_file + \"training_tweets_frequency.csv\")"
   ]
  },
  {
   "cell_type": "code",
   "execution_count": 0,
   "metadata": {
    "colab": {},
    "colab_type": "code",
    "id": "n5-EaIbRDwx2"
   },
   "outputs": [],
   "source": []
  },
  {
   "cell_type": "code",
   "execution_count": 0,
   "metadata": {
    "colab": {},
    "colab_type": "code",
    "id": "clSKCbNbDwx5"
   },
   "outputs": [],
   "source": []
  },
  {
   "cell_type": "code",
   "execution_count": 0,
   "metadata": {
    "colab": {},
    "colab_type": "code",
    "id": "cGXzZQtsDwx8"
   },
   "outputs": [],
   "source": []
  },
  {
   "cell_type": "code",
   "execution_count": 0,
   "metadata": {
    "colab": {},
    "colab_type": "code",
    "id": "mLZ5CZraDwx_"
   },
   "outputs": [],
   "source": []
  }
 ],
 "metadata": {
  "colab": {
   "collapsed_sections": [],
   "name": "tweets_ALL_features_integrated.ipynb",
   "provenance": []
  },
  "kernelspec": {
   "display_name": "Python 3",
   "language": "python",
   "name": "python3"
  },
  "language_info": {
   "codemirror_mode": {
    "name": "ipython",
    "version": 3
   },
   "file_extension": ".py",
   "mimetype": "text/x-python",
   "name": "python",
   "nbconvert_exporter": "python",
   "pygments_lexer": "ipython3",
   "version": "3.7.6"
  }
 },
 "nbformat": 4,
 "nbformat_minor": 1
}
