{
 "cells": [
  {
   "cell_type": "code",
   "execution_count": 1,
   "metadata": {
    "colab": {
     "base_uri": "https://localhost:8080/",
     "height": 34
    },
    "colab_type": "code",
    "executionInfo": {
     "elapsed": 1072,
     "status": "ok",
     "timestamp": 1586562107494,
     "user": {
      "displayName": "10710002夏婕禎",
      "photoUrl": "",
      "userId": "17941728896771621312"
     },
     "user_tz": -60
    },
    "id": "MveWOamypjJu",
    "outputId": "cfffe0f7-13b2-4bc6-ae77-488370150f34"
   },
   "outputs": [],
   "source": [
    "#from google.colab import drive\n",
    "#drive.mount('/content/drive')"
   ]
  },
  {
   "cell_type": "code",
   "execution_count": 2,
   "metadata": {
    "colab": {},
    "colab_type": "code",
    "id": "uezlf5OFDwwO"
   },
   "outputs": [],
   "source": [
    "import numpy as np\n",
    "import pandas as pd\n",
    "pd.set_option('use_inf_as_na', True)\n",
    "import csv\n",
    "from datetime import datetime\n",
    "import re"
   ]
  },
  {
   "cell_type": "code",
   "execution_count": 3,
   "metadata": {
    "colab": {},
    "colab_type": "code",
    "id": "2MjJQ8bTDwwd"
   },
   "outputs": [],
   "source": [
    "### ADDED DATA INTO DATA FOLDER ON GDRIVE ###\n",
    "path_to_file = 'data/'"
   ]
  },
  {
   "cell_type": "markdown",
   "metadata": {
    "colab_type": "text",
    "id": "4LDfLfs4Dwwo"
   },
   "source": [
    "**Lets start with user data and their features - any featured created using the tweet data can be joined later**"
   ]
  },
  {
   "cell_type": "markdown",
   "metadata": {
    "colab_type": "text",
    "id": "PiK72UcnDwwq"
   },
   "source": [
    "So this includes the 5000 accounts randomly sampled from our 'climate emergency' dataset and 18000 accounts which have been labelled as either bots or genuine users. (source?) The next steps are:\n",
    "\n",
    "- Load in the data and standardise columns - are there features that aren't in both and that we can find?\n",
    "- Apply the features we have created in relation to the user account details - again we can create more of these\n",
    "\n",
    "**Load in the tweet data (most 200 recent tweets ~ March 2020 for our sample, then variety for our training)**\n",
    "\n",
    "- Load in the tweet data for both samples and standardise columns etc\n",
    "- Apply the tweet based features we have created \n",
    "- Join these back to the user data - for example average words per tweet for each user etc\n",
    "- We can now apply a variety of supervised and unsupervised algorithms to the training data to apply to our random sample of 5000 users who contributed to the climate emergency debate during the time we collected data.\n",
    "- Literature suggests that unsupervised methods often produce better results: \n",
    " - fast greedy (Cresci et al., 2017)\n",
    " - digital DNA (Cresci et al., 2016)\n",
    " - graph clustering (Ahmed et al., 2013)\n",
    " \n",
    "Happy hunting!"
   ]
  },
  {
   "cell_type": "markdown",
   "metadata": {
    "colab_type": "text",
    "id": "lRMUeeevDwws"
   },
   "source": [
    "**Data folder in gdrive**\n",
    "\n",
    "- *5000_accounts_climate.csv* - the 5000 accounts from climate emergency with user features\n",
    "- *5000_tweets_climate.csv* - most recent 200 tweets from the 5000 accounts \n",
    "- *5000_tweets_frequency.csv* - features based on tweet frequency from the tweets of 5000 users\n",
    "- *training_users_tag.csv* - this is now the 18000 training data we have tweet data on as well\n",
    "- *training_tweets.txt* - most recent 200 tweets from the 18000 accounts columns = ['dt','text','tweetid','username']"
   ]
  },
  {
   "cell_type": "code",
   "execution_count": 4,
   "metadata": {
    "colab": {
     "base_uri": "https://localhost:8080/",
     "height": 168
    },
    "colab_type": "code",
    "executionInfo": {
     "elapsed": 1396,
     "status": "ok",
     "timestamp": 1586562107876,
     "user": {
      "displayName": "10710002夏婕禎",
      "photoUrl": "",
      "userId": "17941728896771621312"
     },
     "user_tz": -60
    },
    "id": "l7XeS0r9Dwwx",
    "outputId": "addf2c86-1556-4b8d-c83e-53bfd046fc5f"
   },
   "outputs": [
    {
     "data": {
      "text/html": [
       "<div>\n",
       "<style scoped>\n",
       "    .dataframe tbody tr th:only-of-type {\n",
       "        vertical-align: middle;\n",
       "    }\n",
       "\n",
       "    .dataframe tbody tr th {\n",
       "        vertical-align: top;\n",
       "    }\n",
       "\n",
       "    .dataframe thead th {\n",
       "        text-align: right;\n",
       "    }\n",
       "</style>\n",
       "<table border=\"1\" class=\"dataframe\">\n",
       "  <thead>\n",
       "    <tr style=\"text-align: right;\">\n",
       "      <th></th>\n",
       "      <th>id</th>\n",
       "      <th>name</th>\n",
       "      <th>username</th>\n",
       "      <th>location</th>\n",
       "      <th>url</th>\n",
       "      <th>description</th>\n",
       "      <th>verified</th>\n",
       "      <th>followers</th>\n",
       "      <th>friends</th>\n",
       "      <th>favourites_count</th>\n",
       "      <th>statuses_count</th>\n",
       "      <th>created_at</th>\n",
       "      <th>default_profile</th>\n",
       "      <th>default_profile_image</th>\n",
       "    </tr>\n",
       "  </thead>\n",
       "  <tbody>\n",
       "    <tr>\n",
       "      <th>0</th>\n",
       "      <td>1098803589609189376</td>\n",
       "      <td>💧The Cranky Croation</td>\n",
       "      <td>JohnSarich2</td>\n",
       "      <td>NaN</td>\n",
       "      <td>NaN</td>\n",
       "      <td>My First ever vote was for Gough Whitlam. Left...</td>\n",
       "      <td>False</td>\n",
       "      <td>430</td>\n",
       "      <td>291</td>\n",
       "      <td>14866</td>\n",
       "      <td>6039</td>\n",
       "      <td>2019-02-22 04:36:05</td>\n",
       "      <td>True</td>\n",
       "      <td>False</td>\n",
       "    </tr>\n",
       "  </tbody>\n",
       "</table>\n",
       "</div>"
      ],
      "text/plain": [
       "                    id                  name     username location  url  \\\n",
       "0  1098803589609189376  💧The Cranky Croation  JohnSarich2      NaN  NaN   \n",
       "\n",
       "                                         description  verified  followers  \\\n",
       "0  My First ever vote was for Gough Whitlam. Left...     False        430   \n",
       "\n",
       "   friends  favourites_count  statuses_count           created_at  \\\n",
       "0      291             14866            6039  2019-02-22 04:36:05   \n",
       "\n",
       "   default_profile  default_profile_image  \n",
       "0             True                  False  "
      ]
     },
     "execution_count": 4,
     "metadata": {},
     "output_type": "execute_result"
    }
   ],
   "source": [
    "# load in the 5000 users without additional features\n",
    "users_5000 = pd.read_csv(path_to_file + \"5000_accounts_climate.csv\")\n",
    "users_5000.head(1)"
   ]
  },
  {
   "cell_type": "code",
   "execution_count": 5,
   "metadata": {
    "colab": {
     "base_uri": "https://localhost:8080/",
     "height": 185
    },
    "colab_type": "code",
    "executionInfo": {
     "elapsed": 1810,
     "status": "ok",
     "timestamp": 1586562108312,
     "user": {
      "displayName": "10710002夏婕禎",
      "photoUrl": "",
      "userId": "17941728896771621312"
     },
     "user_tz": -60
    },
    "id": "T17aO9JpDww6",
    "outputId": "8ac2fed0-8318-4dc3-c7c1-802ee7285ab4"
   },
   "outputs": [
    {
     "data": {
      "text/html": [
       "<div>\n",
       "<style scoped>\n",
       "    .dataframe tbody tr th:only-of-type {\n",
       "        vertical-align: middle;\n",
       "    }\n",
       "\n",
       "    .dataframe tbody tr th {\n",
       "        vertical-align: top;\n",
       "    }\n",
       "\n",
       "    .dataframe thead th {\n",
       "        text-align: right;\n",
       "    }\n",
       "</style>\n",
       "<table border=\"1\" class=\"dataframe\">\n",
       "  <thead>\n",
       "    <tr style=\"text-align: right;\">\n",
       "      <th></th>\n",
       "      <th>Unnamed: 0</th>\n",
       "      <th>id</th>\n",
       "      <th>name</th>\n",
       "      <th>screen_name</th>\n",
       "      <th>statuses_count</th>\n",
       "      <th>followers_count</th>\n",
       "      <th>friends_count</th>\n",
       "      <th>favourites_count</th>\n",
       "      <th>listed_count</th>\n",
       "      <th>url</th>\n",
       "      <th>...</th>\n",
       "      <th>description</th>\n",
       "      <th>created_at</th>\n",
       "      <th>class</th>\n",
       "      <th>tag_stock</th>\n",
       "      <th>tag_politics</th>\n",
       "      <th>tag_pronbot</th>\n",
       "      <th>tag_business</th>\n",
       "      <th>tag_fake_follower</th>\n",
       "      <th>tag_spambot</th>\n",
       "      <th>tag_traditional_spambot</th>\n",
       "    </tr>\n",
       "  </thead>\n",
       "  <tbody>\n",
       "    <tr>\n",
       "      <th>0</th>\n",
       "      <td>0</td>\n",
       "      <td>418</td>\n",
       "      <td>Dennis Crowley</td>\n",
       "      <td>dens</td>\n",
       "      <td>69341</td>\n",
       "      <td>85422</td>\n",
       "      <td>2623</td>\n",
       "      <td>14990</td>\n",
       "      <td>4491</td>\n",
       "      <td>https://t.co/63fYABYs9J</td>\n",
       "      <td>...</td>\n",
       "      <td>I like to build things (@Foursquare📱, @Stockad...</td>\n",
       "      <td>Wed Jul 05 19:52:46 +0000 2006</td>\n",
       "      <td>human</td>\n",
       "      <td>0.0</td>\n",
       "      <td>0.0</td>\n",
       "      <td>0.0</td>\n",
       "      <td>0.0</td>\n",
       "      <td>0.0</td>\n",
       "      <td>0.0</td>\n",
       "      <td>0.0</td>\n",
       "    </tr>\n",
       "  </tbody>\n",
       "</table>\n",
       "<p>1 rows × 39 columns</p>\n",
       "</div>"
      ],
      "text/plain": [
       "   Unnamed: 0   id            name screen_name  statuses_count  \\\n",
       "0           0  418  Dennis Crowley        dens           69341   \n",
       "\n",
       "   followers_count  friends_count  favourites_count  listed_count  \\\n",
       "0            85422           2623             14990          4491   \n",
       "\n",
       "                       url  ...  \\\n",
       "0  https://t.co/63fYABYs9J  ...   \n",
       "\n",
       "                                         description  \\\n",
       "0  I like to build things (@Foursquare📱, @Stockad...   \n",
       "\n",
       "                       created_at  class tag_stock tag_politics tag_pronbot  \\\n",
       "0  Wed Jul 05 19:52:46 +0000 2006  human       0.0          0.0         0.0   \n",
       "\n",
       "  tag_business tag_fake_follower tag_spambot tag_traditional_spambot  \n",
       "0          0.0               0.0         0.0                     0.0  \n",
       "\n",
       "[1 rows x 39 columns]"
      ]
     },
     "execution_count": 5,
     "metadata": {},
     "output_type": "execute_result"
    }
   ],
   "source": [
    "# These are the accounts (from training_users_tag) which we could source tweet data from training_tweets_tag\n",
    "users_train = pd.read_csv(path_to_file + \"training_users_tag.csv\")\n",
    "users_train.head(1)"
   ]
  },
  {
   "cell_type": "code",
   "execution_count": 6,
   "metadata": {
    "colab": {
     "base_uri": "https://localhost:8080/",
     "height": 34
    },
    "colab_type": "code",
    "executionInfo": {
     "elapsed": 1784,
     "status": "ok",
     "timestamp": 1586562108314,
     "user": {
      "displayName": "10710002夏婕禎",
      "photoUrl": "",
      "userId": "17941728896771621312"
     },
     "user_tz": -60
    },
    "id": "EemPUCjjDwxC",
    "outputId": "f0f4cf36-d6dd-46f6-ca15-eb21b6bb46cf"
   },
   "outputs": [
    {
     "name": "stdout",
     "output_type": "stream",
     "text": [
      "['followers', 'username', 'friends', 'verified'] are not in the training data!\n"
     ]
    }
   ],
   "source": [
    "# See what columns match\n",
    "a = users_5000.columns\n",
    "b = users_train.columns\n",
    "\n",
    "missing = list(set(a) - set(b))\n",
    "print(missing,'are not in the training data!')"
   ]
  },
  {
   "cell_type": "markdown",
   "metadata": {
    "colab_type": "text",
    "id": "Ai0WOBJsDwxI"
   },
   "source": [
    " - username = screen_name\n",
    " - followers = followers_count\n",
    " - no verified field\n",
    " - friends = friends_count"
   ]
  },
  {
   "cell_type": "code",
   "execution_count": 7,
   "metadata": {
    "colab": {},
    "colab_type": "code",
    "id": "MQ1Y2CxPDwxI"
   },
   "outputs": [],
   "source": [
    "# lets add the missing columns to our matches variable\n",
    "matches = list(set(a) & set(b))\n",
    "matches = matches + ['screen_name','followers_count','friends_count']"
   ]
  },
  {
   "cell_type": "code",
   "execution_count": 8,
   "metadata": {
    "colab": {
     "base_uri": "https://localhost:8080/",
     "height": 238
    },
    "colab_type": "code",
    "executionInfo": {
     "elapsed": 1751,
     "status": "ok",
     "timestamp": 1586562108315,
     "user": {
      "displayName": "10710002夏婕禎",
      "photoUrl": "",
      "userId": "17941728896771621312"
     },
     "user_tz": -60
    },
    "id": "LHU9hEm9sCWJ",
    "outputId": "bb8d3df9-1079-4191-82fa-f4a9cf4f2caf"
   },
   "outputs": [
    {
     "data": {
      "text/plain": [
       "['default_profile',\n",
       " 'location',\n",
       " 'favourites_count',\n",
       " 'name',\n",
       " 'description',\n",
       " 'created_at',\n",
       " 'id',\n",
       " 'url',\n",
       " 'default_profile_image',\n",
       " 'statuses_count',\n",
       " 'screen_name',\n",
       " 'followers_count',\n",
       " 'friends_count']"
      ]
     },
     "execution_count": 8,
     "metadata": {},
     "output_type": "execute_result"
    }
   ],
   "source": [
    "matches"
   ]
  },
  {
   "cell_type": "code",
   "execution_count": 9,
   "metadata": {
    "colab": {},
    "colab_type": "code",
    "id": "-9bCpj5ODwxL"
   },
   "outputs": [],
   "source": [
    "# add the tag for just the class - tags for the type of bot\n",
    "tag = [users_train.columns[-8]]\n",
    "tags = list(users_train.columns[-8:])"
   ]
  },
  {
   "cell_type": "code",
   "execution_count": 10,
   "metadata": {
    "colab": {
     "base_uri": "https://localhost:8080/",
     "height": 51
    },
    "colab_type": "code",
    "executionInfo": {
     "elapsed": 1718,
     "status": "ok",
     "timestamp": 1586562108317,
     "user": {
      "displayName": "10710002夏婕禎",
      "photoUrl": "",
      "userId": "17941728896771621312"
     },
     "user_tz": -60
    },
    "id": "gjuOUfgtsL3g",
    "outputId": "4c652194-8caa-4152-fad3-9a4ce40af1ee"
   },
   "outputs": [
    {
     "name": "stdout",
     "output_type": "stream",
     "text": [
      "['class']\n",
      "['class', 'tag_stock', 'tag_politics', 'tag_pronbot', 'tag_business', 'tag_fake_follower', 'tag_spambot', 'tag_traditional_spambot']\n"
     ]
    }
   ],
   "source": [
    "print(tag)\n",
    "print(tags)"
   ]
  },
  {
   "cell_type": "code",
   "execution_count": 11,
   "metadata": {
    "colab": {
     "base_uri": "https://localhost:8080/",
     "height": 253
    },
    "colab_type": "code",
    "executionInfo": {
     "elapsed": 1698,
     "status": "ok",
     "timestamp": 1586562108318,
     "user": {
      "displayName": "10710002夏婕禎",
      "photoUrl": "",
      "userId": "17941728896771621312"
     },
     "user_tz": -60
    },
    "id": "RyDj-eBcDwxO",
    "outputId": "c7cc687a-29fe-46dd-a95c-396899c36550"
   },
   "outputs": [
    {
     "name": "stdout",
     "output_type": "stream",
     "text": [
      "Index(['default_profile', 'location', 'favourites_count', 'name',\n",
      "       'description', 'created_at', 'id', 'url', 'default_profile_image',\n",
      "       'statuses_count', 'screen_name', 'followers_count', 'friends_count',\n",
      "       'class'],\n",
      "      dtype='object')\n"
     ]
    },
    {
     "data": {
      "text/html": [
       "<div>\n",
       "<style scoped>\n",
       "    .dataframe tbody tr th:only-of-type {\n",
       "        vertical-align: middle;\n",
       "    }\n",
       "\n",
       "    .dataframe tbody tr th {\n",
       "        vertical-align: top;\n",
       "    }\n",
       "\n",
       "    .dataframe thead th {\n",
       "        text-align: right;\n",
       "    }\n",
       "</style>\n",
       "<table border=\"1\" class=\"dataframe\">\n",
       "  <thead>\n",
       "    <tr style=\"text-align: right;\">\n",
       "      <th></th>\n",
       "      <th>default_profile</th>\n",
       "      <th>location</th>\n",
       "      <th>favourites_count</th>\n",
       "      <th>name</th>\n",
       "      <th>description</th>\n",
       "      <th>created_at</th>\n",
       "      <th>id</th>\n",
       "      <th>url</th>\n",
       "      <th>default_profile_image</th>\n",
       "      <th>statuses_count</th>\n",
       "      <th>screen_name</th>\n",
       "      <th>followers_count</th>\n",
       "      <th>friends_count</th>\n",
       "      <th>class</th>\n",
       "    </tr>\n",
       "  </thead>\n",
       "  <tbody>\n",
       "    <tr>\n",
       "      <th>0</th>\n",
       "      <td>FALSE</td>\n",
       "      <td>NYC / Kingston</td>\n",
       "      <td>14990</td>\n",
       "      <td>Dennis Crowley</td>\n",
       "      <td>I like to build things (@Foursquare📱, @Stockad...</td>\n",
       "      <td>Wed Jul 05 19:52:46 +0000 2006</td>\n",
       "      <td>418</td>\n",
       "      <td>https://t.co/63fYABYs9J</td>\n",
       "      <td>FALSE</td>\n",
       "      <td>69341</td>\n",
       "      <td>dens</td>\n",
       "      <td>85422</td>\n",
       "      <td>2623</td>\n",
       "      <td>human</td>\n",
       "    </tr>\n",
       "  </tbody>\n",
       "</table>\n",
       "</div>"
      ],
      "text/plain": [
       "  default_profile        location  favourites_count            name  \\\n",
       "0           FALSE  NYC / Kingston             14990  Dennis Crowley   \n",
       "\n",
       "                                         description  \\\n",
       "0  I like to build things (@Foursquare📱, @Stockad...   \n",
       "\n",
       "                       created_at   id                      url  \\\n",
       "0  Wed Jul 05 19:52:46 +0000 2006  418  https://t.co/63fYABYs9J   \n",
       "\n",
       "  default_profile_image  statuses_count screen_name  followers_count  \\\n",
       "0                 FALSE           69341        dens            85422   \n",
       "\n",
       "   friends_count  class  \n",
       "0           2623  human  "
      ]
     },
     "execution_count": 11,
     "metadata": {},
     "output_type": "execute_result"
    }
   ],
   "source": [
    "# add your choice to \n",
    "matches = matches + tag\n",
    "# apply this to the training data so we have standardised columns\n",
    "users_train_2 = users_train[matches]\n",
    "print(users_train_2.columns)\n",
    "users_train_2.head(1)"
   ]
  },
  {
   "cell_type": "code",
   "execution_count": 12,
   "metadata": {
    "colab": {},
    "colab_type": "code",
    "id": "QH5N26djDwxW"
   },
   "outputs": [],
   "source": [
    "# we'll drop verified for now, even though it will be useful - we can add back later.\n",
    "users_5000_2 = users_5000.drop(columns=['verified'])"
   ]
  },
  {
   "cell_type": "code",
   "execution_count": 13,
   "metadata": {
    "colab": {
     "base_uri": "https://localhost:8080/",
     "height": 253
    },
    "colab_type": "code",
    "executionInfo": {
     "elapsed": 2208,
     "status": "ok",
     "timestamp": 1586562108864,
     "user": {
      "displayName": "10710002夏婕禎",
      "photoUrl": "",
      "userId": "17941728896771621312"
     },
     "user_tz": -60
    },
    "id": "-LZiEUvNwOr7",
    "outputId": "c8a38374-51cc-483d-f927-fd357e421876"
   },
   "outputs": [
    {
     "name": "stderr",
     "output_type": "stream",
     "text": [
      "C:\\Users\\aris\\Anaconda3\\lib\\site-packages\\pandas\\core\\frame.py:4133: SettingWithCopyWarning: \n",
      "A value is trying to be set on a copy of a slice from a DataFrame\n",
      "\n",
      "See the caveats in the documentation: https://pandas.pydata.org/pandas-docs/stable/user_guide/indexing.html#returning-a-view-versus-a-copy\n",
      "  errors=errors,\n"
     ]
    },
    {
     "data": {
      "text/html": [
       "<div>\n",
       "<style scoped>\n",
       "    .dataframe tbody tr th:only-of-type {\n",
       "        vertical-align: middle;\n",
       "    }\n",
       "\n",
       "    .dataframe tbody tr th {\n",
       "        vertical-align: top;\n",
       "    }\n",
       "\n",
       "    .dataframe thead th {\n",
       "        text-align: right;\n",
       "    }\n",
       "</style>\n",
       "<table border=\"1\" class=\"dataframe\">\n",
       "  <thead>\n",
       "    <tr style=\"text-align: right;\">\n",
       "      <th></th>\n",
       "      <th>default_profile</th>\n",
       "      <th>location</th>\n",
       "      <th>favourites_count</th>\n",
       "      <th>name</th>\n",
       "      <th>description</th>\n",
       "      <th>created_at</th>\n",
       "      <th>id</th>\n",
       "      <th>url</th>\n",
       "      <th>default_profile_image</th>\n",
       "      <th>statuses_count</th>\n",
       "      <th>username</th>\n",
       "      <th>followers</th>\n",
       "      <th>friends</th>\n",
       "      <th>class</th>\n",
       "    </tr>\n",
       "  </thead>\n",
       "  <tbody>\n",
       "    <tr>\n",
       "      <th>0</th>\n",
       "      <td>FALSE</td>\n",
       "      <td>NYC / Kingston</td>\n",
       "      <td>14990</td>\n",
       "      <td>Dennis Crowley</td>\n",
       "      <td>I like to build things (@Foursquare📱, @Stockad...</td>\n",
       "      <td>Wed Jul 05 19:52:46 +0000 2006</td>\n",
       "      <td>418</td>\n",
       "      <td>https://t.co/63fYABYs9J</td>\n",
       "      <td>FALSE</td>\n",
       "      <td>69341</td>\n",
       "      <td>dens</td>\n",
       "      <td>85422</td>\n",
       "      <td>2623</td>\n",
       "      <td>human</td>\n",
       "    </tr>\n",
       "  </tbody>\n",
       "</table>\n",
       "</div>"
      ],
      "text/plain": [
       "  default_profile        location  favourites_count            name  \\\n",
       "0           FALSE  NYC / Kingston             14990  Dennis Crowley   \n",
       "\n",
       "                                         description  \\\n",
       "0  I like to build things (@Foursquare📱, @Stockad...   \n",
       "\n",
       "                       created_at   id                      url  \\\n",
       "0  Wed Jul 05 19:52:46 +0000 2006  418  https://t.co/63fYABYs9J   \n",
       "\n",
       "  default_profile_image  statuses_count username  followers  friends  class  \n",
       "0                 FALSE           69341     dens      85422     2623  human  "
      ]
     },
     "execution_count": 13,
     "metadata": {},
     "output_type": "execute_result"
    }
   ],
   "source": [
    "# rename the columns to the same\n",
    "users_train_2.rename(columns={'screen_name': 'username', 'followers_count': 'followers', 'friends_count': 'friends'}, inplace=True)\n",
    "users_train_2.head(1)"
   ]
  },
  {
   "cell_type": "markdown",
   "metadata": {
    "colab_type": "text",
    "id": "R2_1oxSz3b7w"
   },
   "source": [
    "**Normalised data pre-processing.**"
   ]
  },
  {
   "cell_type": "code",
   "execution_count": 14,
   "metadata": {
    "colab": {
     "base_uri": "https://localhost:8080/",
     "height": 391
    },
    "colab_type": "code",
    "executionInfo": {
     "elapsed": 2185,
     "status": "ok",
     "timestamp": 1586562108865,
     "user": {
      "displayName": "10710002夏婕禎",
      "photoUrl": "",
      "userId": "17941728896771621312"
     },
     "user_tz": -60
    },
    "id": "Y6P_vpjM0XHZ",
    "outputId": "357b7897-f526-4364-ae9f-c1ce053e4445"
   },
   "outputs": [
    {
     "name": "stdout",
     "output_type": "stream",
     "text": [
      "<class 'pandas.core.frame.DataFrame'>\n",
      "RangeIndex: 19675 entries, 0 to 19674\n",
      "Data columns (total 14 columns):\n",
      " #   Column                 Non-Null Count  Dtype \n",
      "---  ------                 --------------  ----- \n",
      " 0   default_profile        12097 non-null  object\n",
      " 1   location               11553 non-null  object\n",
      " 2   favourites_count       19675 non-null  int64 \n",
      " 3   name                   19673 non-null  object\n",
      " 4   description            12898 non-null  object\n",
      " 5   created_at             19675 non-null  object\n",
      " 6   id                     19675 non-null  int64 \n",
      " 7   url                    5646 non-null   object\n",
      " 8   default_profile_image  8185 non-null   object\n",
      " 9   statuses_count         19675 non-null  int64 \n",
      " 10  username               19675 non-null  object\n",
      " 11  followers              19675 non-null  int64 \n",
      " 12  friends                19675 non-null  int64 \n",
      " 13  class                  19675 non-null  object\n",
      "dtypes: int64(5), object(9)\n",
      "memory usage: 2.1+ MB\n",
      "None\n"
     ]
    }
   ],
   "source": [
    "accounts_train = users_train_2\n",
    "del users_train_2\n",
    "print(accounts_train.info())"
   ]
  },
  {
   "cell_type": "code",
   "execution_count": 15,
   "metadata": {
    "colab": {
     "base_uri": "https://localhost:8080/",
     "height": 374
    },
    "colab_type": "code",
    "executionInfo": {
     "elapsed": 2166,
     "status": "ok",
     "timestamp": 1586562108866,
     "user": {
      "displayName": "10710002夏婕禎",
      "photoUrl": "",
      "userId": "17941728896771621312"
     },
     "user_tz": -60
    },
    "id": "qWS2ob09zgDQ",
    "outputId": "4d832f56-fbf8-4028-c601-8bd8154c2c97"
   },
   "outputs": [
    {
     "name": "stdout",
     "output_type": "stream",
     "text": [
      "<class 'pandas.core.frame.DataFrame'>\n",
      "RangeIndex: 4963 entries, 0 to 4962\n",
      "Data columns (total 13 columns):\n",
      " #   Column                 Non-Null Count  Dtype \n",
      "---  ------                 --------------  ----- \n",
      " 0   id                     4963 non-null   int64 \n",
      " 1   name                   4963 non-null   object\n",
      " 2   username               4963 non-null   object\n",
      " 3   location               3719 non-null   object\n",
      " 4   url                    2040 non-null   object\n",
      " 5   description            4314 non-null   object\n",
      " 6   followers              4963 non-null   int64 \n",
      " 7   friends                4963 non-null   int64 \n",
      " 8   favourites_count       4963 non-null   int64 \n",
      " 9   statuses_count         4963 non-null   int64 \n",
      " 10  created_at             4963 non-null   object\n",
      " 11  default_profile        4963 non-null   bool  \n",
      " 12  default_profile_image  4963 non-null   bool  \n",
      "dtypes: bool(2), int64(5), object(6)\n",
      "memory usage: 436.3+ KB\n",
      "None\n"
     ]
    }
   ],
   "source": [
    "accounts_test = users_5000_2\n",
    "del users_5000_2\n",
    "print(accounts_test.info())"
   ]
  },
  {
   "cell_type": "code",
   "execution_count": 16,
   "metadata": {
    "colab": {
     "base_uri": "https://localhost:8080/",
     "height": 374
    },
    "colab_type": "code",
    "executionInfo": {
     "elapsed": 2141,
     "status": "ok",
     "timestamp": 1586562108867,
     "user": {
      "displayName": "10710002夏婕禎",
      "photoUrl": "",
      "userId": "17941728896771621312"
     },
     "user_tz": -60
    },
    "id": "DhsmN-ro0qdi",
    "outputId": "98ea0358-0f5e-48e9-a411-7f55e091a9a3"
   },
   "outputs": [
    {
     "name": "stdout",
     "output_type": "stream",
     "text": [
      "<class 'pandas.core.frame.DataFrame'>\n",
      "RangeIndex: 19675 entries, 0 to 19674\n",
      "Data columns (total 14 columns):\n",
      " #   Column                 Non-Null Count  Dtype \n",
      "---  ------                 --------------  ----- \n",
      " 0   id                     19675 non-null  int64 \n",
      " 1   name                   19673 non-null  object\n",
      " 2   username               19675 non-null  object\n",
      " 3   location               11553 non-null  object\n",
      " 4   url                    5646 non-null   object\n",
      " 5   description            12898 non-null  object\n",
      " 6   followers              19675 non-null  int64 \n",
      " 7   friends                19675 non-null  int64 \n",
      " 8   favourites_count       19675 non-null  int64 \n",
      " 9   statuses_count         19675 non-null  int64 \n",
      " 10  created_at             19675 non-null  object\n",
      " 11  default_profile        12097 non-null  object\n",
      " 12  default_profile_image  8185 non-null   object\n",
      " 13  class                  19675 non-null  object\n",
      "dtypes: int64(5), object(9)\n",
      "memory usage: 2.1+ MB\n"
     ]
    }
   ],
   "source": [
    "# reorder the columns to be aligned\n",
    "col_order = accounts_test.columns.tolist()\n",
    "col_order.extend(['class'])\n",
    "accounts_train = accounts_train[col_order]\n",
    "accounts_train.info()"
   ]
  },
  {
   "cell_type": "code",
   "execution_count": 17,
   "metadata": {
    "colab": {
     "base_uri": "https://localhost:8080/",
     "height": 51
    },
    "colab_type": "code",
    "executionInfo": {
     "elapsed": 2118,
     "status": "ok",
     "timestamp": 1586562108868,
     "user": {
      "displayName": "10710002夏婕禎",
      "photoUrl": "",
      "userId": "17941728896771621312"
     },
     "user_tz": -60
    },
    "id": "tjImTgPW3-1v",
    "outputId": "ec5ea674-a4ed-42c5-9555-20d60ecd6c67"
   },
   "outputs": [
    {
     "name": "stdout",
     "output_type": "stream",
     "text": [
      "['FALSE' nan 'TRUE' '1']\n",
      "['FALSE' nan 'TRUE' '1']\n"
     ]
    }
   ],
   "source": [
    "print(accounts_train.default_profile.unique())\n",
    "print(accounts_train.default_profile_image.unique())"
   ]
  },
  {
   "cell_type": "code",
   "execution_count": 18,
   "metadata": {
    "colab": {},
    "colab_type": "code",
    "id": "AGnu5IqO3kzf"
   },
   "outputs": [],
   "source": [
    "# convert the boolean values to (0,1), keep NaN\n",
    "accounts_test['default_profile'] = accounts_test['default_profile']*1\n",
    "accounts_test['default_profile_image'] = accounts_test['default_profile_image']*1\n",
    "\n",
    "nan_value = accounts_train.isnull()\n",
    "accounts_train[['default_profile', 'default_profile_image']] = np.where(accounts_train[['default_profile', 'default_profile_image']].isin(['TRUE', '1']), 1, 0)\n",
    "accounts_train[nan_value] = np.NaN"
   ]
  },
  {
   "cell_type": "code",
   "execution_count": 19,
   "metadata": {
    "colab": {
     "base_uri": "https://localhost:8080/",
     "height": 748
    },
    "colab_type": "code",
    "executionInfo": {
     "elapsed": 2085,
     "status": "ok",
     "timestamp": 1586562108870,
     "user": {
      "displayName": "10710002夏婕禎",
      "photoUrl": "",
      "userId": "17941728896771621312"
     },
     "user_tz": -60
    },
    "id": "WfqRUvEK51TU",
    "outputId": "6b662a11-753d-4d68-f4d1-e1fc06520226"
   },
   "outputs": [
    {
     "name": "stdout",
     "output_type": "stream",
     "text": [
      "<class 'pandas.core.frame.DataFrame'>\n",
      "RangeIndex: 4963 entries, 0 to 4962\n",
      "Data columns (total 13 columns):\n",
      " #   Column                 Non-Null Count  Dtype \n",
      "---  ------                 --------------  ----- \n",
      " 0   id                     4963 non-null   int64 \n",
      " 1   name                   4963 non-null   object\n",
      " 2   username               4963 non-null   object\n",
      " 3   location               3719 non-null   object\n",
      " 4   url                    2040 non-null   object\n",
      " 5   description            4314 non-null   object\n",
      " 6   followers              4963 non-null   int64 \n",
      " 7   friends                4963 non-null   int64 \n",
      " 8   favourites_count       4963 non-null   int64 \n",
      " 9   statuses_count         4963 non-null   int64 \n",
      " 10  created_at             4963 non-null   object\n",
      " 11  default_profile        4963 non-null   int32 \n",
      " 12  default_profile_image  4963 non-null   int32 \n",
      "dtypes: int32(2), int64(5), object(6)\n",
      "memory usage: 465.4+ KB\n",
      "None\n",
      "<class 'pandas.core.frame.DataFrame'>\n",
      "RangeIndex: 19675 entries, 0 to 19674\n",
      "Data columns (total 14 columns):\n",
      " #   Column                 Non-Null Count  Dtype  \n",
      "---  ------                 --------------  -----  \n",
      " 0   id                     19675 non-null  int64  \n",
      " 1   name                   19673 non-null  object \n",
      " 2   username               19675 non-null  object \n",
      " 3   location               11553 non-null  object \n",
      " 4   url                    5646 non-null   object \n",
      " 5   description            12898 non-null  object \n",
      " 6   followers              19675 non-null  int64  \n",
      " 7   friends                19675 non-null  int64  \n",
      " 8   favourites_count       19675 non-null  int64  \n",
      " 9   statuses_count         19675 non-null  int64  \n",
      " 10  created_at             19675 non-null  object \n",
      " 11  default_profile        12097 non-null  float64\n",
      " 12  default_profile_image  8185 non-null   float64\n",
      " 13  class                  19675 non-null  object \n",
      "dtypes: float64(2), int64(5), object(7)\n",
      "memory usage: 2.1+ MB\n",
      "None\n"
     ]
    }
   ],
   "source": [
    "print(accounts_test.info())\n",
    "print(accounts_train.info())"
   ]
  },
  {
   "cell_type": "markdown",
   "metadata": {
    "colab_type": "text",
    "id": "ItBRgUM-Dwxh"
   },
   "source": [
    "So we now have our training data and climate emergency accounts in a normalised format. Next job is to feature engineer both."
   ]
  },
  {
   "cell_type": "code",
   "execution_count": 20,
   "metadata": {
    "colab": {
     "base_uri": "https://localhost:8080/",
     "height": 394
    },
    "colab_type": "code",
    "executionInfo": {
     "elapsed": 2065,
     "status": "ok",
     "timestamp": 1586562108870,
     "user": {
      "displayName": "10710002夏婕禎",
      "photoUrl": "",
      "userId": "17941728896771621312"
     },
     "user_tz": -60
    },
    "id": "PP5TCnYs8xD5",
    "outputId": "5864dbe4-208b-424e-b605-fcb1180f15d4"
   },
   "outputs": [
    {
     "data": {
      "text/html": [
       "<div>\n",
       "<style scoped>\n",
       "    .dataframe tbody tr th:only-of-type {\n",
       "        vertical-align: middle;\n",
       "    }\n",
       "\n",
       "    .dataframe tbody tr th {\n",
       "        vertical-align: top;\n",
       "    }\n",
       "\n",
       "    .dataframe thead th {\n",
       "        text-align: right;\n",
       "    }\n",
       "</style>\n",
       "<table border=\"1\" class=\"dataframe\">\n",
       "  <thead>\n",
       "    <tr style=\"text-align: right;\">\n",
       "      <th></th>\n",
       "      <th>id</th>\n",
       "      <th>name</th>\n",
       "      <th>username</th>\n",
       "      <th>location</th>\n",
       "      <th>url</th>\n",
       "      <th>description</th>\n",
       "      <th>followers</th>\n",
       "      <th>friends</th>\n",
       "      <th>favourites_count</th>\n",
       "      <th>statuses_count</th>\n",
       "      <th>created_at</th>\n",
       "      <th>default_profile</th>\n",
       "      <th>default_profile_image</th>\n",
       "      <th>class</th>\n",
       "    </tr>\n",
       "  </thead>\n",
       "  <tbody>\n",
       "    <tr>\n",
       "      <th>0</th>\n",
       "      <td>418</td>\n",
       "      <td>Dennis Crowley</td>\n",
       "      <td>dens</td>\n",
       "      <td>NYC / Kingston</td>\n",
       "      <td>https://t.co/63fYABYs9J</td>\n",
       "      <td>I like to build things (@Foursquare📱, @Stockad...</td>\n",
       "      <td>85422</td>\n",
       "      <td>2623</td>\n",
       "      <td>14990</td>\n",
       "      <td>69341</td>\n",
       "      <td>Wed Jul 05 19:52:46 +0000 2006</td>\n",
       "      <td>0.0</td>\n",
       "      <td>0.0</td>\n",
       "      <td>human</td>\n",
       "    </tr>\n",
       "    <tr>\n",
       "      <th>1</th>\n",
       "      <td>586</td>\n",
       "      <td>Chris Sacca</td>\n",
       "      <td>sacca</td>\n",
       "      <td>The Rocky Mountains</td>\n",
       "      <td>NaN</td>\n",
       "      <td>I love @crystale &amp; our 3 girls. Used to invest...</td>\n",
       "      <td>1669241</td>\n",
       "      <td>1004</td>\n",
       "      <td>301974</td>\n",
       "      <td>71148</td>\n",
       "      <td>Thu Jul 13 09:05:49 +0000 2006</td>\n",
       "      <td>0.0</td>\n",
       "      <td>0.0</td>\n",
       "      <td>human</td>\n",
       "    </tr>\n",
       "    <tr>\n",
       "      <th>2</th>\n",
       "      <td>8557</td>\n",
       "      <td>Japhy Grant</td>\n",
       "      <td>japhygrant</td>\n",
       "      <td>Los Angeles, CA</td>\n",
       "      <td>https://t.co/jTIWv0ILjC</td>\n",
       "      <td>👨‍🚀🌵Founder, #WonderValleyProjects. Had a hand...</td>\n",
       "      <td>3207</td>\n",
       "      <td>122</td>\n",
       "      <td>8901</td>\n",
       "      <td>15191</td>\n",
       "      <td>Wed Oct 11 19:51:10 +0000 2006</td>\n",
       "      <td>0.0</td>\n",
       "      <td>0.0</td>\n",
       "      <td>human</td>\n",
       "    </tr>\n",
       "    <tr>\n",
       "      <th>3</th>\n",
       "      <td>12522</td>\n",
       "      <td>C.C. Chapman</td>\n",
       "      <td>cc_chapman</td>\n",
       "      <td>Boston, MA</td>\n",
       "      <td>NaN</td>\n",
       "      <td>Storyteller trying to leave it better than I f...</td>\n",
       "      <td>47372</td>\n",
       "      <td>22593</td>\n",
       "      <td>12468</td>\n",
       "      <td>139668</td>\n",
       "      <td>Wed Nov 15 15:03:14 +0000 2006</td>\n",
       "      <td>0.0</td>\n",
       "      <td>0.0</td>\n",
       "      <td>human</td>\n",
       "    </tr>\n",
       "    <tr>\n",
       "      <th>4</th>\n",
       "      <td>15913</td>\n",
       "      <td>Larry Hryb</td>\n",
       "      <td>majornelson</td>\n",
       "      <td>In your Xbox</td>\n",
       "      <td>https://t.co/UNpCOu2HKp</td>\n",
       "      <td>\"The Xbox Guy\" 🎮 • 💑@thehappygirl • Twitter &amp; ...</td>\n",
       "      <td>1127687</td>\n",
       "      <td>5</td>\n",
       "      <td>7</td>\n",
       "      <td>54804</td>\n",
       "      <td>Wed Nov 22 20:28:03 +0000 2006</td>\n",
       "      <td>0.0</td>\n",
       "      <td>0.0</td>\n",
       "      <td>human</td>\n",
       "    </tr>\n",
       "  </tbody>\n",
       "</table>\n",
       "</div>"
      ],
      "text/plain": [
       "      id            name     username             location  \\\n",
       "0    418  Dennis Crowley         dens       NYC / Kingston   \n",
       "1    586     Chris Sacca        sacca  The Rocky Mountains   \n",
       "2   8557     Japhy Grant   japhygrant      Los Angeles, CA   \n",
       "3  12522    C.C. Chapman   cc_chapman           Boston, MA   \n",
       "4  15913      Larry Hryb  majornelson         In your Xbox   \n",
       "\n",
       "                       url                                        description  \\\n",
       "0  https://t.co/63fYABYs9J  I like to build things (@Foursquare📱, @Stockad...   \n",
       "1                      NaN  I love @crystale & our 3 girls. Used to invest...   \n",
       "2  https://t.co/jTIWv0ILjC  👨‍🚀🌵Founder, #WonderValleyProjects. Had a hand...   \n",
       "3                      NaN  Storyteller trying to leave it better than I f...   \n",
       "4  https://t.co/UNpCOu2HKp  \"The Xbox Guy\" 🎮 • 💑@thehappygirl • Twitter & ...   \n",
       "\n",
       "   followers  friends  favourites_count  statuses_count  \\\n",
       "0      85422     2623             14990           69341   \n",
       "1    1669241     1004            301974           71148   \n",
       "2       3207      122              8901           15191   \n",
       "3      47372    22593             12468          139668   \n",
       "4    1127687        5                 7           54804   \n",
       "\n",
       "                       created_at  default_profile  default_profile_image  \\\n",
       "0  Wed Jul 05 19:52:46 +0000 2006              0.0                    0.0   \n",
       "1  Thu Jul 13 09:05:49 +0000 2006              0.0                    0.0   \n",
       "2  Wed Oct 11 19:51:10 +0000 2006              0.0                    0.0   \n",
       "3  Wed Nov 15 15:03:14 +0000 2006              0.0                    0.0   \n",
       "4  Wed Nov 22 20:28:03 +0000 2006              0.0                    0.0   \n",
       "\n",
       "   class  \n",
       "0  human  \n",
       "1  human  \n",
       "2  human  \n",
       "3  human  \n",
       "4  human  "
      ]
     },
     "execution_count": 20,
     "metadata": {},
     "output_type": "execute_result"
    }
   ],
   "source": [
    "accounts_train.head()"
   ]
  },
  {
   "cell_type": "code",
   "execution_count": 21,
   "metadata": {
    "colab": {
     "base_uri": "https://localhost:8080/",
     "height": 479
    },
    "colab_type": "code",
    "executionInfo": {
     "elapsed": 2046,
     "status": "ok",
     "timestamp": 1586562108871,
     "user": {
      "displayName": "10710002夏婕禎",
      "photoUrl": "",
      "userId": "17941728896771621312"
     },
     "user_tz": -60
    },
    "id": "jd3isbb982Vh",
    "outputId": "24f69217-6f9a-4b2e-ce1b-e459d869291b"
   },
   "outputs": [
    {
     "data": {
      "text/html": [
       "<div>\n",
       "<style scoped>\n",
       "    .dataframe tbody tr th:only-of-type {\n",
       "        vertical-align: middle;\n",
       "    }\n",
       "\n",
       "    .dataframe tbody tr th {\n",
       "        vertical-align: top;\n",
       "    }\n",
       "\n",
       "    .dataframe thead th {\n",
       "        text-align: right;\n",
       "    }\n",
       "</style>\n",
       "<table border=\"1\" class=\"dataframe\">\n",
       "  <thead>\n",
       "    <tr style=\"text-align: right;\">\n",
       "      <th></th>\n",
       "      <th>id</th>\n",
       "      <th>name</th>\n",
       "      <th>username</th>\n",
       "      <th>location</th>\n",
       "      <th>url</th>\n",
       "      <th>description</th>\n",
       "      <th>followers</th>\n",
       "      <th>friends</th>\n",
       "      <th>favourites_count</th>\n",
       "      <th>statuses_count</th>\n",
       "      <th>created_at</th>\n",
       "      <th>default_profile</th>\n",
       "      <th>default_profile_image</th>\n",
       "    </tr>\n",
       "  </thead>\n",
       "  <tbody>\n",
       "    <tr>\n",
       "      <th>0</th>\n",
       "      <td>1098803589609189376</td>\n",
       "      <td>💧The Cranky Croation</td>\n",
       "      <td>JohnSarich2</td>\n",
       "      <td>NaN</td>\n",
       "      <td>NaN</td>\n",
       "      <td>My First ever vote was for Gough Whitlam. Left...</td>\n",
       "      <td>430</td>\n",
       "      <td>291</td>\n",
       "      <td>14866</td>\n",
       "      <td>6039</td>\n",
       "      <td>2019-02-22 04:36:05</td>\n",
       "      <td>1</td>\n",
       "      <td>0</td>\n",
       "    </tr>\n",
       "    <tr>\n",
       "      <th>1</th>\n",
       "      <td>191393940</td>\n",
       "      <td>FranS #RejoinEU #ElectoralReform 🇬🇧🇪🇺🇩🇪</td>\n",
       "      <td>FranS199</td>\n",
       "      <td>Earth</td>\n",
       "      <td>NaN</td>\n",
       "      <td>Love good food, good wine, great company. Hate...</td>\n",
       "      <td>4643</td>\n",
       "      <td>4904</td>\n",
       "      <td>257039</td>\n",
       "      <td>41696</td>\n",
       "      <td>2010-09-16 10:30:21</td>\n",
       "      <td>1</td>\n",
       "      <td>0</td>\n",
       "    </tr>\n",
       "    <tr>\n",
       "      <th>2</th>\n",
       "      <td>1185167241819676673</td>\n",
       "      <td>mbnvcxz</td>\n",
       "      <td>mbnvcxz2</td>\n",
       "      <td>NaN</td>\n",
       "      <td>NaN</td>\n",
       "      <td>NaN</td>\n",
       "      <td>0</td>\n",
       "      <td>3</td>\n",
       "      <td>1</td>\n",
       "      <td>8</td>\n",
       "      <td>2019-10-18 12:14:42</td>\n",
       "      <td>1</td>\n",
       "      <td>1</td>\n",
       "    </tr>\n",
       "    <tr>\n",
       "      <th>3</th>\n",
       "      <td>1220868357647368193</td>\n",
       "      <td>Noles-4-Life-In-SC</td>\n",
       "      <td>Noles4LifeInSC</td>\n",
       "      <td>NaN</td>\n",
       "      <td>NaN</td>\n",
       "      <td>Florida native living in Upstate South Carolin...</td>\n",
       "      <td>628</td>\n",
       "      <td>630</td>\n",
       "      <td>1852</td>\n",
       "      <td>1862</td>\n",
       "      <td>2020-01-25 00:39:20</td>\n",
       "      <td>1</td>\n",
       "      <td>0</td>\n",
       "    </tr>\n",
       "    <tr>\n",
       "      <th>4</th>\n",
       "      <td>347142932</td>\n",
       "      <td>Life Cycle UK</td>\n",
       "      <td>LifeCycleUKteam</td>\n",
       "      <td>Bristol</td>\n",
       "      <td>http://t.co/oCrHfe7xAg</td>\n",
       "      <td>Life Cycle UK is a Bristol-based charity that ...</td>\n",
       "      <td>3105</td>\n",
       "      <td>1645</td>\n",
       "      <td>3039</td>\n",
       "      <td>5349</td>\n",
       "      <td>2011-08-02 10:21:33</td>\n",
       "      <td>0</td>\n",
       "      <td>0</td>\n",
       "    </tr>\n",
       "  </tbody>\n",
       "</table>\n",
       "</div>"
      ],
      "text/plain": [
       "                    id                                     name  \\\n",
       "0  1098803589609189376                     💧The Cranky Croation   \n",
       "1            191393940  FranS #RejoinEU #ElectoralReform 🇬🇧🇪🇺🇩🇪   \n",
       "2  1185167241819676673                                  mbnvcxz   \n",
       "3  1220868357647368193                       Noles-4-Life-In-SC   \n",
       "4            347142932                            Life Cycle UK   \n",
       "\n",
       "          username location                     url  \\\n",
       "0      JohnSarich2      NaN                     NaN   \n",
       "1         FranS199    Earth                     NaN   \n",
       "2         mbnvcxz2      NaN                     NaN   \n",
       "3   Noles4LifeInSC      NaN                     NaN   \n",
       "4  LifeCycleUKteam  Bristol  http://t.co/oCrHfe7xAg   \n",
       "\n",
       "                                         description  followers  friends  \\\n",
       "0  My First ever vote was for Gough Whitlam. Left...        430      291   \n",
       "1  Love good food, good wine, great company. Hate...       4643     4904   \n",
       "2                                                NaN          0        3   \n",
       "3  Florida native living in Upstate South Carolin...        628      630   \n",
       "4  Life Cycle UK is a Bristol-based charity that ...       3105     1645   \n",
       "\n",
       "   favourites_count  statuses_count           created_at  default_profile  \\\n",
       "0             14866            6039  2019-02-22 04:36:05                1   \n",
       "1            257039           41696  2010-09-16 10:30:21                1   \n",
       "2                 1               8  2019-10-18 12:14:42                1   \n",
       "3              1852            1862  2020-01-25 00:39:20                1   \n",
       "4              3039            5349  2011-08-02 10:21:33                0   \n",
       "\n",
       "   default_profile_image  \n",
       "0                      0  \n",
       "1                      0  \n",
       "2                      1  \n",
       "3                      0  \n",
       "4                      0  "
      ]
     },
     "execution_count": 21,
     "metadata": {},
     "output_type": "execute_result"
    }
   ],
   "source": [
    "accounts_test.head()"
   ]
  },
  {
   "cell_type": "code",
   "execution_count": 22,
   "metadata": {
    "colab": {},
    "colab_type": "code",
    "id": "Vv3EX1hbDwxi"
   },
   "outputs": [],
   "source": [
    "# create functions for adding features to both datasets - we can add more features as more are developed!"
   ]
  },
  {
   "cell_type": "code",
   "execution_count": 23,
   "metadata": {
    "colab": {
     "base_uri": "https://localhost:8080/",
     "height": 51
    },
    "colab_type": "code",
    "executionInfo": {
     "elapsed": 1988,
     "status": "ok",
     "timestamp": 1586562108875,
     "user": {
      "displayName": "10710002夏婕禎",
      "photoUrl": "",
      "userId": "17941728896771621312"
     },
     "user_tz": -60
    },
    "id": "eB_mZzxCDwxl",
    "outputId": "ce394c9f-4039-453d-b3f1-217fdc2b2552"
   },
   "outputs": [
    {
     "name": "stderr",
     "output_type": "stream",
     "text": [
      "C:\\Users\\aris\\Anaconda3\\lib\\site-packages\\ipykernel_launcher.py:2: FutureWarning: Columnar iteration over characters will be deprecated in future releases.\n",
      "  \n"
     ]
    }
   ],
   "source": [
    "# days since account has been open\n",
    "accounts_test['date_created'], accounts_test['time'] = accounts_test['created_at'].str.split(' ', 1).str\n",
    "accounts_test['date_created'] = pd.to_datetime(accounts_test.date_created, format='%Y-%m-%d')\n",
    "accounts_test['day'] = ('2020-04-11')\n",
    "accounts_test['day'] = pd.to_datetime(accounts_test.day, format='%Y-%m-%d')\n",
    "accounts_test['days_active'] = (accounts_test['day'] - accounts_test['date_created']).dt.days\n",
    "\n",
    "if 'day' in accounts_test:\n",
    "    accounts_test = accounts_test.drop(columns=['time','day','created_at'])\n",
    "\n",
    "else:\n",
    "    accounts_test.head()"
   ]
  },
  {
   "cell_type": "code",
   "execution_count": 24,
   "metadata": {
    "colab": {
     "base_uri": "https://localhost:8080/",
     "height": 187
    },
    "colab_type": "code",
    "executionInfo": {
     "elapsed": 2658,
     "status": "ok",
     "timestamp": 1586562109565,
     "user": {
      "displayName": "10710002夏婕禎",
      "photoUrl": "",
      "userId": "17941728896771621312"
     },
     "user_tz": -60
    },
    "id": "UDEGSuzWDwxo",
    "outputId": "8a80932a-bf70-420a-a10e-ac705703eecc"
   },
   "outputs": [
    {
     "name": "stderr",
     "output_type": "stream",
     "text": [
      "C:\\Users\\aris\\Anaconda3\\lib\\site-packages\\ipykernel_launcher.py:5: SettingWithCopyWarning: \n",
      "A value is trying to be set on a copy of a slice from a DataFrame\n",
      "\n",
      "See the caveats in the documentation: https://pandas.pydata.org/pandas-docs/stable/user_guide/indexing.html#returning-a-view-versus-a-copy\n",
      "  \"\"\"\n",
      "C:\\Users\\aris\\Anaconda3\\lib\\site-packages\\ipykernel_launcher.py:12: SettingWithCopyWarning: \n",
      "A value is trying to be set on a copy of a slice from a DataFrame\n",
      "\n",
      "See the caveats in the documentation: https://pandas.pydata.org/pandas-docs/stable/user_guide/indexing.html#returning-a-view-versus-a-copy\n",
      "  if sys.path[0] == '':\n"
     ]
    }
   ],
   "source": [
    "# days since account has been open\n",
    "\n",
    "# deal with UNIX timestamp data\n",
    "l = accounts_train.created_at.apply(lambda x: x.endswith('L'))\n",
    "accounts_train.created_at[l] = accounts_train.created_at[l].str.replace('L', '')\n",
    "d = pd.to_datetime(accounts_train.created_at[l], unit='ms')\n",
    "d = d.apply(lambda x: datetime.strptime(str(x), '%Y-%m-%d %X').strftime('%Y-%m-%d'))\n",
    "d = pd.to_datetime(d, format='%Y-%m-%d')\n",
    "accounts_train.loc[d.index, 'date_created'] = d\n",
    "\n",
    "# deal with normal format data\n",
    "accounts_train.created_at[~l] = accounts_train.created_at[~l].apply(lambda x: datetime.strptime(x, '%a %b %d %X %z %Y').strftime('%Y-%m-%d'))\n",
    "d1 = pd.to_datetime(accounts_train.created_at[~l], format='%Y-%m-%d')\n",
    "accounts_train.loc[d1.index, 'date_created'] = d1\n",
    "\n",
    "accounts_train['day'] = pd.to_datetime('2020-04-11', format='%Y-%m-%d')\n",
    "accounts_train['days_active'] = (accounts_train['day'] - accounts_train['date_created']).dt.days\n",
    "\n",
    "if 'day' in accounts_train:\n",
    "    accounts_train = accounts_train.drop(columns=['day','created_at'])\n",
    "\n",
    "else:\n",
    "    accounts_train.head()"
   ]
  },
  {
   "cell_type": "code",
   "execution_count": 25,
   "metadata": {
    "colab": {
     "base_uri": "https://localhost:8080/",
     "height": 247
    },
    "colab_type": "code",
    "executionInfo": {
     "elapsed": 769,
     "status": "ok",
     "timestamp": 1586562166647,
     "user": {
      "displayName": "10710002夏婕禎",
      "photoUrl": "",
      "userId": "17941728896771621312"
     },
     "user_tz": -60
    },
    "id": "evR4LrvPYQPS",
    "outputId": "53edc20b-8a41-4768-82dd-82713cc8ea61"
   },
   "outputs": [
    {
     "data": {
      "text/html": [
       "<div>\n",
       "<style scoped>\n",
       "    .dataframe tbody tr th:only-of-type {\n",
       "        vertical-align: middle;\n",
       "    }\n",
       "\n",
       "    .dataframe tbody tr th {\n",
       "        vertical-align: top;\n",
       "    }\n",
       "\n",
       "    .dataframe thead th {\n",
       "        text-align: right;\n",
       "    }\n",
       "</style>\n",
       "<table border=\"1\" class=\"dataframe\">\n",
       "  <thead>\n",
       "    <tr style=\"text-align: right;\">\n",
       "      <th></th>\n",
       "      <th>id</th>\n",
       "      <th>name</th>\n",
       "      <th>username</th>\n",
       "      <th>location</th>\n",
       "      <th>url</th>\n",
       "      <th>description</th>\n",
       "      <th>followers</th>\n",
       "      <th>friends</th>\n",
       "      <th>favourites_count</th>\n",
       "      <th>statuses_count</th>\n",
       "      <th>default_profile</th>\n",
       "      <th>default_profile_image</th>\n",
       "      <th>class</th>\n",
       "      <th>date_created</th>\n",
       "      <th>days_active</th>\n",
       "      <th>followers_age</th>\n",
       "      <th>following_age</th>\n",
       "      <th>favourites_age</th>\n",
       "      <th>tweets_age</th>\n",
       "      <th>followers_ratio</th>\n",
       "    </tr>\n",
       "  </thead>\n",
       "  <tbody>\n",
       "    <tr>\n",
       "      <th>0</th>\n",
       "      <td>418</td>\n",
       "      <td>Dennis Crowley</td>\n",
       "      <td>dens</td>\n",
       "      <td>NYC / Kingston</td>\n",
       "      <td>https://t.co/63fYABYs9J</td>\n",
       "      <td>I like to build things (@Foursquare📱, @Stockad...</td>\n",
       "      <td>85422</td>\n",
       "      <td>2623</td>\n",
       "      <td>14990</td>\n",
       "      <td>69341</td>\n",
       "      <td>0.0</td>\n",
       "      <td>0.0</td>\n",
       "      <td>human</td>\n",
       "      <td>2006-07-05</td>\n",
       "      <td>5029</td>\n",
       "      <td>16.985882</td>\n",
       "      <td>0.521575</td>\n",
       "      <td>2.980712</td>\n",
       "      <td>13.788228</td>\n",
       "      <td>0.030706</td>\n",
       "    </tr>\n",
       "    <tr>\n",
       "      <th>1</th>\n",
       "      <td>586</td>\n",
       "      <td>Chris Sacca</td>\n",
       "      <td>sacca</td>\n",
       "      <td>The Rocky Mountains</td>\n",
       "      <td>NaN</td>\n",
       "      <td>I love @crystale &amp; our 3 girls. Used to invest...</td>\n",
       "      <td>1669241</td>\n",
       "      <td>1004</td>\n",
       "      <td>301974</td>\n",
       "      <td>71148</td>\n",
       "      <td>0.0</td>\n",
       "      <td>0.0</td>\n",
       "      <td>human</td>\n",
       "      <td>2006-07-13</td>\n",
       "      <td>5021</td>\n",
       "      <td>332.451902</td>\n",
       "      <td>0.199960</td>\n",
       "      <td>60.142203</td>\n",
       "      <td>14.170086</td>\n",
       "      <td>0.000601</td>\n",
       "    </tr>\n",
       "    <tr>\n",
       "      <th>2</th>\n",
       "      <td>8557</td>\n",
       "      <td>Japhy Grant</td>\n",
       "      <td>japhygrant</td>\n",
       "      <td>Los Angeles, CA</td>\n",
       "      <td>https://t.co/jTIWv0ILjC</td>\n",
       "      <td>👨‍🚀🌵Founder, #WonderValleyProjects. Had a hand...</td>\n",
       "      <td>3207</td>\n",
       "      <td>122</td>\n",
       "      <td>8901</td>\n",
       "      <td>15191</td>\n",
       "      <td>0.0</td>\n",
       "      <td>0.0</td>\n",
       "      <td>human</td>\n",
       "      <td>2006-10-11</td>\n",
       "      <td>4931</td>\n",
       "      <td>0.650375</td>\n",
       "      <td>0.024741</td>\n",
       "      <td>1.805111</td>\n",
       "      <td>3.080714</td>\n",
       "      <td>0.038042</td>\n",
       "    </tr>\n",
       "  </tbody>\n",
       "</table>\n",
       "</div>"
      ],
      "text/plain": [
       "     id            name    username             location  \\\n",
       "0   418  Dennis Crowley        dens       NYC / Kingston   \n",
       "1   586     Chris Sacca       sacca  The Rocky Mountains   \n",
       "2  8557     Japhy Grant  japhygrant      Los Angeles, CA   \n",
       "\n",
       "                       url                                        description  \\\n",
       "0  https://t.co/63fYABYs9J  I like to build things (@Foursquare📱, @Stockad...   \n",
       "1                      NaN  I love @crystale & our 3 girls. Used to invest...   \n",
       "2  https://t.co/jTIWv0ILjC  👨‍🚀🌵Founder, #WonderValleyProjects. Had a hand...   \n",
       "\n",
       "   followers  friends  favourites_count  statuses_count  default_profile  \\\n",
       "0      85422     2623             14990           69341              0.0   \n",
       "1    1669241     1004            301974           71148              0.0   \n",
       "2       3207      122              8901           15191              0.0   \n",
       "\n",
       "   default_profile_image  class date_created  days_active  followers_age  \\\n",
       "0                    0.0  human   2006-07-05         5029      16.985882   \n",
       "1                    0.0  human   2006-07-13         5021     332.451902   \n",
       "2                    0.0  human   2006-10-11         4931       0.650375   \n",
       "\n",
       "   following_age  favourites_age  tweets_age  followers_ratio  \n",
       "0       0.521575        2.980712   13.788228         0.030706  \n",
       "1       0.199960       60.142203   14.170086         0.000601  \n",
       "2       0.024741        1.805111    3.080714         0.038042  "
      ]
     },
     "execution_count": 25,
     "metadata": {},
     "output_type": "execute_result"
    }
   ],
   "source": [
    "# social figures in relation to account age\n",
    "accounts_train['followers_age'] = accounts_train['followers'] / accounts_train['days_active']\n",
    "accounts_train['following_age'] = accounts_train['friends'] / accounts_train['days_active']\n",
    "accounts_train['favourites_age'] = accounts_train['favourites_count'] / accounts_train['days_active']\n",
    "accounts_train['tweets_age'] = accounts_train['statuses_count'] / accounts_train['days_active']\n",
    "\n",
    "# following to follower ratio\n",
    "accounts_train['followers_ratio'] = accounts_train['friends'] / accounts_train['followers']\n",
    "\n",
    "accounts_train.head(3)"
   ]
  },
  {
   "cell_type": "code",
   "execution_count": 26,
   "metadata": {
    "colab": {
     "base_uri": "https://localhost:8080/",
     "height": 298
    },
    "colab_type": "code",
    "executionInfo": {
     "elapsed": 798,
     "status": "ok",
     "timestamp": 1586562176084,
     "user": {
      "displayName": "10710002夏婕禎",
      "photoUrl": "",
      "userId": "17941728896771621312"
     },
     "user_tz": -60
    },
    "id": "J8cw1QgUeP4v",
    "outputId": "b286c764-b10e-4aa5-bd18-791cbaffc696"
   },
   "outputs": [
    {
     "data": {
      "text/html": [
       "<div>\n",
       "<style scoped>\n",
       "    .dataframe tbody tr th:only-of-type {\n",
       "        vertical-align: middle;\n",
       "    }\n",
       "\n",
       "    .dataframe tbody tr th {\n",
       "        vertical-align: top;\n",
       "    }\n",
       "\n",
       "    .dataframe thead th {\n",
       "        text-align: right;\n",
       "    }\n",
       "</style>\n",
       "<table border=\"1\" class=\"dataframe\">\n",
       "  <thead>\n",
       "    <tr style=\"text-align: right;\">\n",
       "      <th></th>\n",
       "      <th>id</th>\n",
       "      <th>name</th>\n",
       "      <th>username</th>\n",
       "      <th>location</th>\n",
       "      <th>url</th>\n",
       "      <th>description</th>\n",
       "      <th>followers</th>\n",
       "      <th>friends</th>\n",
       "      <th>favourites_count</th>\n",
       "      <th>statuses_count</th>\n",
       "      <th>default_profile</th>\n",
       "      <th>default_profile_image</th>\n",
       "      <th>date_created</th>\n",
       "      <th>days_active</th>\n",
       "      <th>followers_age</th>\n",
       "      <th>following_age</th>\n",
       "      <th>favourites_age</th>\n",
       "      <th>tweets_age</th>\n",
       "      <th>followers_ratio</th>\n",
       "    </tr>\n",
       "  </thead>\n",
       "  <tbody>\n",
       "    <tr>\n",
       "      <th>0</th>\n",
       "      <td>1098803589609189376</td>\n",
       "      <td>💧The Cranky Croation</td>\n",
       "      <td>JohnSarich2</td>\n",
       "      <td>NaN</td>\n",
       "      <td>NaN</td>\n",
       "      <td>My First ever vote was for Gough Whitlam. Left...</td>\n",
       "      <td>430</td>\n",
       "      <td>291</td>\n",
       "      <td>14866</td>\n",
       "      <td>6039</td>\n",
       "      <td>1</td>\n",
       "      <td>0</td>\n",
       "      <td>2019-02-22</td>\n",
       "      <td>414</td>\n",
       "      <td>1.038647</td>\n",
       "      <td>0.702899</td>\n",
       "      <td>35.908213</td>\n",
       "      <td>14.586957</td>\n",
       "      <td>0.676744</td>\n",
       "    </tr>\n",
       "    <tr>\n",
       "      <th>1</th>\n",
       "      <td>191393940</td>\n",
       "      <td>FranS #RejoinEU #ElectoralReform 🇬🇧🇪🇺🇩🇪</td>\n",
       "      <td>FranS199</td>\n",
       "      <td>Earth</td>\n",
       "      <td>NaN</td>\n",
       "      <td>Love good food, good wine, great company. Hate...</td>\n",
       "      <td>4643</td>\n",
       "      <td>4904</td>\n",
       "      <td>257039</td>\n",
       "      <td>41696</td>\n",
       "      <td>1</td>\n",
       "      <td>0</td>\n",
       "      <td>2010-09-16</td>\n",
       "      <td>3495</td>\n",
       "      <td>1.328469</td>\n",
       "      <td>1.403147</td>\n",
       "      <td>73.544778</td>\n",
       "      <td>11.930186</td>\n",
       "      <td>1.056214</td>\n",
       "    </tr>\n",
       "    <tr>\n",
       "      <th>2</th>\n",
       "      <td>1185167241819676673</td>\n",
       "      <td>mbnvcxz</td>\n",
       "      <td>mbnvcxz2</td>\n",
       "      <td>NaN</td>\n",
       "      <td>NaN</td>\n",
       "      <td>NaN</td>\n",
       "      <td>0</td>\n",
       "      <td>3</td>\n",
       "      <td>1</td>\n",
       "      <td>8</td>\n",
       "      <td>1</td>\n",
       "      <td>1</td>\n",
       "      <td>2019-10-18</td>\n",
       "      <td>176</td>\n",
       "      <td>0.000000</td>\n",
       "      <td>0.017045</td>\n",
       "      <td>0.005682</td>\n",
       "      <td>0.045455</td>\n",
       "      <td>NaN</td>\n",
       "    </tr>\n",
       "  </tbody>\n",
       "</table>\n",
       "</div>"
      ],
      "text/plain": [
       "                    id                                     name     username  \\\n",
       "0  1098803589609189376                     💧The Cranky Croation  JohnSarich2   \n",
       "1            191393940  FranS #RejoinEU #ElectoralReform 🇬🇧🇪🇺🇩🇪     FranS199   \n",
       "2  1185167241819676673                                  mbnvcxz     mbnvcxz2   \n",
       "\n",
       "  location  url                                        description  followers  \\\n",
       "0      NaN  NaN  My First ever vote was for Gough Whitlam. Left...        430   \n",
       "1    Earth  NaN  Love good food, good wine, great company. Hate...       4643   \n",
       "2      NaN  NaN                                                NaN          0   \n",
       "\n",
       "   friends  favourites_count  statuses_count  default_profile  \\\n",
       "0      291             14866            6039                1   \n",
       "1     4904            257039           41696                1   \n",
       "2        3                 1               8                1   \n",
       "\n",
       "   default_profile_image date_created  days_active  followers_age  \\\n",
       "0                      0   2019-02-22          414       1.038647   \n",
       "1                      0   2010-09-16         3495       1.328469   \n",
       "2                      1   2019-10-18          176       0.000000   \n",
       "\n",
       "   following_age  favourites_age  tweets_age  followers_ratio  \n",
       "0       0.702899       35.908213   14.586957         0.676744  \n",
       "1       1.403147       73.544778   11.930186         1.056214  \n",
       "2       0.017045        0.005682    0.045455              NaN  "
      ]
     },
     "execution_count": 26,
     "metadata": {},
     "output_type": "execute_result"
    }
   ],
   "source": [
    "# social figures in relation to account age\n",
    "accounts_test['followers_age'] = accounts_test['followers'] / accounts_test['days_active']\n",
    "accounts_test['following_age'] = accounts_test['friends'] / accounts_test['days_active']\n",
    "accounts_test['favourites_age'] = accounts_test['favourites_count'] / accounts_test['days_active']\n",
    "accounts_test['tweets_age'] = accounts_test['statuses_count'] / accounts_test['days_active']\n",
    "\n",
    "# following to follower ratio\n",
    "accounts_test['followers_ratio'] = accounts_test['friends'] / accounts_test['followers']\n",
    "\n",
    "accounts_test.head(3)"
   ]
  },
  {
   "cell_type": "code",
   "execution_count": 27,
   "metadata": {
    "colab": {
     "base_uri": "https://localhost:8080/",
     "height": 462
    },
    "colab_type": "code",
    "executionInfo": {
     "elapsed": 945,
     "status": "ok",
     "timestamp": 1586562481335,
     "user": {
      "displayName": "10710002夏婕禎",
      "photoUrl": "",
      "userId": "17941728896771621312"
     },
     "user_tz": -60
    },
    "id": "9Ht6Vn9rff15",
    "outputId": "bfbc24d7-9b44-488a-d143-ecced8b28c9a"
   },
   "outputs": [
    {
     "data": {
      "text/html": [
       "<div>\n",
       "<style scoped>\n",
       "    .dataframe tbody tr th:only-of-type {\n",
       "        vertical-align: middle;\n",
       "    }\n",
       "\n",
       "    .dataframe tbody tr th {\n",
       "        vertical-align: top;\n",
       "    }\n",
       "\n",
       "    .dataframe thead th {\n",
       "        text-align: right;\n",
       "    }\n",
       "</style>\n",
       "<table border=\"1\" class=\"dataframe\">\n",
       "  <thead>\n",
       "    <tr style=\"text-align: right;\">\n",
       "      <th></th>\n",
       "      <th>id</th>\n",
       "      <th>name</th>\n",
       "      <th>username</th>\n",
       "      <th>location</th>\n",
       "      <th>url</th>\n",
       "      <th>description</th>\n",
       "      <th>followers</th>\n",
       "      <th>friends</th>\n",
       "      <th>favourites_count</th>\n",
       "      <th>statuses_count</th>\n",
       "      <th>...</th>\n",
       "      <th>favourites_age</th>\n",
       "      <th>tweets_age</th>\n",
       "      <th>followers_ratio</th>\n",
       "      <th>username_char_len</th>\n",
       "      <th>name_ratio</th>\n",
       "      <th>username_int</th>\n",
       "      <th>username_char</th>\n",
       "      <th>username_other</th>\n",
       "      <th>username_int_end</th>\n",
       "      <th>name_int</th>\n",
       "    </tr>\n",
       "  </thead>\n",
       "  <tbody>\n",
       "    <tr>\n",
       "      <th>0</th>\n",
       "      <td>1098803589609189376</td>\n",
       "      <td>💧The Cranky Croation</td>\n",
       "      <td>JohnSarich2</td>\n",
       "      <td>NaN</td>\n",
       "      <td>NaN</td>\n",
       "      <td>My First ever vote was for Gough Whitlam. Left...</td>\n",
       "      <td>430</td>\n",
       "      <td>291</td>\n",
       "      <td>14866</td>\n",
       "      <td>6039</td>\n",
       "      <td>...</td>\n",
       "      <td>35.908213</td>\n",
       "      <td>14.586957</td>\n",
       "      <td>0.676744</td>\n",
       "      <td>11</td>\n",
       "      <td>1.818182</td>\n",
       "      <td>1</td>\n",
       "      <td>10</td>\n",
       "      <td>0</td>\n",
       "      <td>1</td>\n",
       "      <td>0</td>\n",
       "    </tr>\n",
       "    <tr>\n",
       "      <th>1</th>\n",
       "      <td>191393940</td>\n",
       "      <td>FranS #RejoinEU #ElectoralReform 🇬🇧🇪🇺🇩🇪</td>\n",
       "      <td>FranS199</td>\n",
       "      <td>Earth</td>\n",
       "      <td>NaN</td>\n",
       "      <td>Love good food, good wine, great company. Hate...</td>\n",
       "      <td>4643</td>\n",
       "      <td>4904</td>\n",
       "      <td>257039</td>\n",
       "      <td>41696</td>\n",
       "      <td>...</td>\n",
       "      <td>73.544778</td>\n",
       "      <td>11.930186</td>\n",
       "      <td>1.056214</td>\n",
       "      <td>8</td>\n",
       "      <td>4.875000</td>\n",
       "      <td>3</td>\n",
       "      <td>5</td>\n",
       "      <td>0</td>\n",
       "      <td>3</td>\n",
       "      <td>0</td>\n",
       "    </tr>\n",
       "    <tr>\n",
       "      <th>2</th>\n",
       "      <td>1185167241819676673</td>\n",
       "      <td>mbnvcxz</td>\n",
       "      <td>mbnvcxz2</td>\n",
       "      <td>NaN</td>\n",
       "      <td>NaN</td>\n",
       "      <td>NaN</td>\n",
       "      <td>0</td>\n",
       "      <td>3</td>\n",
       "      <td>1</td>\n",
       "      <td>8</td>\n",
       "      <td>...</td>\n",
       "      <td>0.005682</td>\n",
       "      <td>0.045455</td>\n",
       "      <td>NaN</td>\n",
       "      <td>8</td>\n",
       "      <td>0.875000</td>\n",
       "      <td>1</td>\n",
       "      <td>7</td>\n",
       "      <td>0</td>\n",
       "      <td>1</td>\n",
       "      <td>0</td>\n",
       "    </tr>\n",
       "    <tr>\n",
       "      <th>3</th>\n",
       "      <td>1220868357647368193</td>\n",
       "      <td>Noles-4-Life-In-SC</td>\n",
       "      <td>Noles4LifeInSC</td>\n",
       "      <td>NaN</td>\n",
       "      <td>NaN</td>\n",
       "      <td>Florida native living in Upstate South Carolin...</td>\n",
       "      <td>628</td>\n",
       "      <td>630</td>\n",
       "      <td>1852</td>\n",
       "      <td>1862</td>\n",
       "      <td>...</td>\n",
       "      <td>24.051948</td>\n",
       "      <td>24.181818</td>\n",
       "      <td>1.003185</td>\n",
       "      <td>14</td>\n",
       "      <td>1.285714</td>\n",
       "      <td>1</td>\n",
       "      <td>13</td>\n",
       "      <td>0</td>\n",
       "      <td>0</td>\n",
       "      <td>1</td>\n",
       "    </tr>\n",
       "    <tr>\n",
       "      <th>4</th>\n",
       "      <td>347142932</td>\n",
       "      <td>Life Cycle UK</td>\n",
       "      <td>LifeCycleUKteam</td>\n",
       "      <td>Bristol</td>\n",
       "      <td>http://t.co/oCrHfe7xAg</td>\n",
       "      <td>Life Cycle UK is a Bristol-based charity that ...</td>\n",
       "      <td>3105</td>\n",
       "      <td>1645</td>\n",
       "      <td>3039</td>\n",
       "      <td>5349</td>\n",
       "      <td>...</td>\n",
       "      <td>0.957165</td>\n",
       "      <td>1.684724</td>\n",
       "      <td>0.529791</td>\n",
       "      <td>15</td>\n",
       "      <td>0.866667</td>\n",
       "      <td>0</td>\n",
       "      <td>15</td>\n",
       "      <td>0</td>\n",
       "      <td>0</td>\n",
       "      <td>0</td>\n",
       "    </tr>\n",
       "  </tbody>\n",
       "</table>\n",
       "<p>5 rows × 26 columns</p>\n",
       "</div>"
      ],
      "text/plain": [
       "                    id                                     name  \\\n",
       "0  1098803589609189376                     💧The Cranky Croation   \n",
       "1            191393940  FranS #RejoinEU #ElectoralReform 🇬🇧🇪🇺🇩🇪   \n",
       "2  1185167241819676673                                  mbnvcxz   \n",
       "3  1220868357647368193                       Noles-4-Life-In-SC   \n",
       "4            347142932                            Life Cycle UK   \n",
       "\n",
       "          username location                     url  \\\n",
       "0      JohnSarich2      NaN                     NaN   \n",
       "1         FranS199    Earth                     NaN   \n",
       "2         mbnvcxz2      NaN                     NaN   \n",
       "3   Noles4LifeInSC      NaN                     NaN   \n",
       "4  LifeCycleUKteam  Bristol  http://t.co/oCrHfe7xAg   \n",
       "\n",
       "                                         description  followers  friends  \\\n",
       "0  My First ever vote was for Gough Whitlam. Left...        430      291   \n",
       "1  Love good food, good wine, great company. Hate...       4643     4904   \n",
       "2                                                NaN          0        3   \n",
       "3  Florida native living in Upstate South Carolin...        628      630   \n",
       "4  Life Cycle UK is a Bristol-based charity that ...       3105     1645   \n",
       "\n",
       "   favourites_count  statuses_count  ...  favourites_age  tweets_age  \\\n",
       "0             14866            6039  ...       35.908213   14.586957   \n",
       "1            257039           41696  ...       73.544778   11.930186   \n",
       "2                 1               8  ...        0.005682    0.045455   \n",
       "3              1852            1862  ...       24.051948   24.181818   \n",
       "4              3039            5349  ...        0.957165    1.684724   \n",
       "\n",
       "  followers_ratio  username_char_len  name_ratio  username_int  username_char  \\\n",
       "0        0.676744                 11    1.818182             1             10   \n",
       "1        1.056214                  8    4.875000             3              5   \n",
       "2             NaN                  8    0.875000             1              7   \n",
       "3        1.003185                 14    1.285714             1             13   \n",
       "4        0.529791                 15    0.866667             0             15   \n",
       "\n",
       "   username_other  username_int_end  name_int  \n",
       "0               0                 1         0  \n",
       "1               0                 3         0  \n",
       "2               0                 1         0  \n",
       "3               0                 0         1  \n",
       "4               0                 0         0  \n",
       "\n",
       "[5 rows x 26 columns]"
      ]
     },
     "execution_count": 27,
     "metadata": {},
     "output_type": "execute_result"
    }
   ],
   "source": [
    "# username features - can only use A-Z, 0-9 and _ + not case-sensitive\n",
    "accounts_test['username_char_len'] = accounts_test['username'].str.len()\n",
    "\n",
    "# length of username in comparison to length of real name\n",
    "accounts_test['name_ratio'] = accounts_test['name'].str.len() / accounts_test['username'].str.len()\n",
    "    # amount of numbers in username\n",
    "username_int = []    \n",
    "for i in accounts_test['username']:\n",
    "    numbers = sum(c.isdigit() for c in i)\n",
    "    username_int.append(numbers)\n",
    "accounts_test['username_int'] = username_int\n",
    "\n",
    "    # amount of characters\n",
    "username_char = []    \n",
    "for i in accounts_test['username']:\n",
    "    char = sum(c.isalpha() for c in i)\n",
    "    username_char.append(char)\n",
    "accounts_test['username_char'] = username_char\n",
    "\n",
    "    # underscores \n",
    "accounts_test['username_other'] = accounts_test['username_char_len'] - (accounts_test['username_int'] + \n",
    "                                                                       accounts_test['username_char'])\n",
    "\n",
    "# amount of numbers at the end of username if there is any\n",
    "results = []\n",
    "\n",
    "for i in accounts_test['username']:\n",
    "    m = re.search(r'\\d+$', i)\n",
    "    if m is None:\n",
    "        results.append(0)\n",
    "    elif m is not None:\n",
    "        count = m.group()\n",
    "        results.append(len(count))\n",
    "\n",
    "accounts_test['username_int_end'] = results\n",
    "\n",
    "# amount of numbers in display name (not common for real users, but maybe for businesses!)\n",
    "name_int = []    \n",
    "for i in accounts_test['name']:\n",
    "    numbers = sum(c.isdigit() for c in i)\n",
    "    name_int.append(numbers)\n",
    "accounts_test['name_int'] = name_int\n",
    "\n",
    "# is there any cases of bots using techniques to make account details appear real, emoji flags, hashtags etc?\n",
    "accounts_test.head()"
   ]
  },
  {
   "cell_type": "code",
   "execution_count": 28,
   "metadata": {
    "colab": {
     "base_uri": "https://localhost:8080/",
     "height": 360
    },
    "colab_type": "code",
    "executionInfo": {
     "elapsed": 976,
     "status": "ok",
     "timestamp": 1586562894634,
     "user": {
      "displayName": "10710002夏婕禎",
      "photoUrl": "",
      "userId": "17941728896771621312"
     },
     "user_tz": -60
    },
    "id": "tpQitKNjeh8f",
    "outputId": "47c04a7f-ae22-425d-ecf3-34f409d33c27"
   },
   "outputs": [
    {
     "data": {
      "text/html": [
       "<div>\n",
       "<style scoped>\n",
       "    .dataframe tbody tr th:only-of-type {\n",
       "        vertical-align: middle;\n",
       "    }\n",
       "\n",
       "    .dataframe tbody tr th {\n",
       "        vertical-align: top;\n",
       "    }\n",
       "\n",
       "    .dataframe thead th {\n",
       "        text-align: right;\n",
       "    }\n",
       "</style>\n",
       "<table border=\"1\" class=\"dataframe\">\n",
       "  <thead>\n",
       "    <tr style=\"text-align: right;\">\n",
       "      <th></th>\n",
       "      <th>id</th>\n",
       "      <th>name</th>\n",
       "      <th>username</th>\n",
       "      <th>location</th>\n",
       "      <th>url</th>\n",
       "      <th>description</th>\n",
       "      <th>followers</th>\n",
       "      <th>friends</th>\n",
       "      <th>favourites_count</th>\n",
       "      <th>statuses_count</th>\n",
       "      <th>...</th>\n",
       "      <th>favourites_age</th>\n",
       "      <th>tweets_age</th>\n",
       "      <th>followers_ratio</th>\n",
       "      <th>username_char_len</th>\n",
       "      <th>name_ratio</th>\n",
       "      <th>username_int</th>\n",
       "      <th>username_char</th>\n",
       "      <th>username_other</th>\n",
       "      <th>username_int_end</th>\n",
       "      <th>name_int</th>\n",
       "    </tr>\n",
       "  </thead>\n",
       "  <tbody>\n",
       "    <tr>\n",
       "      <th>0</th>\n",
       "      <td>418</td>\n",
       "      <td>Dennis Crowley</td>\n",
       "      <td>dens</td>\n",
       "      <td>NYC / Kingston</td>\n",
       "      <td>https://t.co/63fYABYs9J</td>\n",
       "      <td>I like to build things (@Foursquare📱, @Stockad...</td>\n",
       "      <td>85422</td>\n",
       "      <td>2623</td>\n",
       "      <td>14990</td>\n",
       "      <td>69341</td>\n",
       "      <td>...</td>\n",
       "      <td>2.980712</td>\n",
       "      <td>13.788228</td>\n",
       "      <td>0.030706</td>\n",
       "      <td>4</td>\n",
       "      <td>3.500000</td>\n",
       "      <td>0</td>\n",
       "      <td>4</td>\n",
       "      <td>0</td>\n",
       "      <td>0</td>\n",
       "      <td>0.0</td>\n",
       "    </tr>\n",
       "    <tr>\n",
       "      <th>1</th>\n",
       "      <td>586</td>\n",
       "      <td>Chris Sacca</td>\n",
       "      <td>sacca</td>\n",
       "      <td>The Rocky Mountains</td>\n",
       "      <td>NaN</td>\n",
       "      <td>I love @crystale &amp; our 3 girls. Used to invest...</td>\n",
       "      <td>1669241</td>\n",
       "      <td>1004</td>\n",
       "      <td>301974</td>\n",
       "      <td>71148</td>\n",
       "      <td>...</td>\n",
       "      <td>60.142203</td>\n",
       "      <td>14.170086</td>\n",
       "      <td>0.000601</td>\n",
       "      <td>5</td>\n",
       "      <td>2.200000</td>\n",
       "      <td>0</td>\n",
       "      <td>5</td>\n",
       "      <td>0</td>\n",
       "      <td>0</td>\n",
       "      <td>0.0</td>\n",
       "    </tr>\n",
       "    <tr>\n",
       "      <th>2</th>\n",
       "      <td>8557</td>\n",
       "      <td>Japhy Grant</td>\n",
       "      <td>japhygrant</td>\n",
       "      <td>Los Angeles, CA</td>\n",
       "      <td>https://t.co/jTIWv0ILjC</td>\n",
       "      <td>👨‍🚀🌵Founder, #WonderValleyProjects. Had a hand...</td>\n",
       "      <td>3207</td>\n",
       "      <td>122</td>\n",
       "      <td>8901</td>\n",
       "      <td>15191</td>\n",
       "      <td>...</td>\n",
       "      <td>1.805111</td>\n",
       "      <td>3.080714</td>\n",
       "      <td>0.038042</td>\n",
       "      <td>10</td>\n",
       "      <td>1.100000</td>\n",
       "      <td>0</td>\n",
       "      <td>10</td>\n",
       "      <td>0</td>\n",
       "      <td>0</td>\n",
       "      <td>0.0</td>\n",
       "    </tr>\n",
       "    <tr>\n",
       "      <th>3</th>\n",
       "      <td>12522</td>\n",
       "      <td>C.C. Chapman</td>\n",
       "      <td>cc_chapman</td>\n",
       "      <td>Boston, MA</td>\n",
       "      <td>NaN</td>\n",
       "      <td>Storyteller trying to leave it better than I f...</td>\n",
       "      <td>47372</td>\n",
       "      <td>22593</td>\n",
       "      <td>12468</td>\n",
       "      <td>139668</td>\n",
       "      <td>...</td>\n",
       "      <td>2.546569</td>\n",
       "      <td>28.526961</td>\n",
       "      <td>0.476927</td>\n",
       "      <td>10</td>\n",
       "      <td>1.200000</td>\n",
       "      <td>0</td>\n",
       "      <td>9</td>\n",
       "      <td>1</td>\n",
       "      <td>0</td>\n",
       "      <td>0.0</td>\n",
       "    </tr>\n",
       "    <tr>\n",
       "      <th>4</th>\n",
       "      <td>15913</td>\n",
       "      <td>Larry Hryb</td>\n",
       "      <td>majornelson</td>\n",
       "      <td>In your Xbox</td>\n",
       "      <td>https://t.co/UNpCOu2HKp</td>\n",
       "      <td>\"The Xbox Guy\" 🎮 • 💑@thehappygirl • Twitter &amp; ...</td>\n",
       "      <td>1127687</td>\n",
       "      <td>5</td>\n",
       "      <td>7</td>\n",
       "      <td>54804</td>\n",
       "      <td>...</td>\n",
       "      <td>0.001432</td>\n",
       "      <td>11.209654</td>\n",
       "      <td>0.000004</td>\n",
       "      <td>11</td>\n",
       "      <td>0.909091</td>\n",
       "      <td>0</td>\n",
       "      <td>11</td>\n",
       "      <td>0</td>\n",
       "      <td>0</td>\n",
       "      <td>0.0</td>\n",
       "    </tr>\n",
       "  </tbody>\n",
       "</table>\n",
       "<p>5 rows × 27 columns</p>\n",
       "</div>"
      ],
      "text/plain": [
       "      id            name     username             location  \\\n",
       "0    418  Dennis Crowley         dens       NYC / Kingston   \n",
       "1    586     Chris Sacca        sacca  The Rocky Mountains   \n",
       "2   8557     Japhy Grant   japhygrant      Los Angeles, CA   \n",
       "3  12522    C.C. Chapman   cc_chapman           Boston, MA   \n",
       "4  15913      Larry Hryb  majornelson         In your Xbox   \n",
       "\n",
       "                       url                                        description  \\\n",
       "0  https://t.co/63fYABYs9J  I like to build things (@Foursquare📱, @Stockad...   \n",
       "1                      NaN  I love @crystale & our 3 girls. Used to invest...   \n",
       "2  https://t.co/jTIWv0ILjC  👨‍🚀🌵Founder, #WonderValleyProjects. Had a hand...   \n",
       "3                      NaN  Storyteller trying to leave it better than I f...   \n",
       "4  https://t.co/UNpCOu2HKp  \"The Xbox Guy\" 🎮 • 💑@thehappygirl • Twitter & ...   \n",
       "\n",
       "   followers  friends  favourites_count  statuses_count  ...  favourites_age  \\\n",
       "0      85422     2623             14990           69341  ...        2.980712   \n",
       "1    1669241     1004            301974           71148  ...       60.142203   \n",
       "2       3207      122              8901           15191  ...        1.805111   \n",
       "3      47372    22593             12468          139668  ...        2.546569   \n",
       "4    1127687        5                 7           54804  ...        0.001432   \n",
       "\n",
       "   tweets_age followers_ratio username_char_len  name_ratio  username_int  \\\n",
       "0   13.788228        0.030706                 4    3.500000             0   \n",
       "1   14.170086        0.000601                 5    2.200000             0   \n",
       "2    3.080714        0.038042                10    1.100000             0   \n",
       "3   28.526961        0.476927                10    1.200000             0   \n",
       "4   11.209654        0.000004                11    0.909091             0   \n",
       "\n",
       "   username_char  username_other  username_int_end  name_int  \n",
       "0              4               0                 0       0.0  \n",
       "1              5               0                 0       0.0  \n",
       "2             10               0                 0       0.0  \n",
       "3              9               1                 0       0.0  \n",
       "4             11               0                 0       0.0  \n",
       "\n",
       "[5 rows x 27 columns]"
      ]
     },
     "execution_count": 28,
     "metadata": {},
     "output_type": "execute_result"
    }
   ],
   "source": [
    "# username features - can only use A-Z, 0-9 and _ + not case-sensitive\n",
    "accounts_train['username_char_len'] = accounts_train['username'].str.len()\n",
    "\n",
    "# length of username in comparison to length of real name\n",
    "accounts_train['name_ratio'] = accounts_train['name'].str.len() / accounts_train['username'].str.len()\n",
    "    # amount of numbers in username\n",
    "username_int = []    \n",
    "for i in accounts_train['username']:\n",
    "    numbers = sum(c.isdigit() for c in i)\n",
    "    username_int.append(numbers)\n",
    "accounts_train['username_int'] = username_int\n",
    "\n",
    "    # amount of characters\n",
    "username_char = []    \n",
    "for i in accounts_train['username']:\n",
    "    char = sum(c.isalpha() for c in i)\n",
    "    username_char.append(char)\n",
    "accounts_train['username_char'] = username_char\n",
    "\n",
    "    # underscores \n",
    "accounts_train['username_other'] = accounts_train['username_char_len'] - (accounts_train['username_int'] + \n",
    "                                                                       accounts_train['username_char'])\n",
    "\n",
    "# amount of numbers at the end of username if there is any\n",
    "results = []\n",
    "\n",
    "for i in accounts_train['username']:\n",
    "    m = re.search(r'\\d+$', i)\n",
    "    if m is None:\n",
    "        results.append(0)\n",
    "    elif m is not None:\n",
    "        count = m.group()\n",
    "        results.append(len(count))\n",
    "\n",
    "accounts_train['username_int_end'] = results\n",
    "\n",
    "# amount of numbers in display name (not common for real users, but maybe for businesses!)\n",
    "name_int = []    \n",
    "for i in accounts_train['name']:\n",
    "  if pd.isnull(i):\n",
    "    name_int.append(np.NaN)\n",
    "  else:\n",
    "    numbers = sum(c.isdigit() for c in i)\n",
    "    name_int.append(numbers)\n",
    "accounts_train['name_int'] = name_int\n",
    "\n",
    "# is there any cases of bots using techniques to make account details appear real, emoji flags, hashtags etc?\n",
    "accounts_train.head()"
   ]
  },
  {
   "cell_type": "code",
   "execution_count": 29,
   "metadata": {
    "colab": {
     "base_uri": "https://localhost:8080/",
     "height": 1000
    },
    "colab_type": "code",
    "executionInfo": {
     "elapsed": 1522,
     "status": "ok",
     "timestamp": 1586563131011,
     "user": {
      "displayName": "10710002夏婕禎",
      "photoUrl": "",
      "userId": "17941728896771621312"
     },
     "user_tz": -60
    },
    "id": "dn3HKyI1h-gF",
    "outputId": "d9b0ddee-b0da-4778-e051-4935aac9d165"
   },
   "outputs": [
    {
     "name": "stdout",
     "output_type": "stream",
     "text": [
      "<class 'pandas.core.frame.DataFrame'>\n",
      "RangeIndex: 19675 entries, 0 to 19674\n",
      "Data columns (total 27 columns):\n",
      " #   Column                 Non-Null Count  Dtype         \n",
      "---  ------                 --------------  -----         \n",
      " 0   id                     19675 non-null  int64         \n",
      " 1   name                   19673 non-null  object        \n",
      " 2   username               19675 non-null  object        \n",
      " 3   location               11553 non-null  object        \n",
      " 4   url                    5646 non-null   object        \n",
      " 5   description            12898 non-null  object        \n",
      " 6   followers              19675 non-null  int64         \n",
      " 7   friends                19675 non-null  int64         \n",
      " 8   favourites_count       19675 non-null  int64         \n",
      " 9   statuses_count         19675 non-null  int64         \n",
      " 10  default_profile        12097 non-null  float64       \n",
      " 11  default_profile_image  8185 non-null   float64       \n",
      " 12  class                  19675 non-null  object        \n",
      " 13  date_created           19675 non-null  datetime64[ns]\n",
      " 14  days_active            19675 non-null  int64         \n",
      " 15  followers_age          19675 non-null  float64       \n",
      " 16  following_age          19675 non-null  float64       \n",
      " 17  favourites_age         19675 non-null  float64       \n",
      " 18  tweets_age             19675 non-null  float64       \n",
      " 19  followers_ratio        19233 non-null  float64       \n",
      " 20  username_char_len      19675 non-null  int64         \n",
      " 21  name_ratio             19673 non-null  float64       \n",
      " 22  username_int           19675 non-null  int64         \n",
      " 23  username_char          19675 non-null  int64         \n",
      " 24  username_other         19675 non-null  int64         \n",
      " 25  username_int_end       19675 non-null  int64         \n",
      " 26  name_int               19673 non-null  float64       \n",
      "dtypes: datetime64[ns](1), float64(9), int64(11), object(6)\n",
      "memory usage: 4.1+ MB\n",
      "None\n",
      "<class 'pandas.core.frame.DataFrame'>\n",
      "RangeIndex: 4963 entries, 0 to 4962\n",
      "Data columns (total 26 columns):\n",
      " #   Column                 Non-Null Count  Dtype         \n",
      "---  ------                 --------------  -----         \n",
      " 0   id                     4963 non-null   int64         \n",
      " 1   name                   4963 non-null   object        \n",
      " 2   username               4963 non-null   object        \n",
      " 3   location               3719 non-null   object        \n",
      " 4   url                    2040 non-null   object        \n",
      " 5   description            4314 non-null   object        \n",
      " 6   followers              4963 non-null   int64         \n",
      " 7   friends                4963 non-null   int64         \n",
      " 8   favourites_count       4963 non-null   int64         \n",
      " 9   statuses_count         4963 non-null   int64         \n",
      " 10  default_profile        4963 non-null   int32         \n",
      " 11  default_profile_image  4963 non-null   int32         \n",
      " 12  date_created           4963 non-null   datetime64[ns]\n",
      " 13  days_active            4963 non-null   int64         \n",
      " 14  followers_age          4963 non-null   float64       \n",
      " 15  following_age          4963 non-null   float64       \n",
      " 16  favourites_age         4963 non-null   float64       \n",
      " 17  tweets_age             4963 non-null   float64       \n",
      " 18  followers_ratio        4899 non-null   float64       \n",
      " 19  username_char_len      4963 non-null   int64         \n",
      " 20  name_ratio             4963 non-null   float64       \n",
      " 21  username_int           4963 non-null   int64         \n",
      " 22  username_char          4963 non-null   int64         \n",
      " 23  username_other         4963 non-null   int64         \n",
      " 24  username_int_end       4963 non-null   int64         \n",
      " 25  name_int               4963 non-null   int64         \n",
      "dtypes: datetime64[ns](1), float64(6), int32(2), int64(12), object(5)\n",
      "memory usage: 969.5+ KB\n",
      "None\n"
     ]
    }
   ],
   "source": [
    "print(accounts_train.info())\n",
    "print(accounts_test.info())"
   ]
  },
  {
   "cell_type": "markdown",
   "metadata": {
    "colab_type": "text",
    "id": "09BMQGcADwxu"
   },
   "source": [
    "**Lets load in the additional features created using the recent tweets of each user**\n",
    "\n",
    "Don't load in the actual tweets - 5000 + 18000 * 200 = a bit too much"
   ]
  },
  {
   "cell_type": "code",
   "execution_count": 0,
   "metadata": {
    "colab": {},
    "colab_type": "code",
    "id": "X9kdWZoqDwxv"
   },
   "outputs": [],
   "source": [
    "# load in csvs of tweet related features aggregated by username which we can join without loading alot of tweets in"
   ]
  },
  {
   "cell_type": "code",
   "execution_count": 0,
   "metadata": {
    "colab": {},
    "colab_type": "code",
    "id": "HKwmUSMADwxx"
   },
   "outputs": [],
   "source": [
    "# # tweet_frequency for both datasets\n",
    "# frequency_5000 = pd.read_csv(path_to_file + '5000_tweets_frequency.csv')\n",
    "# #frequency_users = pd.read_csv(path_to_file + \"training_tweets_frequency.csv\")"
   ]
  },
  {
   "cell_type": "code",
   "execution_count": 0,
   "metadata": {
    "colab": {},
    "colab_type": "code",
    "id": "n5-EaIbRDwx2"
   },
   "outputs": [],
   "source": []
  },
  {
   "cell_type": "code",
   "execution_count": 0,
   "metadata": {
    "colab": {},
    "colab_type": "code",
    "id": "clSKCbNbDwx5"
   },
   "outputs": [],
   "source": []
  },
  {
   "cell_type": "code",
   "execution_count": 0,
   "metadata": {
    "colab": {},
    "colab_type": "code",
    "id": "cGXzZQtsDwx8"
   },
   "outputs": [],
   "source": []
  },
  {
   "cell_type": "code",
   "execution_count": 0,
   "metadata": {
    "colab": {},
    "colab_type": "code",
    "id": "mLZ5CZraDwx_"
   },
   "outputs": [],
   "source": []
  }
 ],
 "metadata": {
  "colab": {
   "collapsed_sections": [],
   "name": "tweets_ALL_features_integrated.ipynb",
   "provenance": []
  },
  "kernelspec": {
   "display_name": "Python 3",
   "language": "python",
   "name": "python3"
  },
  "language_info": {
   "codemirror_mode": {
    "name": "ipython",
    "version": 3
   },
   "file_extension": ".py",
   "mimetype": "text/x-python",
   "name": "python",
   "nbconvert_exporter": "python",
   "pygments_lexer": "ipython3",
   "version": "3.7.6"
  }
 },
 "nbformat": 4,
 "nbformat_minor": 1
}
