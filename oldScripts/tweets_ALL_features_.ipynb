{
 "cells": [
  {
   "cell_type": "code",
   "execution_count": 160,
   "metadata": {},
   "outputs": [],
   "source": [
    "import pandas as pd\n",
    "pd.set_option('use_inf_as_na', True)\n",
    "import csv"
   ]
  },
  {
   "cell_type": "code",
   "execution_count": 161,
   "metadata": {},
   "outputs": [],
   "source": [
    "### ADDED DATA INTO DATA FOLDER ON GDRIVE ###"
   ]
  },
  {
   "cell_type": "markdown",
   "metadata": {},
   "source": [
    "**Lets start with user data and their features - any featured created using the tweet data can be joined later**"
   ]
  },
  {
   "cell_type": "markdown",
   "metadata": {},
   "source": [
    "So this includes the 5000 accounts randomly sampled from our 'climate emergency' dataset and 18000 accounts which have been labelled as either bots or genuine users. (source?) The next steps are:\n",
    "\n",
    "- Load in the data and standardise columns - are there features that aren't in both and that we can find?\n",
    "- Apply the features we have created in relation to the user account details - again we can create more of these\n",
    "\n",
    "**Load in the tweet data (most 200 recent tweets ~ March 2020 for our sample, then variety for our training)**\n",
    "\n",
    "- Load in the tweet data for both samples and standardise columns etc\n",
    "- Apply the tweet based features we have created \n",
    "- Join these back to the user data - for example average words per tweet for each user etc\n",
    "- We can now apply a variety of supervised and unsupervised algorithms to the training data to apply to our random sample of 5000 users who contributed to the climate emergency debate during the time we collected data.\n",
    "- Literature suggests that unsupervised methods often produce better results: \n",
    " - fast greedy (Cresci et al., 2017)\n",
    " - digital DNA (Cresci et al., 2016)\n",
    " - graph clustering (Ahmed et al., 2013)\n",
    " \n",
    "Happy hunting!"
   ]
  },
  {
   "cell_type": "markdown",
   "metadata": {},
   "source": [
    "**Data folder in gdrive**\n",
    "\n",
    "- *5000_accounts_climate.csv* - the 5000 accounts from climate emergency with user features\n",
    "- *5000_tweets_climate.csv* - most recent 200 tweets from the 5000 accounts \n",
    "- *5000_tweets_frequency.csv* - features based on tweet frequency from the tweets of 5000 users\n",
    "- *training_users_tag.csv* - this is now the 18000 training data we have tweet data on as well\n",
    "- *training_tweets.txt* - most recent 200 tweets from the 18000 accounts columns = ['dt','text','tweetid','username']"
   ]
  },
  {
   "cell_type": "code",
   "execution_count": 117,
   "metadata": {},
   "outputs": [
    {
     "data": {
      "text/html": [
       "<div>\n",
       "<style scoped>\n",
       "    .dataframe tbody tr th:only-of-type {\n",
       "        vertical-align: middle;\n",
       "    }\n",
       "\n",
       "    .dataframe tbody tr th {\n",
       "        vertical-align: top;\n",
       "    }\n",
       "\n",
       "    .dataframe thead th {\n",
       "        text-align: right;\n",
       "    }\n",
       "</style>\n",
       "<table border=\"1\" class=\"dataframe\">\n",
       "  <thead>\n",
       "    <tr style=\"text-align: right;\">\n",
       "      <th></th>\n",
       "      <th>id</th>\n",
       "      <th>name</th>\n",
       "      <th>username</th>\n",
       "      <th>location</th>\n",
       "      <th>url</th>\n",
       "      <th>description</th>\n",
       "      <th>verified</th>\n",
       "      <th>followers</th>\n",
       "      <th>friends</th>\n",
       "      <th>favourites_count</th>\n",
       "      <th>statuses_count</th>\n",
       "      <th>created_at</th>\n",
       "      <th>default_profile</th>\n",
       "      <th>default_profile_image</th>\n",
       "    </tr>\n",
       "  </thead>\n",
       "  <tbody>\n",
       "    <tr>\n",
       "      <th>0</th>\n",
       "      <td>1098803589609189376</td>\n",
       "      <td>💧The Cranky Croation</td>\n",
       "      <td>JohnSarich2</td>\n",
       "      <td>NaN</td>\n",
       "      <td>NaN</td>\n",
       "      <td>My First ever vote was for Gough Whitlam. Left...</td>\n",
       "      <td>False</td>\n",
       "      <td>430</td>\n",
       "      <td>291</td>\n",
       "      <td>14866</td>\n",
       "      <td>6039</td>\n",
       "      <td>2019-02-22 04:36:05</td>\n",
       "      <td>True</td>\n",
       "      <td>False</td>\n",
       "    </tr>\n",
       "  </tbody>\n",
       "</table>\n",
       "</div>"
      ],
      "text/plain": [
       "                    id                  name     username location  url  \\\n",
       "0  1098803589609189376  💧The Cranky Croation  JohnSarich2      NaN  NaN   \n",
       "\n",
       "                                         description  verified  followers  \\\n",
       "0  My First ever vote was for Gough Whitlam. Left...     False        430   \n",
       "\n",
       "   friends  favourites_count  statuses_count           created_at  \\\n",
       "0      291             14866            6039  2019-02-22 04:36:05   \n",
       "\n",
       "   default_profile  default_profile_image  \n",
       "0             True                  False  "
      ]
     },
     "execution_count": 117,
     "metadata": {},
     "output_type": "execute_result"
    }
   ],
   "source": [
    "# load in the 5000 users without additional features\n",
    "users_5000 = pd.read_csv(\"DATA/5000_accounts_climate.csv\")\n",
    "users_5000.head(1)"
   ]
  },
  {
   "cell_type": "code",
   "execution_count": 148,
   "metadata": {},
   "outputs": [
    {
     "data": {
      "text/html": [
       "<div>\n",
       "<style scoped>\n",
       "    .dataframe tbody tr th:only-of-type {\n",
       "        vertical-align: middle;\n",
       "    }\n",
       "\n",
       "    .dataframe tbody tr th {\n",
       "        vertical-align: top;\n",
       "    }\n",
       "\n",
       "    .dataframe thead th {\n",
       "        text-align: right;\n",
       "    }\n",
       "</style>\n",
       "<table border=\"1\" class=\"dataframe\">\n",
       "  <thead>\n",
       "    <tr style=\"text-align: right;\">\n",
       "      <th></th>\n",
       "      <th>Unnamed: 0</th>\n",
       "      <th>id</th>\n",
       "      <th>name</th>\n",
       "      <th>screen_name</th>\n",
       "      <th>statuses_count</th>\n",
       "      <th>followers_count</th>\n",
       "      <th>friends_count</th>\n",
       "      <th>favourites_count</th>\n",
       "      <th>listed_count</th>\n",
       "      <th>url</th>\n",
       "      <th>...</th>\n",
       "      <th>description</th>\n",
       "      <th>created_at</th>\n",
       "      <th>class</th>\n",
       "      <th>tag_stock</th>\n",
       "      <th>tag_politics</th>\n",
       "      <th>tag_pronbot</th>\n",
       "      <th>tag_business</th>\n",
       "      <th>tag_fake_follower</th>\n",
       "      <th>tag_spambot</th>\n",
       "      <th>tag_traditional_spambot</th>\n",
       "    </tr>\n",
       "  </thead>\n",
       "  <tbody>\n",
       "    <tr>\n",
       "      <th>0</th>\n",
       "      <td>0</td>\n",
       "      <td>418</td>\n",
       "      <td>Dennis Crowley</td>\n",
       "      <td>dens</td>\n",
       "      <td>69341</td>\n",
       "      <td>85422</td>\n",
       "      <td>2623</td>\n",
       "      <td>14990</td>\n",
       "      <td>4491</td>\n",
       "      <td>https://t.co/63fYABYs9J</td>\n",
       "      <td>...</td>\n",
       "      <td>I like to build things (@Foursquare📱, @Stockad...</td>\n",
       "      <td>Wed Jul 05 19:52:46 +0000 2006</td>\n",
       "      <td>human</td>\n",
       "      <td>0.0</td>\n",
       "      <td>0.0</td>\n",
       "      <td>0.0</td>\n",
       "      <td>0.0</td>\n",
       "      <td>0.0</td>\n",
       "      <td>0.0</td>\n",
       "      <td>0.0</td>\n",
       "    </tr>\n",
       "  </tbody>\n",
       "</table>\n",
       "<p>1 rows × 39 columns</p>\n",
       "</div>"
      ],
      "text/plain": [
       "   Unnamed: 0   id            name screen_name  statuses_count  \\\n",
       "0           0  418  Dennis Crowley        dens           69341   \n",
       "\n",
       "   followers_count  friends_count  favourites_count  listed_count  \\\n",
       "0            85422           2623             14990          4491   \n",
       "\n",
       "                       url  ...  \\\n",
       "0  https://t.co/63fYABYs9J  ...   \n",
       "\n",
       "                                         description  \\\n",
       "0  I like to build things (@Foursquare📱, @Stockad...   \n",
       "\n",
       "                       created_at  class tag_stock tag_politics tag_pronbot  \\\n",
       "0  Wed Jul 05 19:52:46 +0000 2006  human       0.0          0.0         0.0   \n",
       "\n",
       "  tag_business tag_fake_follower tag_spambot tag_traditional_spambot  \n",
       "0          0.0               0.0         0.0                     0.0  \n",
       "\n",
       "[1 rows x 39 columns]"
      ]
     },
     "execution_count": 148,
     "metadata": {},
     "output_type": "execute_result"
    }
   ],
   "source": [
    "# These are the accounts (from training_users_tag) which we could source tweet data from training_tweets_tag\n",
    "users_train = pd.read_csv(\"DATA/training_users_tag.csv\")\n",
    "users_train.head(1)"
   ]
  },
  {
   "cell_type": "code",
   "execution_count": 149,
   "metadata": {},
   "outputs": [
    {
     "name": "stdout",
     "output_type": "stream",
     "text": [
      "['username', 'followers', 'verified', 'friends'] are not in the training data!\n"
     ]
    }
   ],
   "source": [
    "# See what columns match\n",
    "a = users_5000.columns\n",
    "b = users_train.columns\n",
    "\n",
    "missing = list(set(a) - set(b))\n",
    "print(missing,'are not in the training data!')"
   ]
  },
  {
   "cell_type": "markdown",
   "metadata": {},
   "source": [
    " - username = screen_name\n",
    " - followers = followers_count\n",
    " - no verified field\n",
    " - friends = friends_count"
   ]
  },
  {
   "cell_type": "code",
   "execution_count": 150,
   "metadata": {},
   "outputs": [],
   "source": [
    "# lets add the missing columns to our matches variable\n",
    "matches = list(set(a) & set(b))\n",
    "matches = matches + ['screen_name','followers_count','friends_count']"
   ]
  },
  {
   "cell_type": "code",
   "execution_count": 151,
   "metadata": {},
   "outputs": [],
   "source": [
    "# add the tag for just the class - tags for the type of bot\n",
    "tag = [users_train.columns[-8]]\n",
    "tags = list(users_train.columns[-8:])"
   ]
  },
  {
   "cell_type": "code",
   "execution_count": 152,
   "metadata": {},
   "outputs": [
    {
     "data": {
      "text/html": [
       "<div>\n",
       "<style scoped>\n",
       "    .dataframe tbody tr th:only-of-type {\n",
       "        vertical-align: middle;\n",
       "    }\n",
       "\n",
       "    .dataframe tbody tr th {\n",
       "        vertical-align: top;\n",
       "    }\n",
       "\n",
       "    .dataframe thead th {\n",
       "        text-align: right;\n",
       "    }\n",
       "</style>\n",
       "<table border=\"1\" class=\"dataframe\">\n",
       "  <thead>\n",
       "    <tr style=\"text-align: right;\">\n",
       "      <th></th>\n",
       "      <th>name</th>\n",
       "      <th>statuses_count</th>\n",
       "      <th>id</th>\n",
       "      <th>favourites_count</th>\n",
       "      <th>url</th>\n",
       "      <th>created_at</th>\n",
       "      <th>default_profile</th>\n",
       "      <th>default_profile_image</th>\n",
       "      <th>location</th>\n",
       "      <th>description</th>\n",
       "      <th>screen_name</th>\n",
       "      <th>followers_count</th>\n",
       "      <th>friends_count</th>\n",
       "      <th>class</th>\n",
       "    </tr>\n",
       "  </thead>\n",
       "  <tbody>\n",
       "    <tr>\n",
       "      <th>0</th>\n",
       "      <td>Dennis Crowley</td>\n",
       "      <td>69341</td>\n",
       "      <td>418</td>\n",
       "      <td>14990</td>\n",
       "      <td>https://t.co/63fYABYs9J</td>\n",
       "      <td>Wed Jul 05 19:52:46 +0000 2006</td>\n",
       "      <td>FALSE</td>\n",
       "      <td>FALSE</td>\n",
       "      <td>NYC / Kingston</td>\n",
       "      <td>I like to build things (@Foursquare📱, @Stockad...</td>\n",
       "      <td>dens</td>\n",
       "      <td>85422</td>\n",
       "      <td>2623</td>\n",
       "      <td>human</td>\n",
       "    </tr>\n",
       "  </tbody>\n",
       "</table>\n",
       "</div>"
      ],
      "text/plain": [
       "             name  statuses_count   id  favourites_count  \\\n",
       "0  Dennis Crowley           69341  418             14990   \n",
       "\n",
       "                       url                      created_at default_profile  \\\n",
       "0  https://t.co/63fYABYs9J  Wed Jul 05 19:52:46 +0000 2006           FALSE   \n",
       "\n",
       "  default_profile_image        location  \\\n",
       "0                 FALSE  NYC / Kingston   \n",
       "\n",
       "                                         description screen_name  \\\n",
       "0  I like to build things (@Foursquare📱, @Stockad...        dens   \n",
       "\n",
       "   followers_count  friends_count  class  \n",
       "0            85422           2623  human  "
      ]
     },
     "execution_count": 152,
     "metadata": {},
     "output_type": "execute_result"
    }
   ],
   "source": [
    "# add your choice to \n",
    "matches = matches + tag\n",
    "# apply this to the training data so we have standardised columns\n",
    "users_train_2 = users_train[matches]"
   ]
  },
  {
   "cell_type": "code",
   "execution_count": 153,
   "metadata": {},
   "outputs": [],
   "source": [
    "# we'll drop verified for now, even though it will be useful - we can add back later.\n",
    "users_5000_2 = users_5000.drop(columns=['verified'])"
   ]
  },
  {
   "cell_type": "code",
   "execution_count": 155,
   "metadata": {},
   "outputs": [
    {
     "data": {
      "text/html": [
       "<div>\n",
       "<style scoped>\n",
       "    .dataframe tbody tr th:only-of-type {\n",
       "        vertical-align: middle;\n",
       "    }\n",
       "\n",
       "    .dataframe tbody tr th {\n",
       "        vertical-align: top;\n",
       "    }\n",
       "\n",
       "    .dataframe thead th {\n",
       "        text-align: right;\n",
       "    }\n",
       "</style>\n",
       "<table border=\"1\" class=\"dataframe\">\n",
       "  <thead>\n",
       "    <tr style=\"text-align: right;\">\n",
       "      <th></th>\n",
       "      <th>name</th>\n",
       "      <th>statuses_count</th>\n",
       "      <th>id</th>\n",
       "      <th>favourites_count</th>\n",
       "      <th>url</th>\n",
       "      <th>created_at</th>\n",
       "      <th>default_profile</th>\n",
       "      <th>default_profile_image</th>\n",
       "      <th>location</th>\n",
       "      <th>description</th>\n",
       "      <th>username</th>\n",
       "      <th>followers</th>\n",
       "      <th>friends</th>\n",
       "      <th>class</th>\n",
       "    </tr>\n",
       "  </thead>\n",
       "  <tbody>\n",
       "    <tr>\n",
       "      <th>0</th>\n",
       "      <td>Dennis Crowley</td>\n",
       "      <td>69341</td>\n",
       "      <td>418</td>\n",
       "      <td>14990</td>\n",
       "      <td>https://t.co/63fYABYs9J</td>\n",
       "      <td>Wed Jul 05 19:52:46 +0000 2006</td>\n",
       "      <td>FALSE</td>\n",
       "      <td>FALSE</td>\n",
       "      <td>NYC / Kingston</td>\n",
       "      <td>I like to build things (@Foursquare📱, @Stockad...</td>\n",
       "      <td>dens</td>\n",
       "      <td>85422</td>\n",
       "      <td>2623</td>\n",
       "      <td>human</td>\n",
       "    </tr>\n",
       "  </tbody>\n",
       "</table>\n",
       "</div>"
      ],
      "text/plain": [
       "             name  statuses_count   id  favourites_count  \\\n",
       "0  Dennis Crowley           69341  418             14990   \n",
       "\n",
       "                       url                      created_at default_profile  \\\n",
       "0  https://t.co/63fYABYs9J  Wed Jul 05 19:52:46 +0000 2006           FALSE   \n",
       "\n",
       "  default_profile_image        location  \\\n",
       "0                 FALSE  NYC / Kingston   \n",
       "\n",
       "                                         description username  followers  \\\n",
       "0  I like to build things (@Foursquare📱, @Stockad...     dens      85422   \n",
       "\n",
       "   friends  class  \n",
       "0     2623  human  "
      ]
     },
     "execution_count": 155,
     "metadata": {},
     "output_type": "execute_result"
    }
   ],
   "source": [
    "# rename the columns to the same\n",
    "users_train_2.columns = ['name','statuses_count','id','favourites_count','url',\n",
    "                         'created_at','default_profile','default_profile_image',\n",
    "                         'location','description','username','followers','friends','class']\n",
    "users_train_2.head(1)"
   ]
  },
  {
   "cell_type": "markdown",
   "metadata": {},
   "source": [
    "So we now have our training data and climate emergency accounts in a normalised format. Next job is to feature engineer both."
   ]
  },
  {
   "cell_type": "code",
   "execution_count": null,
   "metadata": {},
   "outputs": [],
   "source": [
    "# create functions for adding features to both datasets - we can add more features as more are developed!\n"
   ]
  },
  {
   "cell_type": "code",
   "execution_count": null,
   "metadata": {},
   "outputs": [],
   "source": []
  },
  {
   "cell_type": "code",
   "execution_count": null,
   "metadata": {},
   "outputs": [],
   "source": []
  },
  {
   "cell_type": "code",
   "execution_count": null,
   "metadata": {},
   "outputs": [],
   "source": []
  },
  {
   "cell_type": "markdown",
   "metadata": {},
   "source": [
    "**Lets load in the additional features created using the recent tweets of each user**\n",
    "\n",
    "Don't load in the actual tweets - 5000 + 18000 * 200 = a bit too much"
   ]
  },
  {
   "cell_type": "code",
   "execution_count": null,
   "metadata": {},
   "outputs": [],
   "source": [
    "# load in csvs of tweet related features aggregated by username which we can join without loading alot of tweets in"
   ]
  },
  {
   "cell_type": "code",
   "execution_count": 159,
   "metadata": {},
   "outputs": [],
   "source": [
    "# tweet_frequency for both datasets\n",
    "frequency_5000 = pd.read_csv(\"DATA/5000_tweets_frequency.csv\")\n",
    "#frequency_users = pd.read_csv(\"DATA/training_tweets_frequency.csv\")"
   ]
  },
  {
   "cell_type": "code",
   "execution_count": null,
   "metadata": {},
   "outputs": [],
   "source": []
  },
  {
   "cell_type": "code",
   "execution_count": null,
   "metadata": {},
   "outputs": [],
   "source": []
  },
  {
   "cell_type": "code",
   "execution_count": null,
   "metadata": {},
   "outputs": [],
   "source": []
  },
  {
   "cell_type": "code",
   "execution_count": null,
   "metadata": {},
   "outputs": [],
   "source": []
  }
 ],
 "metadata": {
  "kernelspec": {
   "display_name": "Python 3",
   "language": "python",
   "name": "python3"
  },
  "language_info": {
   "codemirror_mode": {
    "name": "ipython",
    "version": 3
   },
   "file_extension": ".py",
   "mimetype": "text/x-python",
   "name": "python",
   "nbconvert_exporter": "python",
   "pygments_lexer": "ipython3",
   "version": "3.7.6"
  }
 },
 "nbformat": 4,
 "nbformat_minor": 4
}
